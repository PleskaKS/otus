{
 "cells": [
  {
   "cell_type": "markdown",
   "metadata": {},
   "source": [
    "**Описание проекта**"
   ]
  },
  {
   "cell_type": "markdown",
   "metadata": {},
   "source": [
    "Спрогнозировать, уйдёт клиент интернет-проекта в ближайшее время и построить модель с предельно большим значением *F1*-меры. \n"
   ]
  },
  {
   "cell_type": "markdown",
   "metadata": {},
   "source": [
    "**Этапы проекта**"
   ]
  },
  {
   "cell_type": "markdown",
   "metadata": {},
   "source": [
    "1. Подготовлены данные. В том числе, загружены библиотеки и их компоненты, проанализированы и предварительно обработаны данные. \n",
    "1. Исследована задача проекта. Изучены модели без учёта дисбаланса. Подобраны параметров моделей решающего дерева, случайного леса и логистической регрессии для улучшения их качества. Исследован баланс классов. \n",
    "1. Проведена борьба с дисбалансом классов за счет увеличения обучающей выборки класса \"1\", а также за счет уменьшения обучающей выборки класса \"0\". Сравнены показатели качества моделей с разными способами балансировки обучающей выборки и без балансировки."
   ]
  },
  {
   "cell_type": "markdown",
   "metadata": {},
   "source": [
    "Описание атрибутов датафрейма:\n",
    "1. `Number` — индекс строки \n",
    "1. `Id` — Id клиента\n",
    "1. `UUID` — уникальный идентификатор клиента\n",
    "1. `City` — город проживания клиента\n",
    "1. `Gender` — пол\n",
    "1. `Age` — возраст\n",
    "1. `YearsRegistration` — сколько лет зарегистрирован\n",
    "1. `NumOfProducts` — количество продуктов, используемых клиентом \n",
    "1. `HasCrCard` — наличие привязанной карты для оплаты услуг\n",
    "1. `IsActiveMember` — активность клиента\n",
    "1. `Exited` — признак удаления личного кабинета"
   ]
  },
  {
   "cell_type": "markdown",
   "metadata": {},
   "source": [
    "## Подготовка данных"
   ]
  },
  {
   "cell_type": "code",
   "execution_count": 1,
   "metadata": {},
   "outputs": [],
   "source": [
    "import pandas as pd\n",
    "import numpy as nm\n",
    "\n",
    "import re\n",
    "from sklearn.preprocessing import(\n",
    "    OrdinalEncoder, \n",
    "    LabelEncoder, \n",
    "    OneHotEncoder, \n",
    "    StandardScaler\n",
    ") \n",
    "from sklearn.model_selection import train_test_split\n",
    "from sklearn.utils import shuffle\n",
    "\n",
    "from sklearn.tree import DecisionTreeClassifier\n",
    "from sklearn.ensemble import RandomForestClassifier\n",
    "from sklearn.linear_model import LogisticRegression\n",
    "\n",
    "from sklearn.metrics import(\n",
    "    mean_absolute_error, \n",
    "    accuracy_score, \n",
    "    f1_score, \n",
    "    roc_curve,\n",
    "    roc_auc_score\n",
    ") \n",
    "\n",
    "import seaborn as sns\n",
    "import matplotlib.pyplot as plt"
   ]
  },
  {
   "cell_type": "code",
   "execution_count": 2,
   "metadata": {},
   "outputs": [
    {
     "name": "stdout",
     "output_type": "stream",
     "text": [
      "<class 'pandas.core.frame.DataFrame'>\n",
      "RangeIndex: 10000 entries, 0 to 9999\n",
      "Data columns (total 11 columns):\n",
      " #   Column             Non-Null Count  Dtype  \n",
      "---  ------             --------------  -----  \n",
      " 0   Number             10000 non-null  int64  \n",
      " 1   Id                 10000 non-null  int64  \n",
      " 2   uuid               10000 non-null  object \n",
      " 3   City               10000 non-null  object \n",
      " 4   Gender             10000 non-null  object \n",
      " 5   Age                10000 non-null  int64  \n",
      " 6   YearsRegistration  9980 non-null   float64\n",
      " 7   NumOfProducts      10000 non-null  int64  \n",
      " 8   HasCard            10000 non-null  int64  \n",
      " 9   IsActive           10000 non-null  int64  \n",
      " 10  Exited             10000 non-null  int64  \n",
      "dtypes: float64(1), int64(7), object(3)\n",
      "memory usage: 859.5+ KB\n",
      "None\n"
     ]
    },
    {
     "data": {
      "text/html": [
       "<div>\n",
       "<style scoped>\n",
       "    .dataframe tbody tr th:only-of-type {\n",
       "        vertical-align: middle;\n",
       "    }\n",
       "\n",
       "    .dataframe tbody tr th {\n",
       "        vertical-align: top;\n",
       "    }\n",
       "\n",
       "    .dataframe thead th {\n",
       "        text-align: right;\n",
       "    }\n",
       "</style>\n",
       "<table border=\"1\" class=\"dataframe\">\n",
       "  <thead>\n",
       "    <tr style=\"text-align: right;\">\n",
       "      <th></th>\n",
       "      <th>Number</th>\n",
       "      <th>Id</th>\n",
       "      <th>uuid</th>\n",
       "      <th>City</th>\n",
       "      <th>Gender</th>\n",
       "      <th>Age</th>\n",
       "      <th>YearsRegistration</th>\n",
       "      <th>NumOfProducts</th>\n",
       "      <th>HasCard</th>\n",
       "      <th>IsActive</th>\n",
       "      <th>Exited</th>\n",
       "    </tr>\n",
       "  </thead>\n",
       "  <tbody>\n",
       "    <tr>\n",
       "      <th>0</th>\n",
       "      <td>1</td>\n",
       "      <td>15634602</td>\n",
       "      <td>fdcd57e82ffc3f0a94b4c3d966a7c6d891d1e54894492f...</td>\n",
       "      <td>Екатеринбург</td>\n",
       "      <td>Female</td>\n",
       "      <td>42</td>\n",
       "      <td>2.0</td>\n",
       "      <td>1</td>\n",
       "      <td>1</td>\n",
       "      <td>1</td>\n",
       "      <td>1</td>\n",
       "    </tr>\n",
       "    <tr>\n",
       "      <th>1</th>\n",
       "      <td>2</td>\n",
       "      <td>15647311</td>\n",
       "      <td>21f5358c1fd3b713a0b8d13634c18d381383d67b2ab0f0...</td>\n",
       "      <td>Санкт-Петербург</td>\n",
       "      <td>Female</td>\n",
       "      <td>41</td>\n",
       "      <td>1.0</td>\n",
       "      <td>1</td>\n",
       "      <td>0</td>\n",
       "      <td>1</td>\n",
       "      <td>0</td>\n",
       "    </tr>\n",
       "    <tr>\n",
       "      <th>2</th>\n",
       "      <td>3</td>\n",
       "      <td>15619304</td>\n",
       "      <td>b839933c7be156a656ee5b30a2c7c034ba1851c635166e...</td>\n",
       "      <td>Екатеринбург</td>\n",
       "      <td>Female</td>\n",
       "      <td>42</td>\n",
       "      <td>8.0</td>\n",
       "      <td>3</td>\n",
       "      <td>1</td>\n",
       "      <td>0</td>\n",
       "      <td>1</td>\n",
       "    </tr>\n",
       "    <tr>\n",
       "      <th>3</th>\n",
       "      <td>4</td>\n",
       "      <td>15701354</td>\n",
       "      <td>cb1edc7273ba5f307f4914574aaf642914fbfb38ab7572...</td>\n",
       "      <td>Екатеринбург</td>\n",
       "      <td>Female</td>\n",
       "      <td>39</td>\n",
       "      <td>1.0</td>\n",
       "      <td>2</td>\n",
       "      <td>0</td>\n",
       "      <td>0</td>\n",
       "      <td>0</td>\n",
       "    </tr>\n",
       "    <tr>\n",
       "      <th>4</th>\n",
       "      <td>5</td>\n",
       "      <td>15737888</td>\n",
       "      <td>483d4bce16af8025b73a0b055655a34de45b7c3628e091...</td>\n",
       "      <td>Санкт-Петербург</td>\n",
       "      <td>Female</td>\n",
       "      <td>43</td>\n",
       "      <td>2.0</td>\n",
       "      <td>1</td>\n",
       "      <td>1</td>\n",
       "      <td>1</td>\n",
       "      <td>0</td>\n",
       "    </tr>\n",
       "  </tbody>\n",
       "</table>\n",
       "</div>"
      ],
      "text/plain": [
       "   Number        Id                                               uuid  \\\n",
       "0       1  15634602  fdcd57e82ffc3f0a94b4c3d966a7c6d891d1e54894492f...   \n",
       "1       2  15647311  21f5358c1fd3b713a0b8d13634c18d381383d67b2ab0f0...   \n",
       "2       3  15619304  b839933c7be156a656ee5b30a2c7c034ba1851c635166e...   \n",
       "3       4  15701354  cb1edc7273ba5f307f4914574aaf642914fbfb38ab7572...   \n",
       "4       5  15737888  483d4bce16af8025b73a0b055655a34de45b7c3628e091...   \n",
       "\n",
       "              City  Gender  Age  YearsRegistration  NumOfProducts  HasCard  \\\n",
       "0     Екатеринбург  Female   42                2.0              1        1   \n",
       "1  Санкт-Петербург  Female   41                1.0              1        0   \n",
       "2     Екатеринбург  Female   42                8.0              3        1   \n",
       "3     Екатеринбург  Female   39                1.0              2        0   \n",
       "4  Санкт-Петербург  Female   43                2.0              1        1   \n",
       "\n",
       "   IsActive  Exited  \n",
       "0         1       1  \n",
       "1         1       0  \n",
       "2         0       1  \n",
       "3         0       0  \n",
       "4         1       0  "
      ]
     },
     "execution_count": 2,
     "metadata": {},
     "output_type": "execute_result"
    }
   ],
   "source": [
    "path = 'C:/Users/pleskaks/Desktop/otus/dataset_new.xlsx'\n",
    "data = pd.read_excel(path)\n",
    "print(data.info()) \n",
    "data.head() "
   ]
  },
  {
   "cell_type": "code",
   "execution_count": 3,
   "metadata": {},
   "outputs": [
    {
     "data": {
      "text/html": [
       "<div>\n",
       "<style scoped>\n",
       "    .dataframe tbody tr th:only-of-type {\n",
       "        vertical-align: middle;\n",
       "    }\n",
       "\n",
       "    .dataframe tbody tr th {\n",
       "        vertical-align: top;\n",
       "    }\n",
       "\n",
       "    .dataframe thead th {\n",
       "        text-align: right;\n",
       "    }\n",
       "</style>\n",
       "<table border=\"1\" class=\"dataframe\">\n",
       "  <thead>\n",
       "    <tr style=\"text-align: right;\">\n",
       "      <th></th>\n",
       "      <th>Number</th>\n",
       "      <th>Id</th>\n",
       "      <th>Age</th>\n",
       "      <th>YearsRegistration</th>\n",
       "      <th>NumOfProducts</th>\n",
       "      <th>HasCard</th>\n",
       "      <th>IsActive</th>\n",
       "      <th>Exited</th>\n",
       "    </tr>\n",
       "  </thead>\n",
       "  <tbody>\n",
       "    <tr>\n",
       "      <th>count</th>\n",
       "      <td>10000.00000</td>\n",
       "      <td>1.000000e+04</td>\n",
       "      <td>10000.000000</td>\n",
       "      <td>9980.000000</td>\n",
       "      <td>10000.000000</td>\n",
       "      <td>10000.00000</td>\n",
       "      <td>10000.000000</td>\n",
       "      <td>10000.000000</td>\n",
       "    </tr>\n",
       "    <tr>\n",
       "      <th>mean</th>\n",
       "      <td>5000.50000</td>\n",
       "      <td>1.569094e+07</td>\n",
       "      <td>38.921800</td>\n",
       "      <td>5.013527</td>\n",
       "      <td>1.530200</td>\n",
       "      <td>0.70550</td>\n",
       "      <td>0.515100</td>\n",
       "      <td>0.203700</td>\n",
       "    </tr>\n",
       "    <tr>\n",
       "      <th>std</th>\n",
       "      <td>2886.89568</td>\n",
       "      <td>7.193619e+04</td>\n",
       "      <td>10.487806</td>\n",
       "      <td>2.892453</td>\n",
       "      <td>0.581654</td>\n",
       "      <td>0.45584</td>\n",
       "      <td>0.499797</td>\n",
       "      <td>0.402769</td>\n",
       "    </tr>\n",
       "    <tr>\n",
       "      <th>min</th>\n",
       "      <td>1.00000</td>\n",
       "      <td>1.556570e+07</td>\n",
       "      <td>18.000000</td>\n",
       "      <td>0.000000</td>\n",
       "      <td>1.000000</td>\n",
       "      <td>0.00000</td>\n",
       "      <td>0.000000</td>\n",
       "      <td>0.000000</td>\n",
       "    </tr>\n",
       "    <tr>\n",
       "      <th>25%</th>\n",
       "      <td>2500.75000</td>\n",
       "      <td>1.562853e+07</td>\n",
       "      <td>32.000000</td>\n",
       "      <td>3.000000</td>\n",
       "      <td>1.000000</td>\n",
       "      <td>0.00000</td>\n",
       "      <td>0.000000</td>\n",
       "      <td>0.000000</td>\n",
       "    </tr>\n",
       "    <tr>\n",
       "      <th>50%</th>\n",
       "      <td>5000.50000</td>\n",
       "      <td>1.569074e+07</td>\n",
       "      <td>37.000000</td>\n",
       "      <td>5.000000</td>\n",
       "      <td>1.000000</td>\n",
       "      <td>1.00000</td>\n",
       "      <td>1.000000</td>\n",
       "      <td>0.000000</td>\n",
       "    </tr>\n",
       "    <tr>\n",
       "      <th>75%</th>\n",
       "      <td>7500.25000</td>\n",
       "      <td>1.575323e+07</td>\n",
       "      <td>44.000000</td>\n",
       "      <td>8.000000</td>\n",
       "      <td>2.000000</td>\n",
       "      <td>1.00000</td>\n",
       "      <td>1.000000</td>\n",
       "      <td>0.000000</td>\n",
       "    </tr>\n",
       "    <tr>\n",
       "      <th>max</th>\n",
       "      <td>10000.00000</td>\n",
       "      <td>1.581569e+07</td>\n",
       "      <td>92.000000</td>\n",
       "      <td>10.000000</td>\n",
       "      <td>4.000000</td>\n",
       "      <td>1.00000</td>\n",
       "      <td>1.000000</td>\n",
       "      <td>1.000000</td>\n",
       "    </tr>\n",
       "  </tbody>\n",
       "</table>\n",
       "</div>"
      ],
      "text/plain": [
       "            Number            Id           Age  YearsRegistration  \\\n",
       "count  10000.00000  1.000000e+04  10000.000000        9980.000000   \n",
       "mean    5000.50000  1.569094e+07     38.921800           5.013527   \n",
       "std     2886.89568  7.193619e+04     10.487806           2.892453   \n",
       "min        1.00000  1.556570e+07     18.000000           0.000000   \n",
       "25%     2500.75000  1.562853e+07     32.000000           3.000000   \n",
       "50%     5000.50000  1.569074e+07     37.000000           5.000000   \n",
       "75%     7500.25000  1.575323e+07     44.000000           8.000000   \n",
       "max    10000.00000  1.581569e+07     92.000000          10.000000   \n",
       "\n",
       "       NumOfProducts      HasCard      IsActive        Exited  \n",
       "count   10000.000000  10000.00000  10000.000000  10000.000000  \n",
       "mean        1.530200      0.70550      0.515100      0.203700  \n",
       "std         0.581654      0.45584      0.499797      0.402769  \n",
       "min         1.000000      0.00000      0.000000      0.000000  \n",
       "25%         1.000000      0.00000      0.000000      0.000000  \n",
       "50%         1.000000      1.00000      1.000000      0.000000  \n",
       "75%         2.000000      1.00000      1.000000      0.000000  \n",
       "max         4.000000      1.00000      1.000000      1.000000  "
      ]
     },
     "execution_count": 3,
     "metadata": {},
     "output_type": "execute_result"
    }
   ],
   "source": [
    "data.describe()"
   ]
  },
  {
   "cell_type": "markdown",
   "metadata": {},
   "source": [
    "Атрибуты отличаются друг от друга размерностью. Cбалансируем их для улучшения качества моделей. "
   ]
  },
  {
   "cell_type": "code",
   "execution_count": 4,
   "metadata": {},
   "outputs": [
    {
     "name": "stdout",
     "output_type": "stream",
     "text": [
      "Gender : 2\n",
      "['Female' 'Male']\n",
      "\n",
      "City : 3\n",
      "['Екатеринбург' 'Санкт-Петербург' 'Москва']\n",
      "\n"
     ]
    }
   ],
   "source": [
    "attr = 'Gender'\n",
    "print(attr, ':', len(data[attr].unique())) \n",
    "print(data[attr].unique()) \n",
    "print() \n",
    "\n",
    "attr = 'City'\n",
    "print(attr, ':', len(data[attr].unique())) \n",
    "print(data[attr].unique()) \n",
    "print() "
   ]
  },
  {
   "cell_type": "markdown",
   "metadata": {},
   "source": [
    "Атрибуты `Gender` и `City` преобразуем методом порядкового кодирования. \n",
    "Менее 1% объектов содержат пропуски в атрибуте `YearsRegistration `. Удаление этих объектов не приведёт к потере качества данных датафрейма, а все оставшиеся можно использовать в машиностроению обучении. \n",
    "Названия атрибутов не соответствуют \"snake case\". Приведем их к нижнему регистру. \n",
    "Атрибут `uuid` предлагается удалить из датафрейма в силу его предполагаемой недостаточной значимости. "
   ]
  },
  {
   "cell_type": "markdown",
   "metadata": {},
   "source": [
    "### Предварительная обработка данных"
   ]
  },
  {
   "cell_type": "code",
   "execution_count": 5,
   "metadata": {},
   "outputs": [
    {
     "data": {
      "text/plain": [
       "Index(['number', 'id', 'uuid', 'city', 'gender', 'age', 'years_registration',\n",
       "       'num_of_products', 'has_card', 'is_active', 'exited'],\n",
       "      dtype='object')"
      ]
     },
     "execution_count": 5,
     "metadata": {},
     "output_type": "execute_result"
    }
   ],
   "source": [
    "data.columns = [re.sub(r'(?<!^)(?=[A-Z])', '_', i).lower() for i in data.columns] \n",
    "data.columns"
   ]
  },
  {
   "cell_type": "code",
   "execution_count": 6,
   "metadata": {},
   "outputs": [],
   "source": [
    "data = data.loc[data['years_registration'].notnull()]"
   ]
  },
  {
   "cell_type": "code",
   "execution_count": 7,
   "metadata": {},
   "outputs": [],
   "source": [
    "data = data.drop('uuid', axis=1) "
   ]
  },
  {
   "cell_type": "code",
   "execution_count": 8,
   "metadata": {},
   "outputs": [
    {
     "name": "stdout",
     "output_type": "stream",
     "text": [
      "<class 'pandas.core.frame.DataFrame'>\n",
      "Int64Index: 9980 entries, 0 to 9999\n",
      "Data columns (total 10 columns):\n",
      " #   Column              Non-Null Count  Dtype  \n",
      "---  ------              --------------  -----  \n",
      " 0   number              9980 non-null   int64  \n",
      " 1   id                  9980 non-null   int64  \n",
      " 2   city                9980 non-null   object \n",
      " 3   gender              9980 non-null   object \n",
      " 4   age                 9980 non-null   int64  \n",
      " 5   years_registration  9980 non-null   float64\n",
      " 6   num_of_products     9980 non-null   int64  \n",
      " 7   has_card            9980 non-null   int64  \n",
      " 8   is_active           9980 non-null   int64  \n",
      " 9   exited              9980 non-null   int64  \n",
      "dtypes: float64(1), int64(7), object(2)\n",
      "memory usage: 857.7+ KB\n"
     ]
    }
   ],
   "source": [
    "data.info() "
   ]
  },
  {
   "cell_type": "markdown",
   "metadata": {},
   "source": [
    "Не смотря на то, что все параметры далее будут переведены в числовые значения, в данной задаче требуется классификация по целевому признаку. Поэтому для решения задачи подойдут модели `DecisionTreeClassifier`, `RandomForestClassifier` и `LogisticRegression`."
   ]
  },
  {
   "cell_type": "markdown",
   "metadata": {},
   "source": [
    "#### Разделение датафрейма на обучающие, валидационные и тестовые выборки"
   ]
  },
  {
   "cell_type": "code",
   "execution_count": 11,
   "metadata": {},
   "outputs": [
    {
     "name": "stdout",
     "output_type": "stream",
     "text": [
      "Размеры выборок:\n",
      "features.     : (9980, 9)\n",
      "target.       : (9980,)\n",
      "features_train: (5988, 9)\n",
      "target_train  : (5988,)\n",
      "features_test : (1996, 9)\n",
      "target_test   : (1996,)\n",
      "features_valid: (1996, 9)\n",
      "target_valid  : (1996,)\n",
      "\n",
      "features_test:\n"
     ]
    },
    {
     "data": {
      "text/html": [
       "<div>\n",
       "<style scoped>\n",
       "    .dataframe tbody tr th:only-of-type {\n",
       "        vertical-align: middle;\n",
       "    }\n",
       "\n",
       "    .dataframe tbody tr th {\n",
       "        vertical-align: top;\n",
       "    }\n",
       "\n",
       "    .dataframe thead th {\n",
       "        text-align: right;\n",
       "    }\n",
       "</style>\n",
       "<table border=\"1\" class=\"dataframe\">\n",
       "  <thead>\n",
       "    <tr style=\"text-align: right;\">\n",
       "      <th></th>\n",
       "      <th>number</th>\n",
       "      <th>id</th>\n",
       "      <th>city</th>\n",
       "      <th>gender</th>\n",
       "      <th>age</th>\n",
       "      <th>years_registration</th>\n",
       "      <th>num_of_products</th>\n",
       "      <th>has_card</th>\n",
       "      <th>is_active</th>\n",
       "    </tr>\n",
       "  </thead>\n",
       "  <tbody>\n",
       "    <tr>\n",
       "      <th>8335</th>\n",
       "      <td>8336</td>\n",
       "      <td>15737414</td>\n",
       "      <td>Екатеринбург</td>\n",
       "      <td>Male</td>\n",
       "      <td>35</td>\n",
       "      <td>4.0</td>\n",
       "      <td>1</td>\n",
       "      <td>1</td>\n",
       "      <td>0</td>\n",
       "    </tr>\n",
       "    <tr>\n",
       "      <th>6136</th>\n",
       "      <td>6137</td>\n",
       "      <td>15773071</td>\n",
       "      <td>Санкт-Петербург</td>\n",
       "      <td>Female</td>\n",
       "      <td>33</td>\n",
       "      <td>6.0</td>\n",
       "      <td>1</td>\n",
       "      <td>1</td>\n",
       "      <td>1</td>\n",
       "    </tr>\n",
       "    <tr>\n",
       "      <th>2447</th>\n",
       "      <td>2448</td>\n",
       "      <td>15715769</td>\n",
       "      <td>Екатеринбург</td>\n",
       "      <td>Male</td>\n",
       "      <td>26</td>\n",
       "      <td>2.0</td>\n",
       "      <td>1</td>\n",
       "      <td>0</td>\n",
       "      <td>1</td>\n",
       "    </tr>\n",
       "    <tr>\n",
       "      <th>2792</th>\n",
       "      <td>2793</td>\n",
       "      <td>15742820</td>\n",
       "      <td>Екатеринбург</td>\n",
       "      <td>Female</td>\n",
       "      <td>45</td>\n",
       "      <td>2.0</td>\n",
       "      <td>2</td>\n",
       "      <td>0</td>\n",
       "      <td>1</td>\n",
       "    </tr>\n",
       "    <tr>\n",
       "      <th>7317</th>\n",
       "      <td>7318</td>\n",
       "      <td>15734008</td>\n",
       "      <td>Москва</td>\n",
       "      <td>Male</td>\n",
       "      <td>59</td>\n",
       "      <td>5.0</td>\n",
       "      <td>1</td>\n",
       "      <td>1</td>\n",
       "      <td>0</td>\n",
       "    </tr>\n",
       "  </tbody>\n",
       "</table>\n",
       "</div>"
      ],
      "text/plain": [
       "      number        id             city  gender  age  years_registration  \\\n",
       "8335    8336  15737414     Екатеринбург    Male   35                 4.0   \n",
       "6136    6137  15773071  Санкт-Петербург  Female   33                 6.0   \n",
       "2447    2448  15715769     Екатеринбург    Male   26                 2.0   \n",
       "2792    2793  15742820     Екатеринбург  Female   45                 2.0   \n",
       "7317    7318  15734008           Москва    Male   59                 5.0   \n",
       "\n",
       "      num_of_products  has_card  is_active  \n",
       "8335                1         1          0  \n",
       "6136                1         1          1  \n",
       "2447                1         0          1  \n",
       "2792                2         0          1  \n",
       "7317                1         1          0  "
      ]
     },
     "execution_count": 11,
     "metadata": {},
     "output_type": "execute_result"
    }
   ],
   "source": [
    "target = data['exited'] \n",
    "features = data.drop(['exited'], axis=1) \n",
    "\n",
    "features_train, features_test, target_train, target_test = train_test_split(\n",
    "    features, \n",
    "    target, \n",
    "    test_size=.4,\n",
    "    stratify=target, \n",
    "    random_state=12345\n",
    ") \n",
    "features_test, features_valid, target_test, target_valid = train_test_split(\n",
    "    features_test, \n",
    "    target_test, \n",
    "    test_size=.5,\n",
    "    stratify=target_test, \n",
    "    random_state=12345\n",
    ")\n",
    "\n",
    "print('Размеры выборок:')\n",
    "print('features.     :', features.shape)\n",
    "print('target.       :', target.shape)\n",
    "print('features_train:', features_train.shape)\n",
    "print('target_train  :', target_train.shape)\n",
    "print('features_test :', features_test.shape)\n",
    "print('target_test   :', target_test.shape)\n",
    "print('features_valid:', features_valid.shape)\n",
    "print('target_valid  :', target_valid.shape)\n",
    "print('\\nfeatures_test:')\n",
    "features_test.head()"
   ]
  },
  {
   "cell_type": "markdown",
   "metadata": {},
   "source": [
    "Порядковое кодирование категориальных признаков \"gender\" и \"city\" для \"деревянных\" моделей"
   ]
  },
  {
   "cell_type": "code",
   "execution_count": 33,
   "metadata": {},
   "outputs": [
    {
     "name": "stdout",
     "output_type": "stream",
     "text": [
      "features_test_wooden:\n"
     ]
    },
    {
     "data": {
      "text/html": [
       "<div>\n",
       "<style scoped>\n",
       "    .dataframe tbody tr th:only-of-type {\n",
       "        vertical-align: middle;\n",
       "    }\n",
       "\n",
       "    .dataframe tbody tr th {\n",
       "        vertical-align: top;\n",
       "    }\n",
       "\n",
       "    .dataframe thead th {\n",
       "        text-align: right;\n",
       "    }\n",
       "</style>\n",
       "<table border=\"1\" class=\"dataframe\">\n",
       "  <thead>\n",
       "    <tr style=\"text-align: right;\">\n",
       "      <th></th>\n",
       "      <th>number</th>\n",
       "      <th>id</th>\n",
       "      <th>city</th>\n",
       "      <th>gender</th>\n",
       "      <th>age</th>\n",
       "      <th>years_registration</th>\n",
       "      <th>num_of_products</th>\n",
       "      <th>has_card</th>\n",
       "      <th>is_active</th>\n",
       "    </tr>\n",
       "  </thead>\n",
       "  <tbody>\n",
       "    <tr>\n",
       "      <th>8335</th>\n",
       "      <td>-1.0</td>\n",
       "      <td>-1.0</td>\n",
       "      <td>0.0</td>\n",
       "      <td>1.0</td>\n",
       "      <td>17.0</td>\n",
       "      <td>4.0</td>\n",
       "      <td>0.0</td>\n",
       "      <td>1.0</td>\n",
       "      <td>0.0</td>\n",
       "    </tr>\n",
       "    <tr>\n",
       "      <th>6136</th>\n",
       "      <td>-1.0</td>\n",
       "      <td>-1.0</td>\n",
       "      <td>2.0</td>\n",
       "      <td>0.0</td>\n",
       "      <td>15.0</td>\n",
       "      <td>6.0</td>\n",
       "      <td>0.0</td>\n",
       "      <td>1.0</td>\n",
       "      <td>1.0</td>\n",
       "    </tr>\n",
       "    <tr>\n",
       "      <th>2447</th>\n",
       "      <td>-1.0</td>\n",
       "      <td>-1.0</td>\n",
       "      <td>0.0</td>\n",
       "      <td>1.0</td>\n",
       "      <td>8.0</td>\n",
       "      <td>2.0</td>\n",
       "      <td>0.0</td>\n",
       "      <td>0.0</td>\n",
       "      <td>1.0</td>\n",
       "    </tr>\n",
       "    <tr>\n",
       "      <th>2792</th>\n",
       "      <td>-1.0</td>\n",
       "      <td>-1.0</td>\n",
       "      <td>0.0</td>\n",
       "      <td>0.0</td>\n",
       "      <td>27.0</td>\n",
       "      <td>2.0</td>\n",
       "      <td>1.0</td>\n",
       "      <td>0.0</td>\n",
       "      <td>1.0</td>\n",
       "    </tr>\n",
       "    <tr>\n",
       "      <th>7317</th>\n",
       "      <td>-1.0</td>\n",
       "      <td>-1.0</td>\n",
       "      <td>1.0</td>\n",
       "      <td>1.0</td>\n",
       "      <td>41.0</td>\n",
       "      <td>5.0</td>\n",
       "      <td>0.0</td>\n",
       "      <td>1.0</td>\n",
       "      <td>0.0</td>\n",
       "    </tr>\n",
       "  </tbody>\n",
       "</table>\n",
       "</div>"
      ],
      "text/plain": [
       "      number   id  city  gender   age  years_registration  num_of_products  \\\n",
       "8335    -1.0 -1.0   0.0     1.0  17.0                 4.0              0.0   \n",
       "6136    -1.0 -1.0   2.0     0.0  15.0                 6.0              0.0   \n",
       "2447    -1.0 -1.0   0.0     1.0   8.0                 2.0              0.0   \n",
       "2792    -1.0 -1.0   0.0     0.0  27.0                 2.0              1.0   \n",
       "7317    -1.0 -1.0   1.0     1.0  41.0                 5.0              0.0   \n",
       "\n",
       "      has_card  is_active  \n",
       "8335       1.0        0.0  \n",
       "6136       1.0        1.0  \n",
       "2447       0.0        1.0  \n",
       "2792       0.0        1.0  \n",
       "7317       1.0        0.0  "
      ]
     },
     "execution_count": 33,
     "metadata": {},
     "output_type": "execute_result"
    }
   ],
   "source": [
    "import numpy as np\n",
    "\n",
    "\n",
    "encoder = OrdinalEncoder(categories=\"auto\", handle_unknown=\"use_encoded_value\", unknown_value=-1) \n",
    "encoder.fit(features_train)\n",
    "\n",
    "features_train_wooden = pd.DataFrame(\n",
    "    encoder.transform(features_train), \n",
    "    columns=features_train.columns, \n",
    "    index=features_train.index\n",
    ")\n",
    "features_valid_wooden = pd.DataFrame(\n",
    "    encoder.transform(features_valid), \n",
    "    columns=features_valid.columns, \n",
    "    index=features_valid.index\n",
    ")\n",
    "features_test_wooden = pd.DataFrame(\n",
    "    encoder.transform(features_test), \n",
    "    columns=features_test.columns, \n",
    "    index=features_test.index\n",
    ")\n",
    "\n",
    "print('features_test_wooden:')\n",
    "features_test_wooden.head()\n"
   ]
  },
  {
   "cell_type": "markdown",
   "metadata": {},
   "source": [
    "OneHotEncoder кодирование категориальных признаков \"gender\" и \"city\" для логистических моделей"
   ]
  },
  {
   "cell_type": "code",
   "execution_count": 37,
   "metadata": {},
   "outputs": [
    {
     "name": "stdout",
     "output_type": "stream",
     "text": [
      "features_test_logistic:\n"
     ]
    },
    {
     "name": "stderr",
     "output_type": "stream",
     "text": [
      "c:\\Users\\pleskaks\\AppData\\Local\\Programs\\Python\\Python310\\lib\\site-packages\\sklearn\\preprocessing\\_encoders.py:828: FutureWarning: `sparse` was renamed to `sparse_output` in version 1.2 and will be removed in 1.4. `sparse_output` is ignored unless you leave `sparse` to its default value.\n",
      "  warnings.warn(\n",
      "c:\\Users\\pleskaks\\AppData\\Local\\Programs\\Python\\Python310\\lib\\site-packages\\sklearn\\preprocessing\\_encoders.py:828: FutureWarning: `sparse` was renamed to `sparse_output` in version 1.2 and will be removed in 1.4. `sparse_output` is ignored unless you leave `sparse` to its default value.\n",
      "  warnings.warn(\n"
     ]
    },
    {
     "data": {
      "text/html": [
       "<div>\n",
       "<style scoped>\n",
       "    .dataframe tbody tr th:only-of-type {\n",
       "        vertical-align: middle;\n",
       "    }\n",
       "\n",
       "    .dataframe tbody tr th {\n",
       "        vertical-align: top;\n",
       "    }\n",
       "\n",
       "    .dataframe thead th {\n",
       "        text-align: right;\n",
       "    }\n",
       "</style>\n",
       "<table border=\"1\" class=\"dataframe\">\n",
       "  <thead>\n",
       "    <tr style=\"text-align: right;\">\n",
       "      <th></th>\n",
       "      <th>number</th>\n",
       "      <th>id</th>\n",
       "      <th>age</th>\n",
       "      <th>years_registration</th>\n",
       "      <th>num_of_products</th>\n",
       "      <th>has_card</th>\n",
       "      <th>is_active</th>\n",
       "      <th>gender_Female</th>\n",
       "      <th>gender_Male</th>\n",
       "      <th>city_Екатеринбург</th>\n",
       "      <th>city_Москва</th>\n",
       "      <th>city_Санкт-Петербург</th>\n",
       "    </tr>\n",
       "  </thead>\n",
       "  <tbody>\n",
       "    <tr>\n",
       "      <th>8335</th>\n",
       "      <td>8336</td>\n",
       "      <td>15737414</td>\n",
       "      <td>35</td>\n",
       "      <td>4.0</td>\n",
       "      <td>1</td>\n",
       "      <td>1</td>\n",
       "      <td>0</td>\n",
       "      <td>NaN</td>\n",
       "      <td>NaN</td>\n",
       "      <td>NaN</td>\n",
       "      <td>NaN</td>\n",
       "      <td>NaN</td>\n",
       "    </tr>\n",
       "    <tr>\n",
       "      <th>6136</th>\n",
       "      <td>6137</td>\n",
       "      <td>15773071</td>\n",
       "      <td>33</td>\n",
       "      <td>6.0</td>\n",
       "      <td>1</td>\n",
       "      <td>1</td>\n",
       "      <td>1</td>\n",
       "      <td>NaN</td>\n",
       "      <td>NaN</td>\n",
       "      <td>NaN</td>\n",
       "      <td>NaN</td>\n",
       "      <td>NaN</td>\n",
       "    </tr>\n",
       "    <tr>\n",
       "      <th>2447</th>\n",
       "      <td>2448</td>\n",
       "      <td>15715769</td>\n",
       "      <td>26</td>\n",
       "      <td>2.0</td>\n",
       "      <td>1</td>\n",
       "      <td>0</td>\n",
       "      <td>1</td>\n",
       "      <td>NaN</td>\n",
       "      <td>NaN</td>\n",
       "      <td>NaN</td>\n",
       "      <td>NaN</td>\n",
       "      <td>NaN</td>\n",
       "    </tr>\n",
       "    <tr>\n",
       "      <th>2792</th>\n",
       "      <td>2793</td>\n",
       "      <td>15742820</td>\n",
       "      <td>45</td>\n",
       "      <td>2.0</td>\n",
       "      <td>2</td>\n",
       "      <td>0</td>\n",
       "      <td>1</td>\n",
       "      <td>NaN</td>\n",
       "      <td>NaN</td>\n",
       "      <td>NaN</td>\n",
       "      <td>NaN</td>\n",
       "      <td>NaN</td>\n",
       "    </tr>\n",
       "    <tr>\n",
       "      <th>7317</th>\n",
       "      <td>7318</td>\n",
       "      <td>15734008</td>\n",
       "      <td>59</td>\n",
       "      <td>5.0</td>\n",
       "      <td>1</td>\n",
       "      <td>1</td>\n",
       "      <td>0</td>\n",
       "      <td>NaN</td>\n",
       "      <td>NaN</td>\n",
       "      <td>NaN</td>\n",
       "      <td>NaN</td>\n",
       "      <td>NaN</td>\n",
       "    </tr>\n",
       "  </tbody>\n",
       "</table>\n",
       "</div>"
      ],
      "text/plain": [
       "      number        id  age  years_registration  num_of_products  has_card  \\\n",
       "8335    8336  15737414   35                 4.0                1         1   \n",
       "6136    6137  15773071   33                 6.0                1         1   \n",
       "2447    2448  15715769   26                 2.0                1         0   \n",
       "2792    2793  15742820   45                 2.0                2         0   \n",
       "7317    7318  15734008   59                 5.0                1         1   \n",
       "\n",
       "      is_active  gender_Female  gender_Male  city_Екатеринбург  city_Москва  \\\n",
       "8335          0            NaN          NaN                NaN          NaN   \n",
       "6136          1            NaN          NaN                NaN          NaN   \n",
       "2447          1            NaN          NaN                NaN          NaN   \n",
       "2792          1            NaN          NaN                NaN          NaN   \n",
       "7317          0            NaN          NaN                NaN          NaN   \n",
       "\n",
       "      city_Санкт-Петербург  \n",
       "8335                   NaN  \n",
       "6136                   NaN  \n",
       "2447                   NaN  \n",
       "2792                   NaN  \n",
       "7317                   NaN  "
      ]
     },
     "execution_count": 37,
     "metadata": {},
     "output_type": "execute_result"
    }
   ],
   "source": [
    "def OneHotEncoder_TrainValidTestTransform(features_train, \n",
    "                                          features_valid, \n",
    "                                          features_test, \n",
    "                                          column_name\n",
    "                                         ):\n",
    "    ohe = OneHotEncoder(\n",
    "        categories='auto', \n",
    "        #drop='first', \n",
    "        handle_unknown='ignore', \n",
    "        sparse=False\n",
    "    )\n",
    "    ohe.fit(pd.DataFrame(features_train[column_name]))\n",
    "\n",
    "    features_train = features_train.join(\n",
    "        pd.DataFrame(\n",
    "            ohe.transform(pd.DataFrame(features_train[column_name])), \n",
    "            columns=ohe.get_feature_names_out ([column_name])\n",
    "        )\n",
    "    )\n",
    "    features_train_logistic = features_train.drop(column_name, axis=1)\n",
    "\n",
    "    features_valid = features_valid.join(\n",
    "        pd.DataFrame(\n",
    "            ohe.transform(pd.DataFrame(features_valid[column_name])), \n",
    "            columns=ohe.get_feature_names_out ([column_name])\n",
    "        )\n",
    "    )\n",
    "    features_valid_logistic = features_valid.drop(column_name, axis=1)\n",
    "\n",
    "    features_test = features_test.join(\n",
    "        pd.DataFrame(\n",
    "            ohe.transform(pd.DataFrame(features_test[column_name])), \n",
    "            columns=ohe.get_feature_names_out ([column_name])\n",
    "        )\n",
    "    )\n",
    "    features_test_logistic = features_test.drop(column_name, axis=1)\n",
    "    \n",
    "    return features_train_logistic, features_valid_logistic, features_test_logistic\n",
    "\n",
    "\"gender\"\n",
    "features_train_logistic, features_valid_logistic, features_test_logistic = OneHotEncoder_TrainValidTestTransform(\n",
    "    features_train, \n",
    "    features_valid, \n",
    "    features_test, \n",
    "    'gender')\n",
    "\n",
    "\"city\"\n",
    "features_train_logistic, features_valid_logistic, features_test_logistic = OneHotEncoder_TrainValidTestTransform(\n",
    "    features_train_logistic, \n",
    "    features_valid_logistic, \n",
    "    features_test_logistic, \n",
    "    'city')\n",
    "\n",
    "print('features_test_logistic:')\n",
    "features_test_logistic.head()"
   ]
  },
  {
   "cell_type": "code",
   "execution_count": 38,
   "metadata": {},
   "outputs": [
    {
     "data": {
      "text/plain": [
       "array([nan,  1.,  0.])"
      ]
     },
     "execution_count": 38,
     "metadata": {},
     "output_type": "execute_result"
    }
   ],
   "source": [
    "features_test_logistic['gender_Female'].unique()"
   ]
  },
  {
   "cell_type": "markdown",
   "metadata": {},
   "source": [
    "Замена пропусков в новых аттрибутах на 0"
   ]
  },
  {
   "cell_type": "code",
   "execution_count": 39,
   "metadata": {},
   "outputs": [
    {
     "data": {
      "text/plain": [
       "array([0., 1.])"
      ]
     },
     "execution_count": 39,
     "metadata": {},
     "output_type": "execute_result"
    }
   ],
   "source": [
    "features_train_logistic = features_train_logistic.fillna(0)\n",
    "features_valid_logistic = features_valid_logistic.fillna(0)\n",
    "features_test_logistic = features_test_logistic.fillna(0)\n",
    "\n",
    "features_test_logistic['gender_Female'].unique()"
   ]
  },
  {
   "cell_type": "markdown",
   "metadata": {},
   "source": [
    "Приведение данных к единому масштабу"
   ]
  },
  {
   "cell_type": "code",
   "execution_count": 40,
   "metadata": {},
   "outputs": [],
   "source": [
    "scaler = StandardScaler() \n",
    "scaler.fit(features_train_wooden)\n",
    "features_train_wooden = pd.DataFrame(\n",
    "    scaler.transform(features_train_wooden), \n",
    "    index=features_train_wooden.index, \n",
    "    columns=features_train_wooden.columns\n",
    ")\n",
    "features_valid_wooden = pd.DataFrame(\n",
    "    scaler.transform(features_valid_wooden), \n",
    "    index=features_valid_wooden.index, \n",
    "    columns=features_valid_wooden.columns\n",
    ") \n",
    "features_test_wooden = pd.DataFrame(\n",
    "    scaler.transform(features_test_wooden), \n",
    "    index=features_test_wooden.index, \n",
    "    columns=features_test_wooden.columns\n",
    ") \n",
    "\n",
    "scaler.fit(features_train_logistic)\n",
    "features_train_logistic = pd.DataFrame(\n",
    "    scaler.transform(features_train_logistic), \n",
    "    index=features_train_logistic.index, \n",
    "    columns=features_train_logistic.columns\n",
    ")\n",
    "features_valid_logistic = pd.DataFrame(\n",
    "    scaler.transform(features_valid_logistic), \n",
    "    index=features_valid_logistic.index, \n",
    "    columns=features_valid_logistic.columns\n",
    ") \n",
    "features_test_logistic = pd.DataFrame(\n",
    "    scaler.transform(features_test_logistic), \n",
    "    index=features_test_logistic.index, \n",
    "    columns=features_test_logistic.columns\n",
    ") \n"
   ]
  },
  {
   "cell_type": "markdown",
   "metadata": {},
   "source": [
    "Анализ полученных выборок"
   ]
  },
  {
   "cell_type": "code",
   "execution_count": 41,
   "metadata": {},
   "outputs": [
    {
     "name": "stdout",
     "output_type": "stream",
     "text": [
      "<class 'pandas.core.frame.DataFrame'>\n",
      "Int64Index: 1996 entries, 8335 to 3778\n",
      "Data columns (total 9 columns):\n",
      " #   Column              Non-Null Count  Dtype  \n",
      "---  ------              --------------  -----  \n",
      " 0   number              1996 non-null   float64\n",
      " 1   id                  1996 non-null   float64\n",
      " 2   city                1996 non-null   float64\n",
      " 3   gender              1996 non-null   float64\n",
      " 4   age                 1996 non-null   float64\n",
      " 5   years_registration  1996 non-null   float64\n",
      " 6   num_of_products     1996 non-null   float64\n",
      " 7   has_card            1996 non-null   float64\n",
      " 8   is_active           1996 non-null   float64\n",
      "dtypes: float64(9)\n",
      "memory usage: 220.5 KB\n",
      "None\n",
      "\n"
     ]
    },
    {
     "data": {
      "text/html": [
       "<div>\n",
       "<style scoped>\n",
       "    .dataframe tbody tr th:only-of-type {\n",
       "        vertical-align: middle;\n",
       "    }\n",
       "\n",
       "    .dataframe tbody tr th {\n",
       "        vertical-align: top;\n",
       "    }\n",
       "\n",
       "    .dataframe thead th {\n",
       "        text-align: right;\n",
       "    }\n",
       "</style>\n",
       "<table border=\"1\" class=\"dataframe\">\n",
       "  <thead>\n",
       "    <tr style=\"text-align: right;\">\n",
       "      <th></th>\n",
       "      <th>number</th>\n",
       "      <th>id</th>\n",
       "      <th>city</th>\n",
       "      <th>gender</th>\n",
       "      <th>age</th>\n",
       "      <th>years_registration</th>\n",
       "      <th>num_of_products</th>\n",
       "      <th>has_card</th>\n",
       "      <th>is_active</th>\n",
       "    </tr>\n",
       "  </thead>\n",
       "  <tbody>\n",
       "    <tr>\n",
       "      <th>count</th>\n",
       "      <td>1.996000e+03</td>\n",
       "      <td>1.996000e+03</td>\n",
       "      <td>1996.000000</td>\n",
       "      <td>1996.000000</td>\n",
       "      <td>1996.000000</td>\n",
       "      <td>1996.000000</td>\n",
       "      <td>1996.000000</td>\n",
       "      <td>1996.000000</td>\n",
       "      <td>1996.000000</td>\n",
       "    </tr>\n",
       "    <tr>\n",
       "      <th>mean</th>\n",
       "      <td>-1.732340e+00</td>\n",
       "      <td>-1.732340e+00</td>\n",
       "      <td>-0.001414</td>\n",
       "      <td>-0.011415</td>\n",
       "      <td>-0.012149</td>\n",
       "      <td>0.001619</td>\n",
       "      <td>0.009699</td>\n",
       "      <td>-0.009916</td>\n",
       "      <td>0.015707</td>\n",
       "    </tr>\n",
       "    <tr>\n",
       "      <th>std</th>\n",
       "      <td>4.442005e-16</td>\n",
       "      <td>4.442005e-16</td>\n",
       "      <td>1.008230</td>\n",
       "      <td>1.001350</td>\n",
       "      <td>0.971346</td>\n",
       "      <td>0.997075</td>\n",
       "      <td>0.974034</td>\n",
       "      <td>1.004727</td>\n",
       "      <td>0.999602</td>\n",
       "    </tr>\n",
       "    <tr>\n",
       "      <th>min</th>\n",
       "      <td>-1.732340e+00</td>\n",
       "      <td>-1.732340e+00</td>\n",
       "      <td>-0.911747</td>\n",
       "      <td>-1.107259</td>\n",
       "      <td>-2.084259</td>\n",
       "      <td>-1.734203</td>\n",
       "      <td>-0.903479</td>\n",
       "      <td>-1.556814</td>\n",
       "      <td>-1.033977</td>\n",
       "    </tr>\n",
       "    <tr>\n",
       "      <th>25%</th>\n",
       "      <td>-1.732340e+00</td>\n",
       "      <td>-1.732340e+00</td>\n",
       "      <td>-0.911747</td>\n",
       "      <td>-1.107259</td>\n",
       "      <td>-0.652249</td>\n",
       "      <td>-1.041609</td>\n",
       "      <td>-0.903479</td>\n",
       "      <td>-1.556814</td>\n",
       "      <td>-1.033977</td>\n",
       "    </tr>\n",
       "    <tr>\n",
       "      <th>50%</th>\n",
       "      <td>-1.732340e+00</td>\n",
       "      <td>-1.732340e+00</td>\n",
       "      <td>-0.911747</td>\n",
       "      <td>0.903131</td>\n",
       "      <td>-0.174912</td>\n",
       "      <td>-0.002718</td>\n",
       "      <td>0.804773</td>\n",
       "      <td>0.642337</td>\n",
       "      <td>0.967139</td>\n",
       "    </tr>\n",
       "    <tr>\n",
       "      <th>75%</th>\n",
       "      <td>-1.732340e+00</td>\n",
       "      <td>-1.732340e+00</td>\n",
       "      <td>1.507726</td>\n",
       "      <td>0.903131</td>\n",
       "      <td>0.493359</td>\n",
       "      <td>0.689876</td>\n",
       "      <td>0.804773</td>\n",
       "      <td>0.642337</td>\n",
       "      <td>0.967139</td>\n",
       "    </tr>\n",
       "    <tr>\n",
       "      <th>max</th>\n",
       "      <td>-1.732340e+00</td>\n",
       "      <td>-1.732340e+00</td>\n",
       "      <td>1.507726</td>\n",
       "      <td>0.903131</td>\n",
       "      <td>3.834716</td>\n",
       "      <td>1.728767</td>\n",
       "      <td>4.221278</td>\n",
       "      <td>0.642337</td>\n",
       "      <td>0.967139</td>\n",
       "    </tr>\n",
       "  </tbody>\n",
       "</table>\n",
       "</div>"
      ],
      "text/plain": [
       "             number            id         city       gender          age  \\\n",
       "count  1.996000e+03  1.996000e+03  1996.000000  1996.000000  1996.000000   \n",
       "mean  -1.732340e+00 -1.732340e+00    -0.001414    -0.011415    -0.012149   \n",
       "std    4.442005e-16  4.442005e-16     1.008230     1.001350     0.971346   \n",
       "min   -1.732340e+00 -1.732340e+00    -0.911747    -1.107259    -2.084259   \n",
       "25%   -1.732340e+00 -1.732340e+00    -0.911747    -1.107259    -0.652249   \n",
       "50%   -1.732340e+00 -1.732340e+00    -0.911747     0.903131    -0.174912   \n",
       "75%   -1.732340e+00 -1.732340e+00     1.507726     0.903131     0.493359   \n",
       "max   -1.732340e+00 -1.732340e+00     1.507726     0.903131     3.834716   \n",
       "\n",
       "       years_registration  num_of_products     has_card    is_active  \n",
       "count         1996.000000      1996.000000  1996.000000  1996.000000  \n",
       "mean             0.001619         0.009699    -0.009916     0.015707  \n",
       "std              0.997075         0.974034     1.004727     0.999602  \n",
       "min             -1.734203        -0.903479    -1.556814    -1.033977  \n",
       "25%             -1.041609        -0.903479    -1.556814    -1.033977  \n",
       "50%             -0.002718         0.804773     0.642337     0.967139  \n",
       "75%              0.689876         0.804773     0.642337     0.967139  \n",
       "max              1.728767         4.221278     0.642337     0.967139  "
      ]
     },
     "execution_count": 41,
     "metadata": {},
     "output_type": "execute_result"
    }
   ],
   "source": [
    "print(features_test_wooden.info()) \n",
    "print() \n",
    "features_test_wooden.describe()"
   ]
  },
  {
   "cell_type": "code",
   "execution_count": 42,
   "metadata": {},
   "outputs": [
    {
     "name": "stdout",
     "output_type": "stream",
     "text": [
      "<class 'pandas.core.frame.DataFrame'>\n",
      "Int64Index: 1996 entries, 8335 to 3778\n",
      "Data columns (total 12 columns):\n",
      " #   Column                Non-Null Count  Dtype  \n",
      "---  ------                --------------  -----  \n",
      " 0   number                1996 non-null   float64\n",
      " 1   id                    1996 non-null   float64\n",
      " 2   age                   1996 non-null   float64\n",
      " 3   years_registration    1996 non-null   float64\n",
      " 4   num_of_products       1996 non-null   float64\n",
      " 5   has_card              1996 non-null   float64\n",
      " 6   is_active             1996 non-null   float64\n",
      " 7   gender_Female         1996 non-null   float64\n",
      " 8   gender_Male           1996 non-null   float64\n",
      " 9   city_Екатеринбург     1996 non-null   float64\n",
      " 10  city_Москва           1996 non-null   float64\n",
      " 11  city_Санкт-Петербург  1996 non-null   float64\n",
      "dtypes: float64(12)\n",
      "memory usage: 267.3 KB\n",
      "None\n",
      "\n"
     ]
    },
    {
     "data": {
      "text/html": [
       "<div>\n",
       "<style scoped>\n",
       "    .dataframe tbody tr th:only-of-type {\n",
       "        vertical-align: middle;\n",
       "    }\n",
       "\n",
       "    .dataframe tbody tr th {\n",
       "        vertical-align: top;\n",
       "    }\n",
       "\n",
       "    .dataframe thead th {\n",
       "        text-align: right;\n",
       "    }\n",
       "</style>\n",
       "<table border=\"1\" class=\"dataframe\">\n",
       "  <thead>\n",
       "    <tr style=\"text-align: right;\">\n",
       "      <th></th>\n",
       "      <th>number</th>\n",
       "      <th>id</th>\n",
       "      <th>age</th>\n",
       "      <th>years_registration</th>\n",
       "      <th>num_of_products</th>\n",
       "      <th>has_card</th>\n",
       "      <th>is_active</th>\n",
       "      <th>gender_Female</th>\n",
       "      <th>gender_Male</th>\n",
       "      <th>city_Екатеринбург</th>\n",
       "      <th>city_Москва</th>\n",
       "      <th>city_Санкт-Петербург</th>\n",
       "    </tr>\n",
       "  </thead>\n",
       "  <tbody>\n",
       "    <tr>\n",
       "      <th>count</th>\n",
       "      <td>1996.000000</td>\n",
       "      <td>1996.000000</td>\n",
       "      <td>1996.000000</td>\n",
       "      <td>1996.000000</td>\n",
       "      <td>1996.000000</td>\n",
       "      <td>1996.000000</td>\n",
       "      <td>1996.000000</td>\n",
       "      <td>1996.000000</td>\n",
       "      <td>1996.000000</td>\n",
       "      <td>1996.000000</td>\n",
       "      <td>1996.000000</td>\n",
       "      <td>1996.000000</td>\n",
       "    </tr>\n",
       "    <tr>\n",
       "      <th>mean</th>\n",
       "      <td>-0.002527</td>\n",
       "      <td>0.003298</td>\n",
       "      <td>-0.009406</td>\n",
       "      <td>0.001619</td>\n",
       "      <td>0.009699</td>\n",
       "      <td>-0.009916</td>\n",
       "      <td>0.015707</td>\n",
       "      <td>-0.390827</td>\n",
       "      <td>-0.483855</td>\n",
       "      <td>-0.423483</td>\n",
       "      <td>-0.299525</td>\n",
       "      <td>-0.279754</td>\n",
       "    </tr>\n",
       "    <tr>\n",
       "      <th>std</th>\n",
       "      <td>1.003249</td>\n",
       "      <td>0.994596</td>\n",
       "      <td>0.972933</td>\n",
       "      <td>0.997075</td>\n",
       "      <td>0.974034</td>\n",
       "      <td>1.004727</td>\n",
       "      <td>0.999602</td>\n",
       "      <td>0.662478</td>\n",
       "      <td>0.644543</td>\n",
       "      <td>0.667225</td>\n",
       "      <td>0.572773</td>\n",
       "      <td>0.609373</td>\n",
       "    </tr>\n",
       "    <tr>\n",
       "      <th>min</th>\n",
       "      <td>-1.734642</td>\n",
       "      <td>-1.740167</td>\n",
       "      <td>-1.985698</td>\n",
       "      <td>-1.734203</td>\n",
       "      <td>-0.903479</td>\n",
       "      <td>-1.556814</td>\n",
       "      <td>-1.033977</td>\n",
       "      <td>-0.605649</td>\n",
       "      <td>-0.701269</td>\n",
       "      <td>-0.650387</td>\n",
       "      <td>-0.422502</td>\n",
       "      <td>-0.418928</td>\n",
       "    </tr>\n",
       "    <tr>\n",
       "      <th>25%</th>\n",
       "      <td>-0.863452</td>\n",
       "      <td>-0.859197</td>\n",
       "      <td>-0.651491</td>\n",
       "      <td>-1.041609</td>\n",
       "      <td>-0.903479</td>\n",
       "      <td>-1.556814</td>\n",
       "      <td>-1.033977</td>\n",
       "      <td>-0.605649</td>\n",
       "      <td>-0.701269</td>\n",
       "      <td>-0.650387</td>\n",
       "      <td>-0.422502</td>\n",
       "      <td>-0.418928</td>\n",
       "    </tr>\n",
       "    <tr>\n",
       "      <th>50%</th>\n",
       "      <td>-0.020703</td>\n",
       "      <td>-0.003262</td>\n",
       "      <td>-0.174988</td>\n",
       "      <td>-0.002718</td>\n",
       "      <td>0.804773</td>\n",
       "      <td>0.642337</td>\n",
       "      <td>0.967139</td>\n",
       "      <td>-0.605649</td>\n",
       "      <td>-0.701269</td>\n",
       "      <td>-0.650387</td>\n",
       "      <td>-0.422502</td>\n",
       "      <td>-0.418928</td>\n",
       "    </tr>\n",
       "    <tr>\n",
       "      <th>75%</th>\n",
       "      <td>0.864535</td>\n",
       "      <td>0.850852</td>\n",
       "      <td>0.492116</td>\n",
       "      <td>0.689876</td>\n",
       "      <td>0.804773</td>\n",
       "      <td>0.642337</td>\n",
       "      <td>0.967139</td>\n",
       "      <td>-0.605649</td>\n",
       "      <td>-0.701269</td>\n",
       "      <td>-0.650387</td>\n",
       "      <td>-0.422502</td>\n",
       "      <td>-0.418928</td>\n",
       "    </tr>\n",
       "    <tr>\n",
       "      <th>max</th>\n",
       "      <td>1.732084</td>\n",
       "      <td>1.725334</td>\n",
       "      <td>4.113536</td>\n",
       "      <td>1.728767</td>\n",
       "      <td>4.221278</td>\n",
       "      <td>0.642337</td>\n",
       "      <td>0.967139</td>\n",
       "      <td>1.651120</td>\n",
       "      <td>1.425986</td>\n",
       "      <td>1.537545</td>\n",
       "      <td>2.366851</td>\n",
       "      <td>2.387046</td>\n",
       "    </tr>\n",
       "  </tbody>\n",
       "</table>\n",
       "</div>"
      ],
      "text/plain": [
       "            number           id          age  years_registration  \\\n",
       "count  1996.000000  1996.000000  1996.000000         1996.000000   \n",
       "mean     -0.002527     0.003298    -0.009406            0.001619   \n",
       "std       1.003249     0.994596     0.972933            0.997075   \n",
       "min      -1.734642    -1.740167    -1.985698           -1.734203   \n",
       "25%      -0.863452    -0.859197    -0.651491           -1.041609   \n",
       "50%      -0.020703    -0.003262    -0.174988           -0.002718   \n",
       "75%       0.864535     0.850852     0.492116            0.689876   \n",
       "max       1.732084     1.725334     4.113536            1.728767   \n",
       "\n",
       "       num_of_products     has_card    is_active  gender_Female  gender_Male  \\\n",
       "count      1996.000000  1996.000000  1996.000000    1996.000000  1996.000000   \n",
       "mean          0.009699    -0.009916     0.015707      -0.390827    -0.483855   \n",
       "std           0.974034     1.004727     0.999602       0.662478     0.644543   \n",
       "min          -0.903479    -1.556814    -1.033977      -0.605649    -0.701269   \n",
       "25%          -0.903479    -1.556814    -1.033977      -0.605649    -0.701269   \n",
       "50%           0.804773     0.642337     0.967139      -0.605649    -0.701269   \n",
       "75%           0.804773     0.642337     0.967139      -0.605649    -0.701269   \n",
       "max           4.221278     0.642337     0.967139       1.651120     1.425986   \n",
       "\n",
       "       city_Екатеринбург  city_Москва  city_Санкт-Петербург  \n",
       "count        1996.000000  1996.000000           1996.000000  \n",
       "mean           -0.423483    -0.299525             -0.279754  \n",
       "std             0.667225     0.572773              0.609373  \n",
       "min            -0.650387    -0.422502             -0.418928  \n",
       "25%            -0.650387    -0.422502             -0.418928  \n",
       "50%            -0.650387    -0.422502             -0.418928  \n",
       "75%            -0.650387    -0.422502             -0.418928  \n",
       "max             1.537545     2.366851              2.387046  "
      ]
     },
     "execution_count": 42,
     "metadata": {},
     "output_type": "execute_result"
    }
   ],
   "source": [
    "print(features_test_logistic.info()) \n",
    "print() \n",
    "features_test_logistic.describe()\n"
   ]
  },
  {
   "cell_type": "markdown",
   "metadata": {},
   "source": [
    "Создание функции и датафрейма для анализа метрик качества модели"
   ]
  },
  {
   "cell_type": "code",
   "execution_count": 43,
   "metadata": {},
   "outputs": [],
   "source": [
    "# Функция анализ метрик качества модели\n",
    "def output_of_quality_metrics(target_train, \n",
    "                              target_test, \n",
    "                              predictions_test, \n",
    "                              probabilities_test, \n",
    "                              quality_metrics, \n",
    "                              model, \n",
    "                              sample,\n",
    "                              class_weight,\n",
    "                              max_depth, \n",
    "                              n_estimators\n",
    "                             ):\n",
    "    \n",
    "    predictions_train = pd.Series(target_train.median(), index=target_train.index)\n",
    "    \n",
    "    # Показатель ROC-AUC\n",
    "    probabilities_one_test = probabilities_test[:, 1]\n",
    "    fpr, tpr, thresholds = roc_curve(target_test, probabilities_one_test)\n",
    "\n",
    "    # Построение кривой AUC\n",
    "    plt.figure()\n",
    "    plt.plot(fpr, tpr, linestyle='-')\n",
    "    plt.plot([0, 1], [0, 1], linestyle='--')\n",
    "    plt.xlim(0, 1)\n",
    "    plt.ylim(0, 1)\n",
    "    plt.xlabel('False Pisitive Rate')\n",
    "    plt.xlabel('True Pisitive Rate')\n",
    "    plt.xlabel('True Pisitive Rate')\n",
    "    plt.title('ROC-кривая')\n",
    "    plt.show()\n",
    "\n",
    "    # Площадь \"AUC-ROC\"\n",
    "    auc_roc = roc_auc_score(target_test, probabilities_one_test)\n",
    "    print('AUC-ROC:', auc_roc)\n",
    "\n",
    "    # Метрики для оценки моделей классификации (не регрессии)\n",
    "    accuracy = accuracy_score(target_test, predictions_test)\n",
    "    f1 = f1_score(target_test, predictions_test)\n",
    "    print('Accuracy:', accuracy) \n",
    "    print('F1:', f1) \n",
    "\n",
    "    print() \n",
    "    # Альтернативные метрики\n",
    "    result = target_test * predictions_test\n",
    "    print('TP:', len(result.loc[result == 1])) \n",
    "    result = target_test + predictions_test\n",
    "    print('TN:', len(result.loc[result == 0]))\n",
    "    result = target_test - predictions_test\n",
    "    print('FP:', len(result.loc[result == -1]))\n",
    "    result = target_test - predictions_test\n",
    "    print('FN:', len(result.loc[result == 1]))\n",
    "    \n",
    "    quality_metrics = quality_metrics.append({\n",
    "        'model': model, \n",
    "        'sample': sample, \n",
    "        'auc_roc': auc_roc, \n",
    "        'accuracy': accuracy, \n",
    "        'f1': f1, \n",
    "        'class_weight': class_weight,\n",
    "        'max_depth': max_depth, \n",
    "        'n_estimators': n_estimators\n",
    "    }, ignore_index=True)\n",
    "    \n",
    "    return quality_metrics"
   ]
  },
  {
   "cell_type": "code",
   "execution_count": 44,
   "metadata": {},
   "outputs": [
    {
     "data": {
      "text/html": [
       "<div>\n",
       "<style scoped>\n",
       "    .dataframe tbody tr th:only-of-type {\n",
       "        vertical-align: middle;\n",
       "    }\n",
       "\n",
       "    .dataframe tbody tr th {\n",
       "        vertical-align: top;\n",
       "    }\n",
       "\n",
       "    .dataframe thead th {\n",
       "        text-align: right;\n",
       "    }\n",
       "</style>\n",
       "<table border=\"1\" class=\"dataframe\">\n",
       "  <thead>\n",
       "    <tr style=\"text-align: right;\">\n",
       "      <th></th>\n",
       "      <th>model</th>\n",
       "      <th>sample</th>\n",
       "      <th>auc_roc</th>\n",
       "      <th>accuracy</th>\n",
       "      <th>f1</th>\n",
       "      <th>class_weight</th>\n",
       "      <th>max_depth</th>\n",
       "      <th>n_estimators</th>\n",
       "    </tr>\n",
       "  </thead>\n",
       "  <tbody>\n",
       "  </tbody>\n",
       "</table>\n",
       "</div>"
      ],
      "text/plain": [
       "Empty DataFrame\n",
       "Columns: [model, sample, auc_roc, accuracy, f1, class_weight, max_depth, n_estimators]\n",
       "Index: []"
      ]
     },
     "execution_count": 44,
     "metadata": {},
     "output_type": "execute_result"
    }
   ],
   "source": [
    "# Датафрейм с результатами анализа моделей\n",
    "quality_metrics = pd.DataFrame(columns=['model', \n",
    "                                        'sample', \n",
    "                                        'auc_roc', \n",
    "                                        'accuracy', \n",
    "                                        'f1', \n",
    "                                        'class_weight', \n",
    "                                        'max_depth', \n",
    "                                        'n_estimators'\n",
    "                                       ]\n",
    "                              )\n",
    "\n",
    "quality_metrics\n"
   ]
  },
  {
   "cell_type": "code",
   "execution_count": 45,
   "metadata": {},
   "outputs": [],
   "source": [
    "# Функция поиска оптимальных параметров для решающего дерева\n",
    "def DecisionTreeClassifier_SelectionOfParametrs(\n",
    "    features_train, target_train, \n",
    "    features_test, target_test, \n",
    "    class_weight, balance_type, \n",
    "    quality_metrics\n",
    "):\n",
    "    # Поиск оптимальных параметров\n",
    "    depth_f1 = pd.DataFrame(columns=['depth', 'f1']) \n",
    "    for depth in range(0, 30, 1):\n",
    "        if depth > 0:\n",
    "            model = DecisionTreeClassifier(\n",
    "                class_weight=class_weight, \n",
    "                max_depth=depth, \n",
    "                random_state=12345\n",
    "            )\n",
    "            model.fit(features_train, target_train)\n",
    "            predictions_test = model.predict(features_test)\n",
    "            \n",
    "            depth_f1 = depth_f1.append(pd.DataFrame({\n",
    "                'depth': [depth], \n",
    "                'f1': [f1_score(target_test, predictions_test)]\n",
    "            }), ignore_index=True) \n",
    "            print('max_depth:', depth)\n",
    "            print('f1:', f1_score(target_test, predictions_test))\n",
    "            print()\n",
    "    \n",
    "    # Модель решающего дерева с оптимальными параметрами\n",
    "    depth = int(depth_f1.loc[depth_f1['f1'] == depth_f1['f1'].max(), 'depth'])\n",
    "    model = DecisionTreeClassifier(\n",
    "        max_depth=depth, \n",
    "        random_state=12345\n",
    "    )\n",
    "    model.fit(features_train, target_train)\n",
    "    predictions_test = model.predict(features_test)\n",
    "    probabilities_test = model.predict_proba(features_test)\n",
    "    \n",
    "    # Анализ метрик качества моделей\n",
    "    quality_metrics = output_of_quality_metrics(target_train, target_test,\n",
    "                                                predictions_test, probabilities_test, \n",
    "                                                quality_metrics, \n",
    "                                                'DecisionTreeClassifier', balance_type,\n",
    "                                                class_weight, depth, None\n",
    "                                               ) \n",
    "    print('\\nmax_depth:', depth)\n",
    "    \n",
    "    return quality_metrics"
   ]
  },
  {
   "cell_type": "code",
   "execution_count": 46,
   "metadata": {},
   "outputs": [
    {
     "name": "stderr",
     "output_type": "stream",
     "text": [
      "C:\\Users\\pleskaks\\AppData\\Local\\Temp\\ipykernel_30768\\127661089.py:20: FutureWarning: The frame.append method is deprecated and will be removed from pandas in a future version. Use pandas.concat instead.\n",
      "  depth_f1 = depth_f1.append(pd.DataFrame({\n",
      "C:\\Users\\pleskaks\\AppData\\Local\\Temp\\ipykernel_30768\\127661089.py:20: FutureWarning: The frame.append method is deprecated and will be removed from pandas in a future version. Use pandas.concat instead.\n",
      "  depth_f1 = depth_f1.append(pd.DataFrame({\n",
      "C:\\Users\\pleskaks\\AppData\\Local\\Temp\\ipykernel_30768\\127661089.py:20: FutureWarning: The frame.append method is deprecated and will be removed from pandas in a future version. Use pandas.concat instead.\n",
      "  depth_f1 = depth_f1.append(pd.DataFrame({\n",
      "C:\\Users\\pleskaks\\AppData\\Local\\Temp\\ipykernel_30768\\127661089.py:20: FutureWarning: The frame.append method is deprecated and will be removed from pandas in a future version. Use pandas.concat instead.\n",
      "  depth_f1 = depth_f1.append(pd.DataFrame({\n",
      "C:\\Users\\pleskaks\\AppData\\Local\\Temp\\ipykernel_30768\\127661089.py:20: FutureWarning: The frame.append method is deprecated and will be removed from pandas in a future version. Use pandas.concat instead.\n",
      "  depth_f1 = depth_f1.append(pd.DataFrame({\n",
      "C:\\Users\\pleskaks\\AppData\\Local\\Temp\\ipykernel_30768\\127661089.py:20: FutureWarning: The frame.append method is deprecated and will be removed from pandas in a future version. Use pandas.concat instead.\n",
      "  depth_f1 = depth_f1.append(pd.DataFrame({\n",
      "C:\\Users\\pleskaks\\AppData\\Local\\Temp\\ipykernel_30768\\127661089.py:20: FutureWarning: The frame.append method is deprecated and will be removed from pandas in a future version. Use pandas.concat instead.\n",
      "  depth_f1 = depth_f1.append(pd.DataFrame({\n",
      "C:\\Users\\pleskaks\\AppData\\Local\\Temp\\ipykernel_30768\\127661089.py:20: FutureWarning: The frame.append method is deprecated and will be removed from pandas in a future version. Use pandas.concat instead.\n",
      "  depth_f1 = depth_f1.append(pd.DataFrame({\n",
      "C:\\Users\\pleskaks\\AppData\\Local\\Temp\\ipykernel_30768\\127661089.py:20: FutureWarning: The frame.append method is deprecated and will be removed from pandas in a future version. Use pandas.concat instead.\n",
      "  depth_f1 = depth_f1.append(pd.DataFrame({\n"
     ]
    },
    {
     "name": "stdout",
     "output_type": "stream",
     "text": [
      "max_depth: 1\n",
      "f1: 0.0\n",
      "\n",
      "max_depth: 2\n",
      "f1: 0.5271966527196652\n",
      "\n",
      "max_depth: 3\n",
      "f1: 0.45309734513274336\n",
      "\n",
      "max_depth: 4\n",
      "f1: 0.49032258064516127\n",
      "\n",
      "max_depth: 5\n",
      "f1: 0.5526717557251909\n",
      "\n",
      "max_depth: 6\n",
      "f1: 0.43792766373411535\n",
      "\n",
      "max_depth: 7\n",
      "f1: 0.4824120603015075\n",
      "\n",
      "max_depth: 8\n",
      "f1: 0.48906048906048905\n",
      "\n",
      "max_depth: 9\n",
      "f1: 0.493734335839599\n",
      "\n"
     ]
    },
    {
     "name": "stderr",
     "output_type": "stream",
     "text": [
      "C:\\Users\\pleskaks\\AppData\\Local\\Temp\\ipykernel_30768\\127661089.py:20: FutureWarning: The frame.append method is deprecated and will be removed from pandas in a future version. Use pandas.concat instead.\n",
      "  depth_f1 = depth_f1.append(pd.DataFrame({\n",
      "C:\\Users\\pleskaks\\AppData\\Local\\Temp\\ipykernel_30768\\127661089.py:20: FutureWarning: The frame.append method is deprecated and will be removed from pandas in a future version. Use pandas.concat instead.\n",
      "  depth_f1 = depth_f1.append(pd.DataFrame({\n",
      "C:\\Users\\pleskaks\\AppData\\Local\\Temp\\ipykernel_30768\\127661089.py:20: FutureWarning: The frame.append method is deprecated and will be removed from pandas in a future version. Use pandas.concat instead.\n",
      "  depth_f1 = depth_f1.append(pd.DataFrame({\n",
      "C:\\Users\\pleskaks\\AppData\\Local\\Temp\\ipykernel_30768\\127661089.py:20: FutureWarning: The frame.append method is deprecated and will be removed from pandas in a future version. Use pandas.concat instead.\n",
      "  depth_f1 = depth_f1.append(pd.DataFrame({\n",
      "C:\\Users\\pleskaks\\AppData\\Local\\Temp\\ipykernel_30768\\127661089.py:20: FutureWarning: The frame.append method is deprecated and will be removed from pandas in a future version. Use pandas.concat instead.\n",
      "  depth_f1 = depth_f1.append(pd.DataFrame({\n"
     ]
    },
    {
     "name": "stdout",
     "output_type": "stream",
     "text": [
      "max_depth: 10\n",
      "f1: 0.47115384615384615\n",
      "\n",
      "max_depth: 11\n",
      "f1: 0.43103448275862066\n",
      "\n",
      "max_depth: 12\n",
      "f1: 0.44654088050314467\n",
      "\n",
      "max_depth: 13\n",
      "f1: 0.4049493813273341\n",
      "\n",
      "max_depth: 14\n",
      "f1: 0.45701357466063347\n",
      "\n"
     ]
    },
    {
     "name": "stderr",
     "output_type": "stream",
     "text": [
      "C:\\Users\\pleskaks\\AppData\\Local\\Temp\\ipykernel_30768\\127661089.py:20: FutureWarning: The frame.append method is deprecated and will be removed from pandas in a future version. Use pandas.concat instead.\n",
      "  depth_f1 = depth_f1.append(pd.DataFrame({\n",
      "C:\\Users\\pleskaks\\AppData\\Local\\Temp\\ipykernel_30768\\127661089.py:20: FutureWarning: The frame.append method is deprecated and will be removed from pandas in a future version. Use pandas.concat instead.\n",
      "  depth_f1 = depth_f1.append(pd.DataFrame({\n",
      "C:\\Users\\pleskaks\\AppData\\Local\\Temp\\ipykernel_30768\\127661089.py:20: FutureWarning: The frame.append method is deprecated and will be removed from pandas in a future version. Use pandas.concat instead.\n",
      "  depth_f1 = depth_f1.append(pd.DataFrame({\n",
      "C:\\Users\\pleskaks\\AppData\\Local\\Temp\\ipykernel_30768\\127661089.py:20: FutureWarning: The frame.append method is deprecated and will be removed from pandas in a future version. Use pandas.concat instead.\n",
      "  depth_f1 = depth_f1.append(pd.DataFrame({\n"
     ]
    },
    {
     "name": "stdout",
     "output_type": "stream",
     "text": [
      "max_depth: 15\n",
      "f1: 0.42500000000000004\n",
      "\n",
      "max_depth: 16\n",
      "f1: 0.432967032967033\n",
      "\n",
      "max_depth: 17\n",
      "f1: 0.41865756541524457\n",
      "\n",
      "max_depth: 18\n",
      "f1: 0.4605911330049261\n",
      "\n"
     ]
    },
    {
     "name": "stderr",
     "output_type": "stream",
     "text": [
      "C:\\Users\\pleskaks\\AppData\\Local\\Temp\\ipykernel_30768\\127661089.py:20: FutureWarning: The frame.append method is deprecated and will be removed from pandas in a future version. Use pandas.concat instead.\n",
      "  depth_f1 = depth_f1.append(pd.DataFrame({\n",
      "C:\\Users\\pleskaks\\AppData\\Local\\Temp\\ipykernel_30768\\127661089.py:20: FutureWarning: The frame.append method is deprecated and will be removed from pandas in a future version. Use pandas.concat instead.\n",
      "  depth_f1 = depth_f1.append(pd.DataFrame({\n",
      "C:\\Users\\pleskaks\\AppData\\Local\\Temp\\ipykernel_30768\\127661089.py:20: FutureWarning: The frame.append method is deprecated and will be removed from pandas in a future version. Use pandas.concat instead.\n",
      "  depth_f1 = depth_f1.append(pd.DataFrame({\n",
      "C:\\Users\\pleskaks\\AppData\\Local\\Temp\\ipykernel_30768\\127661089.py:20: FutureWarning: The frame.append method is deprecated and will be removed from pandas in a future version. Use pandas.concat instead.\n",
      "  depth_f1 = depth_f1.append(pd.DataFrame({\n"
     ]
    },
    {
     "name": "stdout",
     "output_type": "stream",
     "text": [
      "max_depth: 19\n",
      "f1: 0.45177664974619286\n",
      "\n",
      "max_depth: 20\n",
      "f1: 0.43886462882096067\n",
      "\n",
      "max_depth: 21\n",
      "f1: 0.47651775486827036\n",
      "\n",
      "max_depth: 22\n",
      "f1: 0.43128491620111736\n",
      "\n"
     ]
    },
    {
     "name": "stderr",
     "output_type": "stream",
     "text": [
      "C:\\Users\\pleskaks\\AppData\\Local\\Temp\\ipykernel_30768\\127661089.py:20: FutureWarning: The frame.append method is deprecated and will be removed from pandas in a future version. Use pandas.concat instead.\n",
      "  depth_f1 = depth_f1.append(pd.DataFrame({\n",
      "C:\\Users\\pleskaks\\AppData\\Local\\Temp\\ipykernel_30768\\127661089.py:20: FutureWarning: The frame.append method is deprecated and will be removed from pandas in a future version. Use pandas.concat instead.\n",
      "  depth_f1 = depth_f1.append(pd.DataFrame({\n",
      "C:\\Users\\pleskaks\\AppData\\Local\\Temp\\ipykernel_30768\\127661089.py:20: FutureWarning: The frame.append method is deprecated and will be removed from pandas in a future version. Use pandas.concat instead.\n",
      "  depth_f1 = depth_f1.append(pd.DataFrame({\n",
      "C:\\Users\\pleskaks\\AppData\\Local\\Temp\\ipykernel_30768\\127661089.py:20: FutureWarning: The frame.append method is deprecated and will be removed from pandas in a future version. Use pandas.concat instead.\n",
      "  depth_f1 = depth_f1.append(pd.DataFrame({\n",
      "C:\\Users\\pleskaks\\AppData\\Local\\Temp\\ipykernel_30768\\127661089.py:20: FutureWarning: The frame.append method is deprecated and will be removed from pandas in a future version. Use pandas.concat instead.\n",
      "  depth_f1 = depth_f1.append(pd.DataFrame({\n"
     ]
    },
    {
     "name": "stdout",
     "output_type": "stream",
     "text": [
      "max_depth: 23\n",
      "f1: 0.46486486486486484\n",
      "\n",
      "max_depth: 24\n",
      "f1: 0.4241019698725377\n",
      "\n",
      "max_depth: 25\n",
      "f1: 0.4265809217577706\n",
      "\n",
      "max_depth: 26\n",
      "f1: 0.4383838383838384\n",
      "\n",
      "max_depth: 27\n",
      "f1: 0.45323741007194246\n",
      "\n"
     ]
    },
    {
     "name": "stderr",
     "output_type": "stream",
     "text": [
      "C:\\Users\\pleskaks\\AppData\\Local\\Temp\\ipykernel_30768\\127661089.py:20: FutureWarning: The frame.append method is deprecated and will be removed from pandas in a future version. Use pandas.concat instead.\n",
      "  depth_f1 = depth_f1.append(pd.DataFrame({\n",
      "C:\\Users\\pleskaks\\AppData\\Local\\Temp\\ipykernel_30768\\127661089.py:20: FutureWarning: The frame.append method is deprecated and will be removed from pandas in a future version. Use pandas.concat instead.\n",
      "  depth_f1 = depth_f1.append(pd.DataFrame({\n"
     ]
    },
    {
     "name": "stdout",
     "output_type": "stream",
     "text": [
      "max_depth: 28\n",
      "f1: 0.4726810673443456\n",
      "\n",
      "max_depth: 29\n",
      "f1: 0.4726810673443456\n",
      "\n"
     ]
    },
    {
     "data": {
      "image/png": "[encoded data removed]",
      "text/plain": [
       "<Figure size 640x480 with 1 Axes>"
      ]
     },
     "metadata": {},
     "output_type": "display_data"
    },
    {
     "name": "stdout",
     "output_type": "stream",
     "text": [
      "AUC-ROC: 0.8213794777671429\n",
      "Accuracy: 0.8532064128256514\n",
      "F1: 0.5526717557251909\n",
      "\n",
      "TP: 181\n",
      "TN: 1522\n",
      "FP: 67\n",
      "FN: 226\n",
      "\n",
      "max_depth: 5\n"
     ]
    },
    {
     "name": "stderr",
     "output_type": "stream",
     "text": [
      "C:\\Users\\pleskaks\\AppData\\Local\\Temp\\ipykernel_30768\\3826688679.py:53: FutureWarning: The frame.append method is deprecated and will be removed from pandas in a future version. Use pandas.concat instead.\n",
      "  quality_metrics = quality_metrics.append({\n"
     ]
    }
   ],
   "source": [
    "# Модель решающего дерева без балансировки классов\n",
    "quality_metrics = DecisionTreeClassifier_SelectionOfParametrs(\n",
    "    features_train_wooden, target_train,\n",
    "    features_valid_wooden, target_valid, \n",
    "    None, 'none', quality_metrics\n",
    ")\n"
   ]
  },
  {
   "cell_type": "markdown",
   "metadata": {},
   "source": [
    "Модель случайного леса без балансировки классов"
   ]
  },
  {
   "cell_type": "code",
   "execution_count": 47,
   "metadata": {},
   "outputs": [],
   "source": [
    "# Функция поиска оптимального параметра n_estimators случайного леса\n",
    "def RandomForestClassifier_SelectionOfParametrs_NEstimatorsItrator(\n",
    "    features_train, target_train, \n",
    "    features_test, target_test, \n",
    "    class_weight, depth, n1, n2, n3\n",
    "):\n",
    "    n_estimators_f1 = pd.DataFrame(columns=['n_estimators', 'f1']) \n",
    "    for n in range(n1, n2, n3):\n",
    "        model = RandomForestClassifier(\n",
    "            class_weight=class_weight, \n",
    "            n_estimators=n, \n",
    "            max_depth=depth, \n",
    "            random_state=12345\n",
    "        )\n",
    "        model.fit(features_train, target_train)\n",
    "        predictions_test = model.predict(features_test)\n",
    "        \n",
    "        n_estimators_f1 = n_estimators_f1.append(pd.DataFrame({\n",
    "            'n_estimators': [n], \n",
    "            'f1': [f1_score(target_test, predictions_test)]\n",
    "        }), ignore_index=True) \n",
    "        print('n_estimators:', n)\n",
    "        print('f1:', f1_score(target_test, predictions_test))\n",
    "        print()\n",
    "    \n",
    "    result = n_estimators_f1.loc[n_estimators_f1['f1'] == n_estimators_f1['f1'].max(), 'n_estimators']\n",
    "    #print(result)\n",
    "    if len(result) > 1:\n",
    "        result = int(result.loc[result == result.max()])\n",
    "    else:\n",
    "        result = int(result)\n",
    "    \n",
    "    return result"
   ]
  },
  {
   "cell_type": "code",
   "execution_count": 48,
   "metadata": {},
   "outputs": [],
   "source": [
    "# Функция поиска оптимальных параметров для случайного леса\n",
    "def RandomForestClassifier_SelectionOfParametrs(\n",
    "    features_train, target_train, \n",
    "    features_test, target_test, \n",
    "    class_weight, balance_type, quality_metrics\n",
    "):\n",
    "    # Поиск max_depth\n",
    "    depth_f1 = pd.DataFrame(columns=['depth', 'f1']) \n",
    "    for depth in range(1, 30, 1):\n",
    "        model = RandomForestClassifier(\n",
    "            class_weight=class_weight, \n",
    "            n_estimators=20, \n",
    "            max_depth=depth, \n",
    "            random_state=12345\n",
    "        )\n",
    "        model.fit(features_train, target_train)\n",
    "        predictions_test = model.predict(features_test)\n",
    "        \n",
    "        depth_f1 = depth_f1.append(pd.DataFrame({\n",
    "            'depth': [depth], \n",
    "            'f1': [f1_score(target_test, predictions_test)]\n",
    "        }), ignore_index=True)\n",
    "        print('max_depth:', depth)\n",
    "        print('f1:', f1_score(target_test, predictions_test))\n",
    "        print()\n",
    "    \n",
    "    depth = int(depth_f1.loc[depth_f1['f1'] == depth_f1['f1'].max(), 'depth'])\n",
    "    \n",
    "    # Поиск n_estimators крупными шагами\n",
    "    n_estimators = RandomForestClassifier_SelectionOfParametrs_NEstimatorsItrator(\n",
    "        features_train, target_train, \n",
    "        features_test, target_test, \n",
    "        class_weight, depth, 50, 252, 10\n",
    "    )\n",
    "    \n",
    "    # Модель случайного леса с оптимальными параметрами\n",
    "    model = RandomForestClassifier(\n",
    "        n_estimators=n_estimators, \n",
    "        max_depth=depth, \n",
    "        random_state=12345\n",
    "    )\n",
    "    model.fit(features_train, target_train)\n",
    "    predictions_test = model.predict(features_test)\n",
    "    probabilities_test = model.predict_proba(features_test)\n",
    "\n",
    "    # Анализ метрик качества моделей\n",
    "    quality_metrics = output_of_quality_metrics(target_train, target_test, \n",
    "                                                predictions_test, probabilities_test, \n",
    "                                                quality_metrics, \n",
    "                                                'RandomForestClassifier', balance_type, \n",
    "                                                class_weight, depth, n_estimators\n",
    "                                               )\n",
    "    print('\\nmax_depth:', depth)\n",
    "    print('n_estimators:', n_estimators)\n",
    "    \n",
    "    return quality_metrics\n"
   ]
  },
  {
   "cell_type": "code",
   "execution_count": 49,
   "metadata": {},
   "outputs": [
    {
     "name": "stderr",
     "output_type": "stream",
     "text": [
      "C:\\Users\\pleskaks\\AppData\\Local\\Temp\\ipykernel_30768\\24899568.py:19: FutureWarning: The frame.append method is deprecated and will be removed from pandas in a future version. Use pandas.concat instead.\n",
      "  depth_f1 = depth_f1.append(pd.DataFrame({\n",
      "C:\\Users\\pleskaks\\AppData\\Local\\Temp\\ipykernel_30768\\24899568.py:19: FutureWarning: The frame.append method is deprecated and will be removed from pandas in a future version. Use pandas.concat instead.\n",
      "  depth_f1 = depth_f1.append(pd.DataFrame({\n"
     ]
    },
    {
     "name": "stdout",
     "output_type": "stream",
     "text": [
      "max_depth: 1\n",
      "f1: 0.11494252873563218\n",
      "\n",
      "max_depth: 2\n",
      "f1: 0.21748400852878466\n",
      "\n"
     ]
    },
    {
     "name": "stderr",
     "output_type": "stream",
     "text": [
      "C:\\Users\\pleskaks\\AppData\\Local\\Temp\\ipykernel_30768\\24899568.py:19: FutureWarning: The frame.append method is deprecated and will be removed from pandas in a future version. Use pandas.concat instead.\n",
      "  depth_f1 = depth_f1.append(pd.DataFrame({\n",
      "C:\\Users\\pleskaks\\AppData\\Local\\Temp\\ipykernel_30768\\24899568.py:19: FutureWarning: The frame.append method is deprecated and will be removed from pandas in a future version. Use pandas.concat instead.\n",
      "  depth_f1 = depth_f1.append(pd.DataFrame({\n"
     ]
    },
    {
     "name": "stdout",
     "output_type": "stream",
     "text": [
      "max_depth: 3\n",
      "f1: 0.21748400852878466\n",
      "\n",
      "max_depth: 4\n",
      "f1: 0.509274873524452\n",
      "\n"
     ]
    },
    {
     "name": "stderr",
     "output_type": "stream",
     "text": [
      "C:\\Users\\pleskaks\\AppData\\Local\\Temp\\ipykernel_30768\\24899568.py:19: FutureWarning: The frame.append method is deprecated and will be removed from pandas in a future version. Use pandas.concat instead.\n",
      "  depth_f1 = depth_f1.append(pd.DataFrame({\n"
     ]
    },
    {
     "name": "stdout",
     "output_type": "stream",
     "text": [
      "max_depth: 5\n",
      "f1: 0.5174129353233831\n",
      "\n"
     ]
    },
    {
     "name": "stderr",
     "output_type": "stream",
     "text": [
      "C:\\Users\\pleskaks\\AppData\\Local\\Temp\\ipykernel_30768\\24899568.py:19: FutureWarning: The frame.append method is deprecated and will be removed from pandas in a future version. Use pandas.concat instead.\n",
      "  depth_f1 = depth_f1.append(pd.DataFrame({\n"
     ]
    },
    {
     "name": "stdout",
     "output_type": "stream",
     "text": [
      "max_depth: 6\n",
      "f1: 0.5329153605015674\n",
      "\n"
     ]
    },
    {
     "name": "stderr",
     "output_type": "stream",
     "text": [
      "C:\\Users\\pleskaks\\AppData\\Local\\Temp\\ipykernel_30768\\24899568.py:19: FutureWarning: The frame.append method is deprecated and will be removed from pandas in a future version. Use pandas.concat instead.\n",
      "  depth_f1 = depth_f1.append(pd.DataFrame({\n",
      "C:\\Users\\pleskaks\\AppData\\Local\\Temp\\ipykernel_30768\\24899568.py:19: FutureWarning: The frame.append method is deprecated and will be removed from pandas in a future version. Use pandas.concat instead.\n",
      "  depth_f1 = depth_f1.append(pd.DataFrame({\n"
     ]
    },
    {
     "name": "stdout",
     "output_type": "stream",
     "text": [
      "max_depth: 7\n",
      "f1: 0.5217391304347826\n",
      "\n",
      "max_depth: 8\n",
      "f1: 0.552469135802469\n",
      "\n"
     ]
    },
    {
     "name": "stderr",
     "output_type": "stream",
     "text": [
      "C:\\Users\\pleskaks\\AppData\\Local\\Temp\\ipykernel_30768\\24899568.py:19: FutureWarning: The frame.append method is deprecated and will be removed from pandas in a future version. Use pandas.concat instead.\n",
      "  depth_f1 = depth_f1.append(pd.DataFrame({\n"
     ]
    },
    {
     "name": "stdout",
     "output_type": "stream",
     "text": [
      "max_depth: 9\n",
      "f1: 0.5076923076923078\n",
      "\n"
     ]
    },
    {
     "name": "stderr",
     "output_type": "stream",
     "text": [
      "C:\\Users\\pleskaks\\AppData\\Local\\Temp\\ipykernel_30768\\24899568.py:19: FutureWarning: The frame.append method is deprecated and will be removed from pandas in a future version. Use pandas.concat instead.\n",
      "  depth_f1 = depth_f1.append(pd.DataFrame({\n"
     ]
    },
    {
     "name": "stdout",
     "output_type": "stream",
     "text": [
      "max_depth: 10\n",
      "f1: 0.5351724137931034\n",
      "\n"
     ]
    },
    {
     "name": "stderr",
     "output_type": "stream",
     "text": [
      "C:\\Users\\pleskaks\\AppData\\Local\\Temp\\ipykernel_30768\\24899568.py:19: FutureWarning: The frame.append method is deprecated and will be removed from pandas in a future version. Use pandas.concat instead.\n",
      "  depth_f1 = depth_f1.append(pd.DataFrame({\n"
     ]
    },
    {
     "name": "stdout",
     "output_type": "stream",
     "text": [
      "max_depth: 11\n",
      "f1: 0.5510688836104513\n",
      "\n"
     ]
    },
    {
     "name": "stderr",
     "output_type": "stream",
     "text": [
      "C:\\Users\\pleskaks\\AppData\\Local\\Temp\\ipykernel_30768\\24899568.py:19: FutureWarning: The frame.append method is deprecated and will be removed from pandas in a future version. Use pandas.concat instead.\n",
      "  depth_f1 = depth_f1.append(pd.DataFrame({\n"
     ]
    },
    {
     "name": "stdout",
     "output_type": "stream",
     "text": [
      "max_depth: 12\n",
      "f1: 0.49791376912378293\n",
      "\n"
     ]
    },
    {
     "name": "stderr",
     "output_type": "stream",
     "text": [
      "C:\\Users\\pleskaks\\AppData\\Local\\Temp\\ipykernel_30768\\24899568.py:19: FutureWarning: The frame.append method is deprecated and will be removed from pandas in a future version. Use pandas.concat instead.\n",
      "  depth_f1 = depth_f1.append(pd.DataFrame({\n"
     ]
    },
    {
     "name": "stdout",
     "output_type": "stream",
     "text": [
      "max_depth: 13\n",
      "f1: 0.5247524752475248\n",
      "\n"
     ]
    },
    {
     "name": "stderr",
     "output_type": "stream",
     "text": [
      "C:\\Users\\pleskaks\\AppData\\Local\\Temp\\ipykernel_30768\\24899568.py:19: FutureWarning: The frame.append method is deprecated and will be removed from pandas in a future version. Use pandas.concat instead.\n",
      "  depth_f1 = depth_f1.append(pd.DataFrame({\n"
     ]
    },
    {
     "name": "stdout",
     "output_type": "stream",
     "text": [
      "max_depth: 14\n",
      "f1: 0.47538677918424754\n",
      "\n"
     ]
    },
    {
     "name": "stderr",
     "output_type": "stream",
     "text": [
      "C:\\Users\\pleskaks\\AppData\\Local\\Temp\\ipykernel_30768\\24899568.py:19: FutureWarning: The frame.append method is deprecated and will be removed from pandas in a future version. Use pandas.concat instead.\n",
      "  depth_f1 = depth_f1.append(pd.DataFrame({\n"
     ]
    },
    {
     "name": "stdout",
     "output_type": "stream",
     "text": [
      "max_depth: 15\n",
      "f1: 0.5133991537376587\n",
      "\n"
     ]
    },
    {
     "name": "stderr",
     "output_type": "stream",
     "text": [
      "C:\\Users\\pleskaks\\AppData\\Local\\Temp\\ipykernel_30768\\24899568.py:19: FutureWarning: The frame.append method is deprecated and will be removed from pandas in a future version. Use pandas.concat instead.\n",
      "  depth_f1 = depth_f1.append(pd.DataFrame({\n"
     ]
    },
    {
     "name": "stdout",
     "output_type": "stream",
     "text": [
      "max_depth: 16\n",
      "f1: 0.49360613810741694\n",
      "\n"
     ]
    },
    {
     "name": "stderr",
     "output_type": "stream",
     "text": [
      "C:\\Users\\pleskaks\\AppData\\Local\\Temp\\ipykernel_30768\\24899568.py:19: FutureWarning: The frame.append method is deprecated and will be removed from pandas in a future version. Use pandas.concat instead.\n",
      "  depth_f1 = depth_f1.append(pd.DataFrame({\n"
     ]
    },
    {
     "name": "stdout",
     "output_type": "stream",
     "text": [
      "max_depth: 17\n",
      "f1: 0.5251908396946565\n",
      "\n"
     ]
    },
    {
     "name": "stderr",
     "output_type": "stream",
     "text": [
      "C:\\Users\\pleskaks\\AppData\\Local\\Temp\\ipykernel_30768\\24899568.py:19: FutureWarning: The frame.append method is deprecated and will be removed from pandas in a future version. Use pandas.concat instead.\n",
      "  depth_f1 = depth_f1.append(pd.DataFrame({\n"
     ]
    },
    {
     "name": "stdout",
     "output_type": "stream",
     "text": [
      "max_depth: 18\n",
      "f1: 0.5255474452554745\n",
      "\n"
     ]
    },
    {
     "name": "stderr",
     "output_type": "stream",
     "text": [
      "C:\\Users\\pleskaks\\AppData\\Local\\Temp\\ipykernel_30768\\24899568.py:19: FutureWarning: The frame.append method is deprecated and will be removed from pandas in a future version. Use pandas.concat instead.\n",
      "  depth_f1 = depth_f1.append(pd.DataFrame({\n"
     ]
    },
    {
     "name": "stdout",
     "output_type": "stream",
     "text": [
      "max_depth: 19\n",
      "f1: 0.5301914580265096\n",
      "\n"
     ]
    },
    {
     "name": "stderr",
     "output_type": "stream",
     "text": [
      "C:\\Users\\pleskaks\\AppData\\Local\\Temp\\ipykernel_30768\\24899568.py:19: FutureWarning: The frame.append method is deprecated and will be removed from pandas in a future version. Use pandas.concat instead.\n",
      "  depth_f1 = depth_f1.append(pd.DataFrame({\n"
     ]
    },
    {
     "name": "stdout",
     "output_type": "stream",
     "text": [
      "max_depth: 20\n",
      "f1: 0.5185185185185186\n",
      "\n"
     ]
    },
    {
     "name": "stderr",
     "output_type": "stream",
     "text": [
      "C:\\Users\\pleskaks\\AppData\\Local\\Temp\\ipykernel_30768\\24899568.py:19: FutureWarning: The frame.append method is deprecated and will be removed from pandas in a future version. Use pandas.concat instead.\n",
      "  depth_f1 = depth_f1.append(pd.DataFrame({\n"
     ]
    },
    {
     "name": "stdout",
     "output_type": "stream",
     "text": [
      "max_depth: 21\n",
      "f1: 0.5120481927710845\n",
      "\n"
     ]
    },
    {
     "name": "stderr",
     "output_type": "stream",
     "text": [
      "C:\\Users\\pleskaks\\AppData\\Local\\Temp\\ipykernel_30768\\24899568.py:19: FutureWarning: The frame.append method is deprecated and will be removed from pandas in a future version. Use pandas.concat instead.\n",
      "  depth_f1 = depth_f1.append(pd.DataFrame({\n"
     ]
    },
    {
     "name": "stdout",
     "output_type": "stream",
     "text": [
      "max_depth: 22\n",
      "f1: 0.4773790951638066\n",
      "\n"
     ]
    },
    {
     "name": "stderr",
     "output_type": "stream",
     "text": [
      "C:\\Users\\pleskaks\\AppData\\Local\\Temp\\ipykernel_30768\\24899568.py:19: FutureWarning: The frame.append method is deprecated and will be removed from pandas in a future version. Use pandas.concat instead.\n",
      "  depth_f1 = depth_f1.append(pd.DataFrame({\n"
     ]
    },
    {
     "name": "stdout",
     "output_type": "stream",
     "text": [
      "max_depth: 23\n",
      "f1: 0.4544\n",
      "\n"
     ]
    },
    {
     "name": "stderr",
     "output_type": "stream",
     "text": [
      "C:\\Users\\pleskaks\\AppData\\Local\\Temp\\ipykernel_30768\\24899568.py:19: FutureWarning: The frame.append method is deprecated and will be removed from pandas in a future version. Use pandas.concat instead.\n",
      "  depth_f1 = depth_f1.append(pd.DataFrame({\n"
     ]
    },
    {
     "name": "stdout",
     "output_type": "stream",
     "text": [
      "max_depth: 24\n",
      "f1: 0.47846889952153115\n",
      "\n"
     ]
    },
    {
     "name": "stderr",
     "output_type": "stream",
     "text": [
      "C:\\Users\\pleskaks\\AppData\\Local\\Temp\\ipykernel_30768\\24899568.py:19: FutureWarning: The frame.append method is deprecated and will be removed from pandas in a future version. Use pandas.concat instead.\n",
      "  depth_f1 = depth_f1.append(pd.DataFrame({\n"
     ]
    },
    {
     "name": "stdout",
     "output_type": "stream",
     "text": [
      "max_depth: 25\n",
      "f1: 0.46349206349206346\n",
      "\n"
     ]
    },
    {
     "name": "stderr",
     "output_type": "stream",
     "text": [
      "C:\\Users\\pleskaks\\AppData\\Local\\Temp\\ipykernel_30768\\24899568.py:19: FutureWarning: The frame.append method is deprecated and will be removed from pandas in a future version. Use pandas.concat instead.\n",
      "  depth_f1 = depth_f1.append(pd.DataFrame({\n"
     ]
    },
    {
     "name": "stdout",
     "output_type": "stream",
     "text": [
      "max_depth: 26\n",
      "f1: 0.4728434504792333\n",
      "\n"
     ]
    },
    {
     "name": "stderr",
     "output_type": "stream",
     "text": [
      "C:\\Users\\pleskaks\\AppData\\Local\\Temp\\ipykernel_30768\\24899568.py:19: FutureWarning: The frame.append method is deprecated and will be removed from pandas in a future version. Use pandas.concat instead.\n",
      "  depth_f1 = depth_f1.append(pd.DataFrame({\n"
     ]
    },
    {
     "name": "stdout",
     "output_type": "stream",
     "text": [
      "max_depth: 27\n",
      "f1: 0.46720000000000006\n",
      "\n"
     ]
    },
    {
     "name": "stderr",
     "output_type": "stream",
     "text": [
      "C:\\Users\\pleskaks\\AppData\\Local\\Temp\\ipykernel_30768\\24899568.py:19: FutureWarning: The frame.append method is deprecated and will be removed from pandas in a future version. Use pandas.concat instead.\n",
      "  depth_f1 = depth_f1.append(pd.DataFrame({\n"
     ]
    },
    {
     "name": "stdout",
     "output_type": "stream",
     "text": [
      "max_depth: 28\n",
      "f1: 0.46720000000000006\n",
      "\n"
     ]
    },
    {
     "name": "stderr",
     "output_type": "stream",
     "text": [
      "C:\\Users\\pleskaks\\AppData\\Local\\Temp\\ipykernel_30768\\24899568.py:19: FutureWarning: The frame.append method is deprecated and will be removed from pandas in a future version. Use pandas.concat instead.\n",
      "  depth_f1 = depth_f1.append(pd.DataFrame({\n"
     ]
    },
    {
     "name": "stdout",
     "output_type": "stream",
     "text": [
      "max_depth: 29\n",
      "f1: 0.46720000000000006\n",
      "\n"
     ]
    },
    {
     "name": "stderr",
     "output_type": "stream",
     "text": [
      "C:\\Users\\pleskaks\\AppData\\Local\\Temp\\ipykernel_30768\\183344835.py:18: FutureWarning: The frame.append method is deprecated and will be removed from pandas in a future version. Use pandas.concat instead.\n",
      "  n_estimators_f1 = n_estimators_f1.append(pd.DataFrame({\n"
     ]
    },
    {
     "name": "stdout",
     "output_type": "stream",
     "text": [
      "n_estimators: 50\n",
      "f1: 0.5623188405797102\n",
      "\n"
     ]
    },
    {
     "name": "stderr",
     "output_type": "stream",
     "text": [
      "C:\\Users\\pleskaks\\AppData\\Local\\Temp\\ipykernel_30768\\183344835.py:18: FutureWarning: The frame.append method is deprecated and will be removed from pandas in a future version. Use pandas.concat instead.\n",
      "  n_estimators_f1 = n_estimators_f1.append(pd.DataFrame({\n"
     ]
    },
    {
     "name": "stdout",
     "output_type": "stream",
     "text": [
      "n_estimators: 60\n",
      "f1: 0.5710144927536231\n",
      "\n"
     ]
    },
    {
     "name": "stderr",
     "output_type": "stream",
     "text": [
      "C:\\Users\\pleskaks\\AppData\\Local\\Temp\\ipykernel_30768\\183344835.py:18: FutureWarning: The frame.append method is deprecated and will be removed from pandas in a future version. Use pandas.concat instead.\n",
      "  n_estimators_f1 = n_estimators_f1.append(pd.DataFrame({\n"
     ]
    },
    {
     "name": "stdout",
     "output_type": "stream",
     "text": [
      "n_estimators: 70\n",
      "f1: 0.5693430656934306\n",
      "\n"
     ]
    },
    {
     "name": "stderr",
     "output_type": "stream",
     "text": [
      "C:\\Users\\pleskaks\\AppData\\Local\\Temp\\ipykernel_30768\\183344835.py:18: FutureWarning: The frame.append method is deprecated and will be removed from pandas in a future version. Use pandas.concat instead.\n",
      "  n_estimators_f1 = n_estimators_f1.append(pd.DataFrame({\n"
     ]
    },
    {
     "name": "stdout",
     "output_type": "stream",
     "text": [
      "n_estimators: 80\n",
      "f1: 0.5718518518518518\n",
      "\n"
     ]
    },
    {
     "name": "stderr",
     "output_type": "stream",
     "text": [
      "C:\\Users\\pleskaks\\AppData\\Local\\Temp\\ipykernel_30768\\183344835.py:18: FutureWarning: The frame.append method is deprecated and will be removed from pandas in a future version. Use pandas.concat instead.\n",
      "  n_estimators_f1 = n_estimators_f1.append(pd.DataFrame({\n"
     ]
    },
    {
     "name": "stdout",
     "output_type": "stream",
     "text": [
      "n_estimators: 90\n",
      "f1: 0.5735512630014858\n",
      "\n"
     ]
    },
    {
     "name": "stderr",
     "output_type": "stream",
     "text": [
      "C:\\Users\\pleskaks\\AppData\\Local\\Temp\\ipykernel_30768\\183344835.py:18: FutureWarning: The frame.append method is deprecated and will be removed from pandas in a future version. Use pandas.concat instead.\n",
      "  n_estimators_f1 = n_estimators_f1.append(pd.DataFrame({\n"
     ]
    },
    {
     "name": "stdout",
     "output_type": "stream",
     "text": [
      "n_estimators: 100\n",
      "f1: 0.5616641901931648\n",
      "\n"
     ]
    },
    {
     "name": "stderr",
     "output_type": "stream",
     "text": [
      "C:\\Users\\pleskaks\\AppData\\Local\\Temp\\ipykernel_30768\\183344835.py:18: FutureWarning: The frame.append method is deprecated and will be removed from pandas in a future version. Use pandas.concat instead.\n",
      "  n_estimators_f1 = n_estimators_f1.append(pd.DataFrame({\n"
     ]
    },
    {
     "name": "stdout",
     "output_type": "stream",
     "text": [
      "n_estimators: 110\n",
      "f1: 0.5672514619883041\n",
      "\n"
     ]
    },
    {
     "name": "stderr",
     "output_type": "stream",
     "text": [
      "C:\\Users\\pleskaks\\AppData\\Local\\Temp\\ipykernel_30768\\183344835.py:18: FutureWarning: The frame.append method is deprecated and will be removed from pandas in a future version. Use pandas.concat instead.\n",
      "  n_estimators_f1 = n_estimators_f1.append(pd.DataFrame({\n"
     ]
    },
    {
     "name": "stdout",
     "output_type": "stream",
     "text": [
      "n_estimators: 120\n",
      "f1: 0.5614035087719299\n",
      "\n"
     ]
    },
    {
     "name": "stderr",
     "output_type": "stream",
     "text": [
      "C:\\Users\\pleskaks\\AppData\\Local\\Temp\\ipykernel_30768\\183344835.py:18: FutureWarning: The frame.append method is deprecated and will be removed from pandas in a future version. Use pandas.concat instead.\n",
      "  n_estimators_f1 = n_estimators_f1.append(pd.DataFrame({\n"
     ]
    },
    {
     "name": "stdout",
     "output_type": "stream",
     "text": [
      "n_estimators: 130\n",
      "f1: 0.557037037037037\n",
      "\n"
     ]
    },
    {
     "name": "stderr",
     "output_type": "stream",
     "text": [
      "C:\\Users\\pleskaks\\AppData\\Local\\Temp\\ipykernel_30768\\183344835.py:18: FutureWarning: The frame.append method is deprecated and will be removed from pandas in a future version. Use pandas.concat instead.\n",
      "  n_estimators_f1 = n_estimators_f1.append(pd.DataFrame({\n"
     ]
    },
    {
     "name": "stdout",
     "output_type": "stream",
     "text": [
      "n_estimators: 140\n",
      "f1: 0.5617647058823529\n",
      "\n"
     ]
    },
    {
     "name": "stderr",
     "output_type": "stream",
     "text": [
      "C:\\Users\\pleskaks\\AppData\\Local\\Temp\\ipykernel_30768\\183344835.py:18: FutureWarning: The frame.append method is deprecated and will be removed from pandas in a future version. Use pandas.concat instead.\n",
      "  n_estimators_f1 = n_estimators_f1.append(pd.DataFrame({\n"
     ]
    },
    {
     "name": "stdout",
     "output_type": "stream",
     "text": [
      "n_estimators: 150\n",
      "f1: 0.5612998522895126\n",
      "\n"
     ]
    },
    {
     "name": "stderr",
     "output_type": "stream",
     "text": [
      "C:\\Users\\pleskaks\\AppData\\Local\\Temp\\ipykernel_30768\\183344835.py:18: FutureWarning: The frame.append method is deprecated and will be removed from pandas in a future version. Use pandas.concat instead.\n",
      "  n_estimators_f1 = n_estimators_f1.append(pd.DataFrame({\n"
     ]
    },
    {
     "name": "stdout",
     "output_type": "stream",
     "text": [
      "n_estimators: 160\n",
      "f1: 0.5538922155688623\n",
      "\n"
     ]
    },
    {
     "name": "stderr",
     "output_type": "stream",
     "text": [
      "C:\\Users\\pleskaks\\AppData\\Local\\Temp\\ipykernel_30768\\183344835.py:18: FutureWarning: The frame.append method is deprecated and will be removed from pandas in a future version. Use pandas.concat instead.\n",
      "  n_estimators_f1 = n_estimators_f1.append(pd.DataFrame({\n"
     ]
    },
    {
     "name": "stdout",
     "output_type": "stream",
     "text": [
      "n_estimators: 170\n",
      "f1: 0.5532544378698225\n",
      "\n"
     ]
    },
    {
     "name": "stderr",
     "output_type": "stream",
     "text": [
      "C:\\Users\\pleskaks\\AppData\\Local\\Temp\\ipykernel_30768\\183344835.py:18: FutureWarning: The frame.append method is deprecated and will be removed from pandas in a future version. Use pandas.concat instead.\n",
      "  n_estimators_f1 = n_estimators_f1.append(pd.DataFrame({\n"
     ]
    },
    {
     "name": "stdout",
     "output_type": "stream",
     "text": [
      "n_estimators: 180\n",
      "f1: 0.552870090634441\n",
      "\n"
     ]
    },
    {
     "name": "stderr",
     "output_type": "stream",
     "text": [
      "C:\\Users\\pleskaks\\AppData\\Local\\Temp\\ipykernel_30768\\183344835.py:18: FutureWarning: The frame.append method is deprecated and will be removed from pandas in a future version. Use pandas.concat instead.\n",
      "  n_estimators_f1 = n_estimators_f1.append(pd.DataFrame({\n"
     ]
    },
    {
     "name": "stdout",
     "output_type": "stream",
     "text": [
      "n_estimators: 190\n",
      "f1: 0.5495495495495495\n",
      "\n"
     ]
    },
    {
     "name": "stderr",
     "output_type": "stream",
     "text": [
      "C:\\Users\\pleskaks\\AppData\\Local\\Temp\\ipykernel_30768\\183344835.py:18: FutureWarning: The frame.append method is deprecated and will be removed from pandas in a future version. Use pandas.concat instead.\n",
      "  n_estimators_f1 = n_estimators_f1.append(pd.DataFrame({\n"
     ]
    },
    {
     "name": "stdout",
     "output_type": "stream",
     "text": [
      "n_estimators: 200\n",
      "f1: 0.5555555555555556\n",
      "\n"
     ]
    },
    {
     "name": "stderr",
     "output_type": "stream",
     "text": [
      "C:\\Users\\pleskaks\\AppData\\Local\\Temp\\ipykernel_30768\\183344835.py:18: FutureWarning: The frame.append method is deprecated and will be removed from pandas in a future version. Use pandas.concat instead.\n",
      "  n_estimators_f1 = n_estimators_f1.append(pd.DataFrame({\n"
     ]
    },
    {
     "name": "stdout",
     "output_type": "stream",
     "text": [
      "n_estimators: 210\n",
      "f1: 0.5547226386806597\n",
      "\n"
     ]
    },
    {
     "name": "stderr",
     "output_type": "stream",
     "text": [
      "C:\\Users\\pleskaks\\AppData\\Local\\Temp\\ipykernel_30768\\183344835.py:18: FutureWarning: The frame.append method is deprecated and will be removed from pandas in a future version. Use pandas.concat instead.\n",
      "  n_estimators_f1 = n_estimators_f1.append(pd.DataFrame({\n"
     ]
    },
    {
     "name": "stdout",
     "output_type": "stream",
     "text": [
      "n_estimators: 220\n",
      "f1: 0.5585585585585586\n",
      "\n"
     ]
    },
    {
     "name": "stderr",
     "output_type": "stream",
     "text": [
      "C:\\Users\\pleskaks\\AppData\\Local\\Temp\\ipykernel_30768\\183344835.py:18: FutureWarning: The frame.append method is deprecated and will be removed from pandas in a future version. Use pandas.concat instead.\n",
      "  n_estimators_f1 = n_estimators_f1.append(pd.DataFrame({\n"
     ]
    },
    {
     "name": "stdout",
     "output_type": "stream",
     "text": [
      "n_estimators: 230\n",
      "f1: 0.5542168674698795\n",
      "\n"
     ]
    },
    {
     "name": "stderr",
     "output_type": "stream",
     "text": [
      "C:\\Users\\pleskaks\\AppData\\Local\\Temp\\ipykernel_30768\\183344835.py:18: FutureWarning: The frame.append method is deprecated and will be removed from pandas in a future version. Use pandas.concat instead.\n",
      "  n_estimators_f1 = n_estimators_f1.append(pd.DataFrame({\n"
     ]
    },
    {
     "name": "stdout",
     "output_type": "stream",
     "text": [
      "n_estimators: 240\n",
      "f1: 0.5542168674698795\n",
      "\n"
     ]
    },
    {
     "name": "stderr",
     "output_type": "stream",
     "text": [
      "C:\\Users\\pleskaks\\AppData\\Local\\Temp\\ipykernel_30768\\183344835.py:18: FutureWarning: The frame.append method is deprecated and will be removed from pandas in a future version. Use pandas.concat instead.\n",
      "  n_estimators_f1 = n_estimators_f1.append(pd.DataFrame({\n"
     ]
    },
    {
     "name": "stdout",
     "output_type": "stream",
     "text": [
      "n_estimators: 250\n",
      "f1: 0.5555555555555556\n",
      "\n"
     ]
    },
    {
     "data": {
      "image/png": "[encoded data removed]",
      "text/plain": [
       "<Figure size 640x480 with 1 Axes>"
      ]
     },
     "metadata": {},
     "output_type": "display_data"
    },
    {
     "name": "stdout",
     "output_type": "stream",
     "text": [
      "AUC-ROC: 0.8370778524963547\n",
      "Accuracy: 0.8562124248496994\n",
      "F1: 0.5735512630014858\n",
      "\n",
      "TP: 193\n",
      "TN: 1516\n",
      "FP: 73\n",
      "FN: 214\n",
      "\n",
      "max_depth: 8\n",
      "n_estimators: 90\n"
     ]
    },
    {
     "name": "stderr",
     "output_type": "stream",
     "text": [
      "C:\\Users\\pleskaks\\AppData\\Local\\Temp\\ipykernel_30768\\3826688679.py:53: FutureWarning: The frame.append method is deprecated and will be removed from pandas in a future version. Use pandas.concat instead.\n",
      "  quality_metrics = quality_metrics.append({\n"
     ]
    }
   ],
   "source": [
    "# Модель случайного леса без балансировки классов\n",
    "quality_metrics = RandomForestClassifier_SelectionOfParametrs(\n",
    "    features_train_wooden, target_train, \n",
    "    features_valid_wooden, target_valid, \n",
    "    None, 'none', quality_metrics\n",
    ")\n"
   ]
  },
  {
   "cell_type": "markdown",
   "metadata": {},
   "source": [
    "Проверка на мультиколлинеарность выборок для логистических моделей"
   ]
  },
  {
   "cell_type": "code",
   "execution_count": 50,
   "metadata": {},
   "outputs": [
    {
     "data": {
      "text/html": [
       "<div>\n",
       "<style scoped>\n",
       "    .dataframe tbody tr th:only-of-type {\n",
       "        vertical-align: middle;\n",
       "    }\n",
       "\n",
       "    .dataframe tbody tr th {\n",
       "        vertical-align: top;\n",
       "    }\n",
       "\n",
       "    .dataframe thead th {\n",
       "        text-align: right;\n",
       "    }\n",
       "</style>\n",
       "<table border=\"1\" class=\"dataframe\">\n",
       "  <thead>\n",
       "    <tr style=\"text-align: right;\">\n",
       "      <th></th>\n",
       "      <th>number</th>\n",
       "      <th>id</th>\n",
       "      <th>age</th>\n",
       "      <th>years_registration</th>\n",
       "      <th>num_of_products</th>\n",
       "      <th>has_card</th>\n",
       "      <th>is_active</th>\n",
       "      <th>gender_Female</th>\n",
       "      <th>gender_Male</th>\n",
       "      <th>city_Екатеринбург</th>\n",
       "      <th>city_Москва</th>\n",
       "      <th>city_Санкт-Петербург</th>\n",
       "      <th>exited</th>\n",
       "    </tr>\n",
       "  </thead>\n",
       "  <tbody>\n",
       "    <tr>\n",
       "      <th>number</th>\n",
       "      <td>1.000000</td>\n",
       "      <td>0.000045</td>\n",
       "      <td>-0.001943</td>\n",
       "      <td>-0.010368</td>\n",
       "      <td>0.015269</td>\n",
       "      <td>-0.007621</td>\n",
       "      <td>0.021751</td>\n",
       "      <td>-0.417534</td>\n",
       "      <td>-0.490022</td>\n",
       "      <td>-0.455854</td>\n",
       "      <td>-0.283541</td>\n",
       "      <td>-0.295659</td>\n",
       "      <td>0.002373</td>\n",
       "    </tr>\n",
       "    <tr>\n",
       "      <th>id</th>\n",
       "      <td>0.000045</td>\n",
       "      <td>1.000000</td>\n",
       "      <td>-0.002536</td>\n",
       "      <td>-0.017628</td>\n",
       "      <td>0.019867</td>\n",
       "      <td>-0.010579</td>\n",
       "      <td>0.002978</td>\n",
       "      <td>-0.001127</td>\n",
       "      <td>0.001316</td>\n",
       "      <td>-0.006059</td>\n",
       "      <td>0.016028</td>\n",
       "      <td>-0.008018</td>\n",
       "      <td>-0.014063</td>\n",
       "    </tr>\n",
       "    <tr>\n",
       "      <th>age</th>\n",
       "      <td>-0.001943</td>\n",
       "      <td>-0.002536</td>\n",
       "      <td>1.000000</td>\n",
       "      <td>-0.010170</td>\n",
       "      <td>-0.016154</td>\n",
       "      <td>-0.012094</td>\n",
       "      <td>0.096178</td>\n",
       "      <td>-0.004121</td>\n",
       "      <td>0.001774</td>\n",
       "      <td>0.021715</td>\n",
       "      <td>-0.013336</td>\n",
       "      <td>-0.017217</td>\n",
       "      <td>0.288363</td>\n",
       "    </tr>\n",
       "    <tr>\n",
       "      <th>years_registration</th>\n",
       "      <td>-0.010368</td>\n",
       "      <td>-0.017628</td>\n",
       "      <td>-0.010170</td>\n",
       "      <td>1.000000</td>\n",
       "      <td>0.007917</td>\n",
       "      <td>0.016880</td>\n",
       "      <td>-0.029659</td>\n",
       "      <td>0.019366</td>\n",
       "      <td>-0.003874</td>\n",
       "      <td>0.000636</td>\n",
       "      <td>0.018693</td>\n",
       "      <td>-0.000652</td>\n",
       "      <td>-0.010706</td>\n",
       "    </tr>\n",
       "    <tr>\n",
       "      <th>num_of_products</th>\n",
       "      <td>0.015269</td>\n",
       "      <td>0.019867</td>\n",
       "      <td>-0.016154</td>\n",
       "      <td>0.007917</td>\n",
       "      <td>1.000000</td>\n",
       "      <td>0.014449</td>\n",
       "      <td>-0.003077</td>\n",
       "      <td>-0.019912</td>\n",
       "      <td>0.005443</td>\n",
       "      <td>0.004103</td>\n",
       "      <td>-0.000560</td>\n",
       "      <td>-0.022276</td>\n",
       "      <td>-0.025332</td>\n",
       "    </tr>\n",
       "    <tr>\n",
       "      <th>has_card</th>\n",
       "      <td>-0.007621</td>\n",
       "      <td>-0.010579</td>\n",
       "      <td>-0.012094</td>\n",
       "      <td>0.016880</td>\n",
       "      <td>0.014449</td>\n",
       "      <td>1.000000</td>\n",
       "      <td>-0.008299</td>\n",
       "      <td>0.006116</td>\n",
       "      <td>-0.001895</td>\n",
       "      <td>-0.003287</td>\n",
       "      <td>0.001967</td>\n",
       "      <td>0.007341</td>\n",
       "      <td>-0.021298</td>\n",
       "    </tr>\n",
       "    <tr>\n",
       "      <th>is_active</th>\n",
       "      <td>0.021751</td>\n",
       "      <td>0.002978</td>\n",
       "      <td>0.096178</td>\n",
       "      <td>-0.029659</td>\n",
       "      <td>-0.003077</td>\n",
       "      <td>-0.008299</td>\n",
       "      <td>1.000000</td>\n",
       "      <td>-0.001763</td>\n",
       "      <td>-0.018459</td>\n",
       "      <td>-0.007843</td>\n",
       "      <td>-0.008993</td>\n",
       "      <td>-0.007436</td>\n",
       "      <td>-0.142575</td>\n",
       "    </tr>\n",
       "    <tr>\n",
       "      <th>gender_Female</th>\n",
       "      <td>-0.417534</td>\n",
       "      <td>-0.001127</td>\n",
       "      <td>-0.004121</td>\n",
       "      <td>0.019366</td>\n",
       "      <td>-0.019912</td>\n",
       "      <td>0.006116</td>\n",
       "      <td>-0.001763</td>\n",
       "      <td>1.000000</td>\n",
       "      <td>-0.424723</td>\n",
       "      <td>0.251749</td>\n",
       "      <td>0.194050</td>\n",
       "      <td>0.165055</td>\n",
       "      <td>0.001235</td>\n",
       "    </tr>\n",
       "    <tr>\n",
       "      <th>gender_Male</th>\n",
       "      <td>-0.490022</td>\n",
       "      <td>0.001316</td>\n",
       "      <td>0.001774</td>\n",
       "      <td>-0.003874</td>\n",
       "      <td>0.005443</td>\n",
       "      <td>-0.001895</td>\n",
       "      <td>-0.018459</td>\n",
       "      <td>-0.424723</td>\n",
       "      <td>1.000000</td>\n",
       "      <td>0.318841</td>\n",
       "      <td>0.178366</td>\n",
       "      <td>0.202640</td>\n",
       "      <td>-0.011916</td>\n",
       "    </tr>\n",
       "    <tr>\n",
       "      <th>city_Екатеринбург</th>\n",
       "      <td>-0.455854</td>\n",
       "      <td>-0.006059</td>\n",
       "      <td>0.021715</td>\n",
       "      <td>0.000636</td>\n",
       "      <td>0.004103</td>\n",
       "      <td>-0.003287</td>\n",
       "      <td>-0.007843</td>\n",
       "      <td>0.251749</td>\n",
       "      <td>0.318841</td>\n",
       "      <td>1.000000</td>\n",
       "      <td>-0.274790</td>\n",
       "      <td>-0.272465</td>\n",
       "      <td>-0.004494</td>\n",
       "    </tr>\n",
       "    <tr>\n",
       "      <th>city_Москва</th>\n",
       "      <td>-0.283541</td>\n",
       "      <td>0.016028</td>\n",
       "      <td>-0.013336</td>\n",
       "      <td>0.018693</td>\n",
       "      <td>-0.000560</td>\n",
       "      <td>0.001967</td>\n",
       "      <td>-0.008993</td>\n",
       "      <td>0.194050</td>\n",
       "      <td>0.178366</td>\n",
       "      <td>-0.274790</td>\n",
       "      <td>1.000000</td>\n",
       "      <td>-0.176998</td>\n",
       "      <td>-0.002248</td>\n",
       "    </tr>\n",
       "    <tr>\n",
       "      <th>city_Санкт-Петербург</th>\n",
       "      <td>-0.295659</td>\n",
       "      <td>-0.008018</td>\n",
       "      <td>-0.017217</td>\n",
       "      <td>-0.000652</td>\n",
       "      <td>-0.022276</td>\n",
       "      <td>0.007341</td>\n",
       "      <td>-0.007436</td>\n",
       "      <td>0.165055</td>\n",
       "      <td>0.202640</td>\n",
       "      <td>-0.272465</td>\n",
       "      <td>-0.176998</td>\n",
       "      <td>1.000000</td>\n",
       "      <td>-0.006157</td>\n",
       "    </tr>\n",
       "    <tr>\n",
       "      <th>exited</th>\n",
       "      <td>0.002373</td>\n",
       "      <td>-0.014063</td>\n",
       "      <td>0.288363</td>\n",
       "      <td>-0.010706</td>\n",
       "      <td>-0.025332</td>\n",
       "      <td>-0.021298</td>\n",
       "      <td>-0.142575</td>\n",
       "      <td>0.001235</td>\n",
       "      <td>-0.011916</td>\n",
       "      <td>-0.004494</td>\n",
       "      <td>-0.002248</td>\n",
       "      <td>-0.006157</td>\n",
       "      <td>1.000000</td>\n",
       "    </tr>\n",
       "  </tbody>\n",
       "</table>\n",
       "</div>"
      ],
      "text/plain": [
       "                        number        id       age  years_registration  \\\n",
       "number                1.000000  0.000045 -0.001943           -0.010368   \n",
       "id                    0.000045  1.000000 -0.002536           -0.017628   \n",
       "age                  -0.001943 -0.002536  1.000000           -0.010170   \n",
       "years_registration   -0.010368 -0.017628 -0.010170            1.000000   \n",
       "num_of_products       0.015269  0.019867 -0.016154            0.007917   \n",
       "has_card             -0.007621 -0.010579 -0.012094            0.016880   \n",
       "is_active             0.021751  0.002978  0.096178           -0.029659   \n",
       "gender_Female        -0.417534 -0.001127 -0.004121            0.019366   \n",
       "gender_Male          -0.490022  0.001316  0.001774           -0.003874   \n",
       "city_Екатеринбург    -0.455854 -0.006059  0.021715            0.000636   \n",
       "city_Москва          -0.283541  0.016028 -0.013336            0.018693   \n",
       "city_Санкт-Петербург -0.295659 -0.008018 -0.017217           -0.000652   \n",
       "exited                0.002373 -0.014063  0.288363           -0.010706   \n",
       "\n",
       "                      num_of_products  has_card  is_active  gender_Female  \\\n",
       "number                       0.015269 -0.007621   0.021751      -0.417534   \n",
       "id                           0.019867 -0.010579   0.002978      -0.001127   \n",
       "age                         -0.016154 -0.012094   0.096178      -0.004121   \n",
       "years_registration           0.007917  0.016880  -0.029659       0.019366   \n",
       "num_of_products              1.000000  0.014449  -0.003077      -0.019912   \n",
       "has_card                     0.014449  1.000000  -0.008299       0.006116   \n",
       "is_active                   -0.003077 -0.008299   1.000000      -0.001763   \n",
       "gender_Female               -0.019912  0.006116  -0.001763       1.000000   \n",
       "gender_Male                  0.005443 -0.001895  -0.018459      -0.424723   \n",
       "city_Екатеринбург            0.004103 -0.003287  -0.007843       0.251749   \n",
       "city_Москва                 -0.000560  0.001967  -0.008993       0.194050   \n",
       "city_Санкт-Петербург        -0.022276  0.007341  -0.007436       0.165055   \n",
       "exited                      -0.025332 -0.021298  -0.142575       0.001235   \n",
       "\n",
       "                      gender_Male  city_Екатеринбург  city_Москва  \\\n",
       "number                  -0.490022          -0.455854    -0.283541   \n",
       "id                       0.001316          -0.006059     0.016028   \n",
       "age                      0.001774           0.021715    -0.013336   \n",
       "years_registration      -0.003874           0.000636     0.018693   \n",
       "num_of_products          0.005443           0.004103    -0.000560   \n",
       "has_card                -0.001895          -0.003287     0.001967   \n",
       "is_active               -0.018459          -0.007843    -0.008993   \n",
       "gender_Female           -0.424723           0.251749     0.194050   \n",
       "gender_Male              1.000000           0.318841     0.178366   \n",
       "city_Екатеринбург        0.318841           1.000000    -0.274790   \n",
       "city_Москва              0.178366          -0.274790     1.000000   \n",
       "city_Санкт-Петербург     0.202640          -0.272465    -0.176998   \n",
       "exited                  -0.011916          -0.004494    -0.002248   \n",
       "\n",
       "                      city_Санкт-Петербург    exited  \n",
       "number                           -0.295659  0.002373  \n",
       "id                               -0.008018 -0.014063  \n",
       "age                              -0.017217  0.288363  \n",
       "years_registration               -0.000652 -0.010706  \n",
       "num_of_products                  -0.022276 -0.025332  \n",
       "has_card                          0.007341 -0.021298  \n",
       "is_active                        -0.007436 -0.142575  \n",
       "gender_Female                     0.165055  0.001235  \n",
       "gender_Male                       0.202640 -0.011916  \n",
       "city_Екатеринбург                -0.272465 -0.004494  \n",
       "city_Москва                      -0.176998 -0.002248  \n",
       "city_Санкт-Петербург              1.000000 -0.006157  \n",
       "exited                           -0.006157  1.000000  "
      ]
     },
     "execution_count": 50,
     "metadata": {},
     "output_type": "execute_result"
    },
    {
     "data": {
      "image/png": "[encoded data removed]",
      "text/plain": [
       "<Figure size 640x480 with 2 Axes>"
      ]
     },
     "metadata": {},
     "output_type": "display_data"
    }
   ],
   "source": [
    "sns.heatmap(features_train_logistic.join(target_train).corr()) \n",
    "features_train_logistic.join(target_train).corr()"
   ]
  },
  {
   "cell_type": "markdown",
   "metadata": {},
   "source": [
    "Проверка на мультиколлинеарность тестовых выборок"
   ]
  },
  {
   "cell_type": "code",
   "execution_count": 51,
   "metadata": {},
   "outputs": [
    {
     "data": {
      "text/html": [
       "<div>\n",
       "<style scoped>\n",
       "    .dataframe tbody tr th:only-of-type {\n",
       "        vertical-align: middle;\n",
       "    }\n",
       "\n",
       "    .dataframe tbody tr th {\n",
       "        vertical-align: top;\n",
       "    }\n",
       "\n",
       "    .dataframe thead th {\n",
       "        text-align: right;\n",
       "    }\n",
       "</style>\n",
       "<table border=\"1\" class=\"dataframe\">\n",
       "  <thead>\n",
       "    <tr style=\"text-align: right;\">\n",
       "      <th></th>\n",
       "      <th>number</th>\n",
       "      <th>id</th>\n",
       "      <th>age</th>\n",
       "      <th>years_registration</th>\n",
       "      <th>num_of_products</th>\n",
       "      <th>has_card</th>\n",
       "      <th>is_active</th>\n",
       "      <th>gender_Female</th>\n",
       "      <th>gender_Male</th>\n",
       "      <th>city_Екатеринбург</th>\n",
       "      <th>city_Москва</th>\n",
       "      <th>city_Санкт-Петербург</th>\n",
       "      <th>exited</th>\n",
       "    </tr>\n",
       "  </thead>\n",
       "  <tbody>\n",
       "    <tr>\n",
       "      <th>number</th>\n",
       "      <td>1.000000</td>\n",
       "      <td>0.024422</td>\n",
       "      <td>0.026616</td>\n",
       "      <td>-0.005495</td>\n",
       "      <td>-0.014734</td>\n",
       "      <td>0.006337</td>\n",
       "      <td>0.029466</td>\n",
       "      <td>-0.435375</td>\n",
       "      <td>-0.466545</td>\n",
       "      <td>-0.462553</td>\n",
       "      <td>-0.289254</td>\n",
       "      <td>-0.317023</td>\n",
       "      <td>-0.058434</td>\n",
       "    </tr>\n",
       "    <tr>\n",
       "      <th>id</th>\n",
       "      <td>0.024422</td>\n",
       "      <td>1.000000</td>\n",
       "      <td>0.020775</td>\n",
       "      <td>-0.019292</td>\n",
       "      <td>0.014477</td>\n",
       "      <td>-0.017682</td>\n",
       "      <td>-0.018080</td>\n",
       "      <td>-0.032912</td>\n",
       "      <td>-0.010409</td>\n",
       "      <td>-0.001085</td>\n",
       "      <td>-0.018174</td>\n",
       "      <td>-0.039706</td>\n",
       "      <td>-0.006868</td>\n",
       "    </tr>\n",
       "    <tr>\n",
       "      <th>age</th>\n",
       "      <td>0.026616</td>\n",
       "      <td>0.020775</td>\n",
       "      <td>1.000000</td>\n",
       "      <td>-0.022586</td>\n",
       "      <td>-0.057882</td>\n",
       "      <td>-0.005019</td>\n",
       "      <td>0.071413</td>\n",
       "      <td>-0.034614</td>\n",
       "      <td>-0.030495</td>\n",
       "      <td>-0.018989</td>\n",
       "      <td>-0.020820</td>\n",
       "      <td>-0.042851</td>\n",
       "      <td>0.280332</td>\n",
       "    </tr>\n",
       "    <tr>\n",
       "      <th>years_registration</th>\n",
       "      <td>-0.005495</td>\n",
       "      <td>-0.019292</td>\n",
       "      <td>-0.022586</td>\n",
       "      <td>1.000000</td>\n",
       "      <td>0.040546</td>\n",
       "      <td>0.055738</td>\n",
       "      <td>-0.028003</td>\n",
       "      <td>-0.021017</td>\n",
       "      <td>0.044050</td>\n",
       "      <td>-0.001865</td>\n",
       "      <td>0.015799</td>\n",
       "      <td>0.022568</td>\n",
       "      <td>-0.015267</td>\n",
       "    </tr>\n",
       "    <tr>\n",
       "      <th>num_of_products</th>\n",
       "      <td>-0.014734</td>\n",
       "      <td>0.014477</td>\n",
       "      <td>-0.057882</td>\n",
       "      <td>0.040546</td>\n",
       "      <td>1.000000</td>\n",
       "      <td>0.003255</td>\n",
       "      <td>0.032531</td>\n",
       "      <td>0.047035</td>\n",
       "      <td>-0.007115</td>\n",
       "      <td>0.000424</td>\n",
       "      <td>0.047592</td>\n",
       "      <td>0.006835</td>\n",
       "      <td>-0.073714</td>\n",
       "    </tr>\n",
       "    <tr>\n",
       "      <th>has_card</th>\n",
       "      <td>0.006337</td>\n",
       "      <td>-0.017682</td>\n",
       "      <td>-0.005019</td>\n",
       "      <td>0.055738</td>\n",
       "      <td>0.003255</td>\n",
       "      <td>1.000000</td>\n",
       "      <td>-0.011141</td>\n",
       "      <td>-0.011635</td>\n",
       "      <td>0.003695</td>\n",
       "      <td>-0.023689</td>\n",
       "      <td>0.010672</td>\n",
       "      <td>0.013123</td>\n",
       "      <td>0.019918</td>\n",
       "    </tr>\n",
       "    <tr>\n",
       "      <th>is_active</th>\n",
       "      <td>0.029466</td>\n",
       "      <td>-0.018080</td>\n",
       "      <td>0.071413</td>\n",
       "      <td>-0.028003</td>\n",
       "      <td>0.032531</td>\n",
       "      <td>-0.011141</td>\n",
       "      <td>1.000000</td>\n",
       "      <td>0.011539</td>\n",
       "      <td>-0.049080</td>\n",
       "      <td>-0.027814</td>\n",
       "      <td>0.006903</td>\n",
       "      <td>-0.021850</td>\n",
       "      <td>-0.171880</td>\n",
       "    </tr>\n",
       "    <tr>\n",
       "      <th>gender_Female</th>\n",
       "      <td>-0.435375</td>\n",
       "      <td>-0.032912</td>\n",
       "      <td>-0.034614</td>\n",
       "      <td>-0.021017</td>\n",
       "      <td>0.047035</td>\n",
       "      <td>-0.011635</td>\n",
       "      <td>0.011539</td>\n",
       "      <td>1.000000</td>\n",
       "      <td>-0.103654</td>\n",
       "      <td>0.439846</td>\n",
       "      <td>0.310458</td>\n",
       "      <td>0.265677</td>\n",
       "      <td>-0.010059</td>\n",
       "    </tr>\n",
       "    <tr>\n",
       "      <th>gender_Male</th>\n",
       "      <td>-0.466545</td>\n",
       "      <td>-0.010409</td>\n",
       "      <td>-0.030495</td>\n",
       "      <td>0.044050</td>\n",
       "      <td>-0.007115</td>\n",
       "      <td>0.003695</td>\n",
       "      <td>-0.049080</td>\n",
       "      <td>-0.103654</td>\n",
       "      <td>1.000000</td>\n",
       "      <td>0.481646</td>\n",
       "      <td>0.270328</td>\n",
       "      <td>0.352967</td>\n",
       "      <td>0.047750</td>\n",
       "    </tr>\n",
       "    <tr>\n",
       "      <th>city_Екатеринбург</th>\n",
       "      <td>-0.462553</td>\n",
       "      <td>-0.001085</td>\n",
       "      <td>-0.018989</td>\n",
       "      <td>-0.001865</td>\n",
       "      <td>0.000424</td>\n",
       "      <td>-0.023689</td>\n",
       "      <td>-0.027814</td>\n",
       "      <td>0.439846</td>\n",
       "      <td>0.481646</td>\n",
       "      <td>1.000000</td>\n",
       "      <td>-0.069122</td>\n",
       "      <td>-0.074184</td>\n",
       "      <td>0.027564</td>\n",
       "    </tr>\n",
       "    <tr>\n",
       "      <th>city_Москва</th>\n",
       "      <td>-0.289254</td>\n",
       "      <td>-0.018174</td>\n",
       "      <td>-0.020820</td>\n",
       "      <td>0.015799</td>\n",
       "      <td>0.047592</td>\n",
       "      <td>0.010672</td>\n",
       "      <td>0.006903</td>\n",
       "      <td>0.310458</td>\n",
       "      <td>0.270328</td>\n",
       "      <td>-0.069122</td>\n",
       "      <td>1.000000</td>\n",
       "      <td>-0.046564</td>\n",
       "      <td>0.019158</td>\n",
       "    </tr>\n",
       "    <tr>\n",
       "      <th>city_Санкт-Петербург</th>\n",
       "      <td>-0.317023</td>\n",
       "      <td>-0.039706</td>\n",
       "      <td>-0.042851</td>\n",
       "      <td>0.022568</td>\n",
       "      <td>0.006835</td>\n",
       "      <td>0.013123</td>\n",
       "      <td>-0.021850</td>\n",
       "      <td>0.265677</td>\n",
       "      <td>0.352967</td>\n",
       "      <td>-0.074184</td>\n",
       "      <td>-0.046564</td>\n",
       "      <td>1.000000</td>\n",
       "      <td>-0.002168</td>\n",
       "    </tr>\n",
       "    <tr>\n",
       "      <th>exited</th>\n",
       "      <td>-0.058434</td>\n",
       "      <td>-0.006868</td>\n",
       "      <td>0.280332</td>\n",
       "      <td>-0.015267</td>\n",
       "      <td>-0.073714</td>\n",
       "      <td>0.019918</td>\n",
       "      <td>-0.171880</td>\n",
       "      <td>-0.010059</td>\n",
       "      <td>0.047750</td>\n",
       "      <td>0.027564</td>\n",
       "      <td>0.019158</td>\n",
       "      <td>-0.002168</td>\n",
       "      <td>1.000000</td>\n",
       "    </tr>\n",
       "  </tbody>\n",
       "</table>\n",
       "</div>"
      ],
      "text/plain": [
       "                        number        id       age  years_registration  \\\n",
       "number                1.000000  0.024422  0.026616           -0.005495   \n",
       "id                    0.024422  1.000000  0.020775           -0.019292   \n",
       "age                   0.026616  0.020775  1.000000           -0.022586   \n",
       "years_registration   -0.005495 -0.019292 -0.022586            1.000000   \n",
       "num_of_products      -0.014734  0.014477 -0.057882            0.040546   \n",
       "has_card              0.006337 -0.017682 -0.005019            0.055738   \n",
       "is_active             0.029466 -0.018080  0.071413           -0.028003   \n",
       "gender_Female        -0.435375 -0.032912 -0.034614           -0.021017   \n",
       "gender_Male          -0.466545 -0.010409 -0.030495            0.044050   \n",
       "city_Екатеринбург    -0.462553 -0.001085 -0.018989           -0.001865   \n",
       "city_Москва          -0.289254 -0.018174 -0.020820            0.015799   \n",
       "city_Санкт-Петербург -0.317023 -0.039706 -0.042851            0.022568   \n",
       "exited               -0.058434 -0.006868  0.280332           -0.015267   \n",
       "\n",
       "                      num_of_products  has_card  is_active  gender_Female  \\\n",
       "number                      -0.014734  0.006337   0.029466      -0.435375   \n",
       "id                           0.014477 -0.017682  -0.018080      -0.032912   \n",
       "age                         -0.057882 -0.005019   0.071413      -0.034614   \n",
       "years_registration           0.040546  0.055738  -0.028003      -0.021017   \n",
       "num_of_products              1.000000  0.003255   0.032531       0.047035   \n",
       "has_card                     0.003255  1.000000  -0.011141      -0.011635   \n",
       "is_active                    0.032531 -0.011141   1.000000       0.011539   \n",
       "gender_Female                0.047035 -0.011635   0.011539       1.000000   \n",
       "gender_Male                 -0.007115  0.003695  -0.049080      -0.103654   \n",
       "city_Екатеринбург            0.000424 -0.023689  -0.027814       0.439846   \n",
       "city_Москва                  0.047592  0.010672   0.006903       0.310458   \n",
       "city_Санкт-Петербург         0.006835  0.013123  -0.021850       0.265677   \n",
       "exited                      -0.073714  0.019918  -0.171880      -0.010059   \n",
       "\n",
       "                      gender_Male  city_Екатеринбург  city_Москва  \\\n",
       "number                  -0.466545          -0.462553    -0.289254   \n",
       "id                      -0.010409          -0.001085    -0.018174   \n",
       "age                     -0.030495          -0.018989    -0.020820   \n",
       "years_registration       0.044050          -0.001865     0.015799   \n",
       "num_of_products         -0.007115           0.000424     0.047592   \n",
       "has_card                 0.003695          -0.023689     0.010672   \n",
       "is_active               -0.049080          -0.027814     0.006903   \n",
       "gender_Female           -0.103654           0.439846     0.310458   \n",
       "gender_Male              1.000000           0.481646     0.270328   \n",
       "city_Екатеринбург        0.481646           1.000000    -0.069122   \n",
       "city_Москва              0.270328          -0.069122     1.000000   \n",
       "city_Санкт-Петербург     0.352967          -0.074184    -0.046564   \n",
       "exited                   0.047750           0.027564     0.019158   \n",
       "\n",
       "                      city_Санкт-Петербург    exited  \n",
       "number                           -0.317023 -0.058434  \n",
       "id                               -0.039706 -0.006868  \n",
       "age                              -0.042851  0.280332  \n",
       "years_registration                0.022568 -0.015267  \n",
       "num_of_products                   0.006835 -0.073714  \n",
       "has_card                          0.013123  0.019918  \n",
       "is_active                        -0.021850 -0.171880  \n",
       "gender_Female                     0.265677 -0.010059  \n",
       "gender_Male                       0.352967  0.047750  \n",
       "city_Екатеринбург                -0.074184  0.027564  \n",
       "city_Москва                      -0.046564  0.019158  \n",
       "city_Санкт-Петербург              1.000000 -0.002168  \n",
       "exited                           -0.002168  1.000000  "
      ]
     },
     "execution_count": 51,
     "metadata": {},
     "output_type": "execute_result"
    },
    {
     "data": {
      "image/png": "[encoded data removed]",
      "text/plain": [
       "<Figure size 640x480 with 2 Axes>"
      ]
     },
     "metadata": {},
     "output_type": "display_data"
    }
   ],
   "source": [
    "sns.heatmap(features_valid_logistic.join(target_valid).corr()) \n",
    "features_valid_logistic.join(target_valid).corr()"
   ]
  },
  {
   "cell_type": "markdown",
   "metadata": {},
   "source": [
    "Модель логистической регрессии без балансировки классов"
   ]
  },
  {
   "cell_type": "code",
   "execution_count": 52,
   "metadata": {},
   "outputs": [],
   "source": [
    "# Функция поиска оптимальных параметров для логистической регрессии\n",
    "def LogisticRegression_SelectionOfParametrs(\n",
    "    features_train, target_train, \n",
    "    features_test, target_test, \n",
    "    class_weight, balance_type, quality_metrics\n",
    "):\n",
    "    # Пробное обучение методом логистической регрессии\n",
    "    model = LogisticRegression(\n",
    "        solver='liblinear', \n",
    "        class_weight=class_weight, \n",
    "        random_state=12345\n",
    "    ) \n",
    "    model.fit(features_train, target_train)\n",
    "    predictions_test = model.predict(features_test)\n",
    "    probabilities_test = model.predict_proba(features_test)\n",
    "\n",
    "    # Анализ метрик качества моделей\n",
    "    quality_metrics = output_of_quality_metrics(target_train, target_test, \n",
    "                                                predictions_test, probabilities_test, \n",
    "                                                quality_metrics, 'LogisticRegression', balance_type, \n",
    "                                                class_weight, None, None\n",
    "                                               )\n",
    "    return quality_metrics"
   ]
  },
  {
   "cell_type": "code",
   "execution_count": 53,
   "metadata": {},
   "outputs": [
    {
     "data": {
      "image/png": "[encoded data removed]",
      "text/plain": [
       "<Figure size 640x480 with 1 Axes>"
      ]
     },
     "metadata": {},
     "output_type": "display_data"
    },
    {
     "name": "stdout",
     "output_type": "stream",
     "text": [
      "AUC-ROC: 0.7374950326492176\n",
      "Accuracy: 0.814128256513026\n",
      "F1: 0.3116883116883116\n",
      "\n",
      "TP: 84\n",
      "TN: 1541\n",
      "FP: 48\n",
      "FN: 323\n"
     ]
    },
    {
     "name": "stderr",
     "output_type": "stream",
     "text": [
      "C:\\Users\\pleskaks\\AppData\\Local\\Temp\\ipykernel_30768\\3826688679.py:53: FutureWarning: The frame.append method is deprecated and will be removed from pandas in a future version. Use pandas.concat instead.\n",
      "  quality_metrics = quality_metrics.append({\n"
     ]
    }
   ],
   "source": [
    "# Модель логистической регрессии без балансировки классов\n",
    "quality_metrics = LogisticRegression_SelectionOfParametrs(\n",
    "    features_train_logistic, target_train, \n",
    "    features_valid_logistic, target_valid, \n",
    "    None, 'none', quality_metrics\n",
    ")"
   ]
  },
  {
   "cell_type": "markdown",
   "metadata": {},
   "source": [
    "Таблица изменения значений показателей качества моделей"
   ]
  },
  {
   "cell_type": "code",
   "execution_count": 54,
   "metadata": {},
   "outputs": [
    {
     "data": {
      "text/html": [
       "<div>\n",
       "<style scoped>\n",
       "    .dataframe tbody tr th:only-of-type {\n",
       "        vertical-align: middle;\n",
       "    }\n",
       "\n",
       "    .dataframe tbody tr th {\n",
       "        vertical-align: top;\n",
       "    }\n",
       "\n",
       "    .dataframe thead th {\n",
       "        text-align: right;\n",
       "    }\n",
       "</style>\n",
       "<table border=\"1\" class=\"dataframe\">\n",
       "  <thead>\n",
       "    <tr style=\"text-align: right;\">\n",
       "      <th></th>\n",
       "      <th>model</th>\n",
       "      <th>sample</th>\n",
       "      <th>auc_roc</th>\n",
       "      <th>accuracy</th>\n",
       "      <th>f1</th>\n",
       "      <th>class_weight</th>\n",
       "      <th>max_depth</th>\n",
       "      <th>n_estimators</th>\n",
       "    </tr>\n",
       "  </thead>\n",
       "  <tbody>\n",
       "    <tr>\n",
       "      <th>1</th>\n",
       "      <td>RandomForestClassifier</td>\n",
       "      <td>none</td>\n",
       "      <td>0.837078</td>\n",
       "      <td>0.856212</td>\n",
       "      <td>0.573551</td>\n",
       "      <td>None</td>\n",
       "      <td>8</td>\n",
       "      <td>90</td>\n",
       "    </tr>\n",
       "    <tr>\n",
       "      <th>0</th>\n",
       "      <td>DecisionTreeClassifier</td>\n",
       "      <td>none</td>\n",
       "      <td>0.821379</td>\n",
       "      <td>0.853206</td>\n",
       "      <td>0.552672</td>\n",
       "      <td>None</td>\n",
       "      <td>5</td>\n",
       "      <td>None</td>\n",
       "    </tr>\n",
       "    <tr>\n",
       "      <th>2</th>\n",
       "      <td>LogisticRegression</td>\n",
       "      <td>none</td>\n",
       "      <td>0.737495</td>\n",
       "      <td>0.814128</td>\n",
       "      <td>0.311688</td>\n",
       "      <td>None</td>\n",
       "      <td>None</td>\n",
       "      <td>None</td>\n",
       "    </tr>\n",
       "  </tbody>\n",
       "</table>\n",
       "</div>"
      ],
      "text/plain": [
       "                    model sample   auc_roc  accuracy        f1 class_weight  \\\n",
       "1  RandomForestClassifier   none  0.837078  0.856212  0.573551         None   \n",
       "0  DecisionTreeClassifier   none  0.821379  0.853206  0.552672         None   \n",
       "2      LogisticRegression   none  0.737495  0.814128  0.311688         None   \n",
       "\n",
       "  max_depth n_estimators  \n",
       "1         8           90  \n",
       "0         5         None  \n",
       "2      None         None  "
      ]
     },
     "execution_count": 54,
     "metadata": {},
     "output_type": "execute_result"
    }
   ],
   "source": [
    "quality_metrics.sort_values('f1', ascending=False)"
   ]
  },
  {
   "cell_type": "markdown",
   "metadata": {},
   "source": [
    "Исследование баланса классов"
   ]
  },
  {
   "cell_type": "code",
   "execution_count": 55,
   "metadata": {},
   "outputs": [
    {
     "name": "stdout",
     "output_type": "stream",
     "text": [
      "Уникальные классы целевого признака:\n",
      "[0 1]\n",
      "\n",
      "Количество объектов каждого класса целевого признака:\n",
      "Класс \"0\" = 4767\n",
      "Класс \"1\" = 1221\n"
     ]
    }
   ],
   "source": [
    "print('Уникальные классы целевого признака:') \n",
    "print(target_train.unique()) \n",
    "print() \n",
    "print('Количество объектов каждого класса целевого признака:') \n",
    "for i in target_train.unique():\n",
    "    print(f'Класс \"{i}\" =', len(target_train.loc[target_train == i])) \n"
   ]
  },
  {
   "cell_type": "code",
   "execution_count": 56,
   "metadata": {},
   "outputs": [
    {
     "name": "stdout",
     "output_type": "stream",
     "text": [
      "Отношение класса \"1.\" к классу \"0.\" целевого признака:\n"
     ]
    },
    {
     "data": {
      "text/plain": [
       "3.904176904176904"
      ]
     },
     "execution_count": 56,
     "metadata": {},
     "output_type": "execute_result"
    }
   ],
   "source": [
    "print('Отношение класса \"1.\" к классу \"0.\" целевого признака:') \n",
    "class_ratio = len(target_train.loc[target_train == 0]) / len(target_train.loc[target_train == 1]) \n",
    "class_ratio"
   ]
  },
  {
   "cell_type": "markdown",
   "metadata": {},
   "source": [
    "Модель решающего дерева с балансировкой весов классов внутри модели"
   ]
  },
  {
   "cell_type": "code",
   "execution_count": 57,
   "metadata": {},
   "outputs": [
    {
     "name": "stderr",
     "output_type": "stream",
     "text": [
      "C:\\Users\\pleskaks\\AppData\\Local\\Temp\\ipykernel_30768\\127661089.py:20: FutureWarning: The frame.append method is deprecated and will be removed from pandas in a future version. Use pandas.concat instead.\n",
      "  depth_f1 = depth_f1.append(pd.DataFrame({\n",
      "C:\\Users\\pleskaks\\AppData\\Local\\Temp\\ipykernel_30768\\127661089.py:20: FutureWarning: The frame.append method is deprecated and will be removed from pandas in a future version. Use pandas.concat instead.\n",
      "  depth_f1 = depth_f1.append(pd.DataFrame({\n",
      "C:\\Users\\pleskaks\\AppData\\Local\\Temp\\ipykernel_30768\\127661089.py:20: FutureWarning: The frame.append method is deprecated and will be removed from pandas in a future version. Use pandas.concat instead.\n",
      "  depth_f1 = depth_f1.append(pd.DataFrame({\n",
      "C:\\Users\\pleskaks\\AppData\\Local\\Temp\\ipykernel_30768\\127661089.py:20: FutureWarning: The frame.append method is deprecated and will be removed from pandas in a future version. Use pandas.concat instead.\n",
      "  depth_f1 = depth_f1.append(pd.DataFrame({\n"
     ]
    },
    {
     "name": "stdout",
     "output_type": "stream",
     "text": [
      "max_depth: 1\n",
      "f1: 0.4854186265286924\n",
      "\n",
      "max_depth: 2\n",
      "f1: 0.5177757520510483\n",
      "\n",
      "max_depth: 3\n",
      "f1: 0.4854186265286924\n",
      "\n",
      "max_depth: 4\n",
      "f1: 0.5237633365664404\n",
      "\n"
     ]
    },
    {
     "name": "stderr",
     "output_type": "stream",
     "text": [
      "C:\\Users\\pleskaks\\AppData\\Local\\Temp\\ipykernel_30768\\127661089.py:20: FutureWarning: The frame.append method is deprecated and will be removed from pandas in a future version. Use pandas.concat instead.\n",
      "  depth_f1 = depth_f1.append(pd.DataFrame({\n",
      "C:\\Users\\pleskaks\\AppData\\Local\\Temp\\ipykernel_30768\\127661089.py:20: FutureWarning: The frame.append method is deprecated and will be removed from pandas in a future version. Use pandas.concat instead.\n",
      "  depth_f1 = depth_f1.append(pd.DataFrame({\n",
      "C:\\Users\\pleskaks\\AppData\\Local\\Temp\\ipykernel_30768\\127661089.py:20: FutureWarning: The frame.append method is deprecated and will be removed from pandas in a future version. Use pandas.concat instead.\n",
      "  depth_f1 = depth_f1.append(pd.DataFrame({\n",
      "C:\\Users\\pleskaks\\AppData\\Local\\Temp\\ipykernel_30768\\127661089.py:20: FutureWarning: The frame.append method is deprecated and will be removed from pandas in a future version. Use pandas.concat instead.\n",
      "  depth_f1 = depth_f1.append(pd.DataFrame({\n",
      "C:\\Users\\pleskaks\\AppData\\Local\\Temp\\ipykernel_30768\\127661089.py:20: FutureWarning: The frame.append method is deprecated and will be removed from pandas in a future version. Use pandas.concat instead.\n",
      "  depth_f1 = depth_f1.append(pd.DataFrame({\n"
     ]
    },
    {
     "name": "stdout",
     "output_type": "stream",
     "text": [
      "max_depth: 5\n",
      "f1: 0.5434782608695652\n",
      "\n",
      "max_depth: 6\n",
      "f1: 0.4994708994708995\n",
      "\n",
      "max_depth: 7\n",
      "f1: 0.46684831970935514\n",
      "\n",
      "max_depth: 8\n",
      "f1: 0.39624608967674657\n",
      "\n",
      "max_depth: 9\n",
      "f1: 0.4000000000000001\n",
      "\n"
     ]
    },
    {
     "name": "stderr",
     "output_type": "stream",
     "text": [
      "C:\\Users\\pleskaks\\AppData\\Local\\Temp\\ipykernel_30768\\127661089.py:20: FutureWarning: The frame.append method is deprecated and will be removed from pandas in a future version. Use pandas.concat instead.\n",
      "  depth_f1 = depth_f1.append(pd.DataFrame({\n",
      "C:\\Users\\pleskaks\\AppData\\Local\\Temp\\ipykernel_30768\\127661089.py:20: FutureWarning: The frame.append method is deprecated and will be removed from pandas in a future version. Use pandas.concat instead.\n",
      "  depth_f1 = depth_f1.append(pd.DataFrame({\n",
      "C:\\Users\\pleskaks\\AppData\\Local\\Temp\\ipykernel_30768\\127661089.py:20: FutureWarning: The frame.append method is deprecated and will be removed from pandas in a future version. Use pandas.concat instead.\n",
      "  depth_f1 = depth_f1.append(pd.DataFrame({\n",
      "C:\\Users\\pleskaks\\AppData\\Local\\Temp\\ipykernel_30768\\127661089.py:20: FutureWarning: The frame.append method is deprecated and will be removed from pandas in a future version. Use pandas.concat instead.\n",
      "  depth_f1 = depth_f1.append(pd.DataFrame({\n"
     ]
    },
    {
     "name": "stdout",
     "output_type": "stream",
     "text": [
      "max_depth: 10\n",
      "f1: 0.35749751737835156\n",
      "\n",
      "max_depth: 11\n",
      "f1: 0.34623655913978496\n",
      "\n",
      "max_depth: 12\n",
      "f1: 0.31784841075794623\n",
      "\n",
      "max_depth: 13\n",
      "f1: 0.3200962695547533\n",
      "\n"
     ]
    },
    {
     "name": "stderr",
     "output_type": "stream",
     "text": [
      "C:\\Users\\pleskaks\\AppData\\Local\\Temp\\ipykernel_30768\\127661089.py:20: FutureWarning: The frame.append method is deprecated and will be removed from pandas in a future version. Use pandas.concat instead.\n",
      "  depth_f1 = depth_f1.append(pd.DataFrame({\n",
      "C:\\Users\\pleskaks\\AppData\\Local\\Temp\\ipykernel_30768\\127661089.py:20: FutureWarning: The frame.append method is deprecated and will be removed from pandas in a future version. Use pandas.concat instead.\n",
      "  depth_f1 = depth_f1.append(pd.DataFrame({\n",
      "C:\\Users\\pleskaks\\AppData\\Local\\Temp\\ipykernel_30768\\127661089.py:20: FutureWarning: The frame.append method is deprecated and will be removed from pandas in a future version. Use pandas.concat instead.\n",
      "  depth_f1 = depth_f1.append(pd.DataFrame({\n"
     ]
    },
    {
     "name": "stdout",
     "output_type": "stream",
     "text": [
      "max_depth: 14\n",
      "f1: 0.32160804020100503\n",
      "\n",
      "max_depth: 15\n",
      "f1: 0.31630170316301703\n",
      "\n",
      "max_depth: 16\n",
      "f1: 0.3139678615574784\n",
      "\n"
     ]
    },
    {
     "name": "stderr",
     "output_type": "stream",
     "text": [
      "C:\\Users\\pleskaks\\AppData\\Local\\Temp\\ipykernel_30768\\127661089.py:20: FutureWarning: The frame.append method is deprecated and will be removed from pandas in a future version. Use pandas.concat instead.\n",
      "  depth_f1 = depth_f1.append(pd.DataFrame({\n",
      "C:\\Users\\pleskaks\\AppData\\Local\\Temp\\ipykernel_30768\\127661089.py:20: FutureWarning: The frame.append method is deprecated and will be removed from pandas in a future version. Use pandas.concat instead.\n",
      "  depth_f1 = depth_f1.append(pd.DataFrame({\n",
      "C:\\Users\\pleskaks\\AppData\\Local\\Temp\\ipykernel_30768\\127661089.py:20: FutureWarning: The frame.append method is deprecated and will be removed from pandas in a future version. Use pandas.concat instead.\n",
      "  depth_f1 = depth_f1.append(pd.DataFrame({\n",
      "C:\\Users\\pleskaks\\AppData\\Local\\Temp\\ipykernel_30768\\127661089.py:20: FutureWarning: The frame.append method is deprecated and will be removed from pandas in a future version. Use pandas.concat instead.\n",
      "  depth_f1 = depth_f1.append(pd.DataFrame({\n",
      "C:\\Users\\pleskaks\\AppData\\Local\\Temp\\ipykernel_30768\\127661089.py:20: FutureWarning: The frame.append method is deprecated and will be removed from pandas in a future version. Use pandas.concat instead.\n",
      "  depth_f1 = depth_f1.append(pd.DataFrame({\n"
     ]
    },
    {
     "name": "stdout",
     "output_type": "stream",
     "text": [
      "max_depth: 17\n",
      "f1: 0.3124231242312423\n",
      "\n",
      "max_depth: 18\n",
      "f1: 0.31435643564356436\n",
      "\n",
      "max_depth: 19\n",
      "f1: 0.31488314883148827\n",
      "\n",
      "max_depth: 20\n",
      "f1: 0.31592039800995025\n",
      "\n",
      "max_depth: 21\n",
      "f1: 0.31460674157303375\n",
      "\n",
      "max_depth: 22\n",
      "f1: 0.3156596794081381\n",
      "\n",
      "max_depth: 23\n",
      "f1: 0.3122676579925651\n",
      "\n"
     ]
    },
    {
     "name": "stderr",
     "output_type": "stream",
     "text": [
      "C:\\Users\\pleskaks\\AppData\\Local\\Temp\\ipykernel_30768\\127661089.py:20: FutureWarning: The frame.append method is deprecated and will be removed from pandas in a future version. Use pandas.concat instead.\n",
      "  depth_f1 = depth_f1.append(pd.DataFrame({\n",
      "C:\\Users\\pleskaks\\AppData\\Local\\Temp\\ipykernel_30768\\127661089.py:20: FutureWarning: The frame.append method is deprecated and will be removed from pandas in a future version. Use pandas.concat instead.\n",
      "  depth_f1 = depth_f1.append(pd.DataFrame({\n",
      "C:\\Users\\pleskaks\\AppData\\Local\\Temp\\ipykernel_30768\\127661089.py:20: FutureWarning: The frame.append method is deprecated and will be removed from pandas in a future version. Use pandas.concat instead.\n",
      "  depth_f1 = depth_f1.append(pd.DataFrame({\n"
     ]
    },
    {
     "name": "stdout",
     "output_type": "stream",
     "text": [
      "max_depth: 24\n",
      "f1: 0.31527093596059114\n",
      "\n",
      "max_depth: 25\n",
      "f1: 0.31435643564356436\n",
      "\n",
      "max_depth: 26\n",
      "f1: 0.31435643564356436\n",
      "\n"
     ]
    },
    {
     "name": "stderr",
     "output_type": "stream",
     "text": [
      "C:\\Users\\pleskaks\\AppData\\Local\\Temp\\ipykernel_30768\\127661089.py:20: FutureWarning: The frame.append method is deprecated and will be removed from pandas in a future version. Use pandas.concat instead.\n",
      "  depth_f1 = depth_f1.append(pd.DataFrame({\n",
      "C:\\Users\\pleskaks\\AppData\\Local\\Temp\\ipykernel_30768\\127661089.py:20: FutureWarning: The frame.append method is deprecated and will be removed from pandas in a future version. Use pandas.concat instead.\n",
      "  depth_f1 = depth_f1.append(pd.DataFrame({\n",
      "C:\\Users\\pleskaks\\AppData\\Local\\Temp\\ipykernel_30768\\127661089.py:20: FutureWarning: The frame.append method is deprecated and will be removed from pandas in a future version. Use pandas.concat instead.\n",
      "  depth_f1 = depth_f1.append(pd.DataFrame({\n"
     ]
    },
    {
     "name": "stdout",
     "output_type": "stream",
     "text": [
      "max_depth: 27\n",
      "f1: 0.31435643564356436\n",
      "\n",
      "max_depth: 28\n",
      "f1: 0.31435643564356436\n",
      "\n"
     ]
    },
    {
     "name": "stderr",
     "output_type": "stream",
     "text": [
      "C:\\Users\\pleskaks\\AppData\\Local\\Temp\\ipykernel_30768\\127661089.py:20: FutureWarning: The frame.append method is deprecated and will be removed from pandas in a future version. Use pandas.concat instead.\n",
      "  depth_f1 = depth_f1.append(pd.DataFrame({\n",
      "C:\\Users\\pleskaks\\AppData\\Local\\Temp\\ipykernel_30768\\127661089.py:20: FutureWarning: The frame.append method is deprecated and will be removed from pandas in a future version. Use pandas.concat instead.\n",
      "  depth_f1 = depth_f1.append(pd.DataFrame({\n"
     ]
    },
    {
     "name": "stdout",
     "output_type": "stream",
     "text": [
      "max_depth: 29\n",
      "f1: 0.31435643564356436\n",
      "\n"
     ]
    },
    {
     "data": {
      "image/png": "[encoded data removed]",
      "text/plain": [
       "<Figure size 640x480 with 1 Axes>"
      ]
     },
     "metadata": {},
     "output_type": "display_data"
    },
    {
     "name": "stdout",
     "output_type": "stream",
     "text": [
      "AUC-ROC: 0.8213794777671429\n",
      "Accuracy: 0.8532064128256514\n",
      "F1: 0.5526717557251909\n",
      "\n",
      "TP: 181\n",
      "TN: 1522\n",
      "FP: 67\n",
      "FN: 226\n",
      "\n",
      "max_depth: 5\n"
     ]
    },
    {
     "name": "stderr",
     "output_type": "stream",
     "text": [
      "C:\\Users\\pleskaks\\AppData\\Local\\Temp\\ipykernel_30768\\3826688679.py:53: FutureWarning: The frame.append method is deprecated and will be removed from pandas in a future version. Use pandas.concat instead.\n",
      "  quality_metrics = quality_metrics.append({\n"
     ]
    }
   ],
   "source": [
    "quality_metrics = DecisionTreeClassifier_SelectionOfParametrs(\n",
    "    features_train_wooden, target_train, \n",
    "    features_valid_wooden, target_valid, \n",
    "    'balanced', 'balance', quality_metrics\n",
    ")"
   ]
  },
  {
   "cell_type": "markdown",
   "metadata": {},
   "source": [
    "Модель случайного леса с балансировкой весов классов внутри модели"
   ]
  },
  {
   "cell_type": "code",
   "execution_count": 58,
   "metadata": {},
   "outputs": [
    {
     "name": "stderr",
     "output_type": "stream",
     "text": [
      "C:\\Users\\pleskaks\\AppData\\Local\\Temp\\ipykernel_30768\\24899568.py:19: FutureWarning: The frame.append method is deprecated and will be removed from pandas in a future version. Use pandas.concat instead.\n",
      "  depth_f1 = depth_f1.append(pd.DataFrame({\n",
      "C:\\Users\\pleskaks\\AppData\\Local\\Temp\\ipykernel_30768\\24899568.py:19: FutureWarning: The frame.append method is deprecated and will be removed from pandas in a future version. Use pandas.concat instead.\n",
      "  depth_f1 = depth_f1.append(pd.DataFrame({\n"
     ]
    },
    {
     "name": "stdout",
     "output_type": "stream",
     "text": [
      "max_depth: 1\n",
      "f1: 0.5177757520510483\n",
      "\n",
      "max_depth: 2\n",
      "f1: 0.5177757520510483\n",
      "\n"
     ]
    },
    {
     "name": "stderr",
     "output_type": "stream",
     "text": [
      "C:\\Users\\pleskaks\\AppData\\Local\\Temp\\ipykernel_30768\\24899568.py:19: FutureWarning: The frame.append method is deprecated and will be removed from pandas in a future version. Use pandas.concat instead.\n",
      "  depth_f1 = depth_f1.append(pd.DataFrame({\n",
      "C:\\Users\\pleskaks\\AppData\\Local\\Temp\\ipykernel_30768\\24899568.py:19: FutureWarning: The frame.append method is deprecated and will be removed from pandas in a future version. Use pandas.concat instead.\n",
      "  depth_f1 = depth_f1.append(pd.DataFrame({\n"
     ]
    },
    {
     "name": "stdout",
     "output_type": "stream",
     "text": [
      "max_depth: 3\n",
      "f1: 0.553191489361702\n",
      "\n",
      "max_depth: 4\n",
      "f1: 0.5791666666666666\n",
      "\n"
     ]
    },
    {
     "name": "stderr",
     "output_type": "stream",
     "text": [
      "C:\\Users\\pleskaks\\AppData\\Local\\Temp\\ipykernel_30768\\24899568.py:19: FutureWarning: The frame.append method is deprecated and will be removed from pandas in a future version. Use pandas.concat instead.\n",
      "  depth_f1 = depth_f1.append(pd.DataFrame({\n",
      "C:\\Users\\pleskaks\\AppData\\Local\\Temp\\ipykernel_30768\\24899568.py:19: FutureWarning: The frame.append method is deprecated and will be removed from pandas in a future version. Use pandas.concat instead.\n",
      "  depth_f1 = depth_f1.append(pd.DataFrame({\n"
     ]
    },
    {
     "name": "stdout",
     "output_type": "stream",
     "text": [
      "max_depth: 5\n",
      "f1: 0.549127640036731\n",
      "\n",
      "max_depth: 6\n",
      "f1: 0.6060606060606061\n",
      "\n"
     ]
    },
    {
     "name": "stderr",
     "output_type": "stream",
     "text": [
      "C:\\Users\\pleskaks\\AppData\\Local\\Temp\\ipykernel_30768\\24899568.py:19: FutureWarning: The frame.append method is deprecated and will be removed from pandas in a future version. Use pandas.concat instead.\n",
      "  depth_f1 = depth_f1.append(pd.DataFrame({\n"
     ]
    },
    {
     "name": "stdout",
     "output_type": "stream",
     "text": [
      "max_depth: 7\n",
      "f1: 0.54524627720504\n",
      "\n"
     ]
    },
    {
     "name": "stderr",
     "output_type": "stream",
     "text": [
      "C:\\Users\\pleskaks\\AppData\\Local\\Temp\\ipykernel_30768\\24899568.py:19: FutureWarning: The frame.append method is deprecated and will be removed from pandas in a future version. Use pandas.concat instead.\n",
      "  depth_f1 = depth_f1.append(pd.DataFrame({\n"
     ]
    },
    {
     "name": "stdout",
     "output_type": "stream",
     "text": [
      "max_depth: 8\n",
      "f1: 0.5590643274853802\n",
      "\n"
     ]
    },
    {
     "name": "stderr",
     "output_type": "stream",
     "text": [
      "C:\\Users\\pleskaks\\AppData\\Local\\Temp\\ipykernel_30768\\24899568.py:19: FutureWarning: The frame.append method is deprecated and will be removed from pandas in a future version. Use pandas.concat instead.\n",
      "  depth_f1 = depth_f1.append(pd.DataFrame({\n"
     ]
    },
    {
     "name": "stdout",
     "output_type": "stream",
     "text": [
      "max_depth: 9\n",
      "f1: 0.4906204906204906\n",
      "\n"
     ]
    },
    {
     "name": "stderr",
     "output_type": "stream",
     "text": [
      "C:\\Users\\pleskaks\\AppData\\Local\\Temp\\ipykernel_30768\\24899568.py:19: FutureWarning: The frame.append method is deprecated and will be removed from pandas in a future version. Use pandas.concat instead.\n",
      "  depth_f1 = depth_f1.append(pd.DataFrame({\n"
     ]
    },
    {
     "name": "stdout",
     "output_type": "stream",
     "text": [
      "max_depth: 10\n",
      "f1: 0.4728915662650603\n",
      "\n"
     ]
    },
    {
     "name": "stderr",
     "output_type": "stream",
     "text": [
      "C:\\Users\\pleskaks\\AppData\\Local\\Temp\\ipykernel_30768\\24899568.py:19: FutureWarning: The frame.append method is deprecated and will be removed from pandas in a future version. Use pandas.concat instead.\n",
      "  depth_f1 = depth_f1.append(pd.DataFrame({\n"
     ]
    },
    {
     "name": "stdout",
     "output_type": "stream",
     "text": [
      "max_depth: 11\n",
      "f1: 0.5188284518828451\n",
      "\n"
     ]
    },
    {
     "name": "stderr",
     "output_type": "stream",
     "text": [
      "C:\\Users\\pleskaks\\AppData\\Local\\Temp\\ipykernel_30768\\24899568.py:19: FutureWarning: The frame.append method is deprecated and will be removed from pandas in a future version. Use pandas.concat instead.\n",
      "  depth_f1 = depth_f1.append(pd.DataFrame({\n"
     ]
    },
    {
     "name": "stdout",
     "output_type": "stream",
     "text": [
      "max_depth: 12\n",
      "f1: 0.3090909090909091\n",
      "\n"
     ]
    },
    {
     "name": "stderr",
     "output_type": "stream",
     "text": [
      "C:\\Users\\pleskaks\\AppData\\Local\\Temp\\ipykernel_30768\\24899568.py:19: FutureWarning: The frame.append method is deprecated and will be removed from pandas in a future version. Use pandas.concat instead.\n",
      "  depth_f1 = depth_f1.append(pd.DataFrame({\n"
     ]
    },
    {
     "name": "stdout",
     "output_type": "stream",
     "text": [
      "max_depth: 13\n",
      "f1: 0.3986486486486487\n",
      "\n"
     ]
    },
    {
     "name": "stderr",
     "output_type": "stream",
     "text": [
      "C:\\Users\\pleskaks\\AppData\\Local\\Temp\\ipykernel_30768\\24899568.py:19: FutureWarning: The frame.append method is deprecated and will be removed from pandas in a future version. Use pandas.concat instead.\n",
      "  depth_f1 = depth_f1.append(pd.DataFrame({\n"
     ]
    },
    {
     "name": "stdout",
     "output_type": "stream",
     "text": [
      "max_depth: 14\n",
      "f1: 0.19246861924686193\n",
      "\n"
     ]
    },
    {
     "name": "stderr",
     "output_type": "stream",
     "text": [
      "C:\\Users\\pleskaks\\AppData\\Local\\Temp\\ipykernel_30768\\24899568.py:19: FutureWarning: The frame.append method is deprecated and will be removed from pandas in a future version. Use pandas.concat instead.\n",
      "  depth_f1 = depth_f1.append(pd.DataFrame({\n"
     ]
    },
    {
     "name": "stdout",
     "output_type": "stream",
     "text": [
      "max_depth: 15\n",
      "f1: 0.4625407166123779\n",
      "\n"
     ]
    },
    {
     "name": "stderr",
     "output_type": "stream",
     "text": [
      "C:\\Users\\pleskaks\\AppData\\Local\\Temp\\ipykernel_30768\\24899568.py:19: FutureWarning: The frame.append method is deprecated and will be removed from pandas in a future version. Use pandas.concat instead.\n",
      "  depth_f1 = depth_f1.append(pd.DataFrame({\n"
     ]
    },
    {
     "name": "stdout",
     "output_type": "stream",
     "text": [
      "max_depth: 16\n",
      "f1: 0.46598639455782315\n",
      "\n"
     ]
    },
    {
     "name": "stderr",
     "output_type": "stream",
     "text": [
      "C:\\Users\\pleskaks\\AppData\\Local\\Temp\\ipykernel_30768\\24899568.py:19: FutureWarning: The frame.append method is deprecated and will be removed from pandas in a future version. Use pandas.concat instead.\n",
      "  depth_f1 = depth_f1.append(pd.DataFrame({\n"
     ]
    },
    {
     "name": "stdout",
     "output_type": "stream",
     "text": [
      "max_depth: 17\n",
      "f1: 0.46050420168067224\n",
      "\n"
     ]
    },
    {
     "name": "stderr",
     "output_type": "stream",
     "text": [
      "C:\\Users\\pleskaks\\AppData\\Local\\Temp\\ipykernel_30768\\24899568.py:19: FutureWarning: The frame.append method is deprecated and will be removed from pandas in a future version. Use pandas.concat instead.\n",
      "  depth_f1 = depth_f1.append(pd.DataFrame({\n"
     ]
    },
    {
     "name": "stdout",
     "output_type": "stream",
     "text": [
      "max_depth: 18\n",
      "f1: 0.42328042328042326\n",
      "\n"
     ]
    },
    {
     "name": "stderr",
     "output_type": "stream",
     "text": [
      "C:\\Users\\pleskaks\\AppData\\Local\\Temp\\ipykernel_30768\\24899568.py:19: FutureWarning: The frame.append method is deprecated and will be removed from pandas in a future version. Use pandas.concat instead.\n",
      "  depth_f1 = depth_f1.append(pd.DataFrame({\n"
     ]
    },
    {
     "name": "stdout",
     "output_type": "stream",
     "text": [
      "max_depth: 19\n",
      "f1: 0.4036697247706423\n",
      "\n"
     ]
    },
    {
     "name": "stderr",
     "output_type": "stream",
     "text": [
      "C:\\Users\\pleskaks\\AppData\\Local\\Temp\\ipykernel_30768\\24899568.py:19: FutureWarning: The frame.append method is deprecated and will be removed from pandas in a future version. Use pandas.concat instead.\n",
      "  depth_f1 = depth_f1.append(pd.DataFrame({\n"
     ]
    },
    {
     "name": "stdout",
     "output_type": "stream",
     "text": [
      "max_depth: 20\n",
      "f1: 0.4301075268817205\n",
      "\n"
     ]
    },
    {
     "name": "stderr",
     "output_type": "stream",
     "text": [
      "C:\\Users\\pleskaks\\AppData\\Local\\Temp\\ipykernel_30768\\24899568.py:19: FutureWarning: The frame.append method is deprecated and will be removed from pandas in a future version. Use pandas.concat instead.\n",
      "  depth_f1 = depth_f1.append(pd.DataFrame({\n"
     ]
    },
    {
     "name": "stdout",
     "output_type": "stream",
     "text": [
      "max_depth: 21\n",
      "f1: 0.44086021505376344\n",
      "\n"
     ]
    },
    {
     "name": "stderr",
     "output_type": "stream",
     "text": [
      "C:\\Users\\pleskaks\\AppData\\Local\\Temp\\ipykernel_30768\\24899568.py:19: FutureWarning: The frame.append method is deprecated and will be removed from pandas in a future version. Use pandas.concat instead.\n",
      "  depth_f1 = depth_f1.append(pd.DataFrame({\n"
     ]
    },
    {
     "name": "stdout",
     "output_type": "stream",
     "text": [
      "max_depth: 22\n",
      "f1: 0.4231464737793851\n",
      "\n"
     ]
    },
    {
     "name": "stderr",
     "output_type": "stream",
     "text": [
      "C:\\Users\\pleskaks\\AppData\\Local\\Temp\\ipykernel_30768\\24899568.py:19: FutureWarning: The frame.append method is deprecated and will be removed from pandas in a future version. Use pandas.concat instead.\n",
      "  depth_f1 = depth_f1.append(pd.DataFrame({\n"
     ]
    },
    {
     "name": "stdout",
     "output_type": "stream",
     "text": [
      "max_depth: 23\n",
      "f1: 0.3867403314917127\n",
      "\n"
     ]
    },
    {
     "name": "stderr",
     "output_type": "stream",
     "text": [
      "C:\\Users\\pleskaks\\AppData\\Local\\Temp\\ipykernel_30768\\24899568.py:19: FutureWarning: The frame.append method is deprecated and will be removed from pandas in a future version. Use pandas.concat instead.\n",
      "  depth_f1 = depth_f1.append(pd.DataFrame({\n"
     ]
    },
    {
     "name": "stdout",
     "output_type": "stream",
     "text": [
      "max_depth: 24\n",
      "f1: 0.27878787878787875\n",
      "\n"
     ]
    },
    {
     "name": "stderr",
     "output_type": "stream",
     "text": [
      "C:\\Users\\pleskaks\\AppData\\Local\\Temp\\ipykernel_30768\\24899568.py:19: FutureWarning: The frame.append method is deprecated and will be removed from pandas in a future version. Use pandas.concat instead.\n",
      "  depth_f1 = depth_f1.append(pd.DataFrame({\n"
     ]
    },
    {
     "name": "stdout",
     "output_type": "stream",
     "text": [
      "max_depth: 25\n",
      "f1: 0.3326810176125245\n",
      "\n"
     ]
    },
    {
     "name": "stderr",
     "output_type": "stream",
     "text": [
      "C:\\Users\\pleskaks\\AppData\\Local\\Temp\\ipykernel_30768\\24899568.py:19: FutureWarning: The frame.append method is deprecated and will be removed from pandas in a future version. Use pandas.concat instead.\n",
      "  depth_f1 = depth_f1.append(pd.DataFrame({\n"
     ]
    },
    {
     "name": "stdout",
     "output_type": "stream",
     "text": [
      "max_depth: 26\n",
      "f1: 0.3346153846153846\n",
      "\n"
     ]
    },
    {
     "name": "stderr",
     "output_type": "stream",
     "text": [
      "C:\\Users\\pleskaks\\AppData\\Local\\Temp\\ipykernel_30768\\24899568.py:19: FutureWarning: The frame.append method is deprecated and will be removed from pandas in a future version. Use pandas.concat instead.\n",
      "  depth_f1 = depth_f1.append(pd.DataFrame({\n"
     ]
    },
    {
     "name": "stdout",
     "output_type": "stream",
     "text": [
      "max_depth: 27\n",
      "f1: 0.3346153846153846\n",
      "\n"
     ]
    },
    {
     "name": "stderr",
     "output_type": "stream",
     "text": [
      "C:\\Users\\pleskaks\\AppData\\Local\\Temp\\ipykernel_30768\\24899568.py:19: FutureWarning: The frame.append method is deprecated and will be removed from pandas in a future version. Use pandas.concat instead.\n",
      "  depth_f1 = depth_f1.append(pd.DataFrame({\n"
     ]
    },
    {
     "name": "stdout",
     "output_type": "stream",
     "text": [
      "max_depth: 28\n",
      "f1: 0.3346153846153846\n",
      "\n"
     ]
    },
    {
     "name": "stderr",
     "output_type": "stream",
     "text": [
      "C:\\Users\\pleskaks\\AppData\\Local\\Temp\\ipykernel_30768\\24899568.py:19: FutureWarning: The frame.append method is deprecated and will be removed from pandas in a future version. Use pandas.concat instead.\n",
      "  depth_f1 = depth_f1.append(pd.DataFrame({\n"
     ]
    },
    {
     "name": "stdout",
     "output_type": "stream",
     "text": [
      "max_depth: 29\n",
      "f1: 0.3346153846153846\n",
      "\n"
     ]
    },
    {
     "name": "stderr",
     "output_type": "stream",
     "text": [
      "C:\\Users\\pleskaks\\AppData\\Local\\Temp\\ipykernel_30768\\183344835.py:18: FutureWarning: The frame.append method is deprecated and will be removed from pandas in a future version. Use pandas.concat instead.\n",
      "  n_estimators_f1 = n_estimators_f1.append(pd.DataFrame({\n"
     ]
    },
    {
     "name": "stdout",
     "output_type": "stream",
     "text": [
      "n_estimators: 50\n",
      "f1: 0.5978494623655914\n",
      "\n"
     ]
    },
    {
     "name": "stderr",
     "output_type": "stream",
     "text": [
      "C:\\Users\\pleskaks\\AppData\\Local\\Temp\\ipykernel_30768\\183344835.py:18: FutureWarning: The frame.append method is deprecated and will be removed from pandas in a future version. Use pandas.concat instead.\n",
      "  n_estimators_f1 = n_estimators_f1.append(pd.DataFrame({\n"
     ]
    },
    {
     "name": "stdout",
     "output_type": "stream",
     "text": [
      "n_estimators: 60\n",
      "f1: 0.6017316017316017\n",
      "\n"
     ]
    },
    {
     "name": "stderr",
     "output_type": "stream",
     "text": [
      "C:\\Users\\pleskaks\\AppData\\Local\\Temp\\ipykernel_30768\\183344835.py:18: FutureWarning: The frame.append method is deprecated and will be removed from pandas in a future version. Use pandas.concat instead.\n",
      "  n_estimators_f1 = n_estimators_f1.append(pd.DataFrame({\n"
     ]
    },
    {
     "name": "stdout",
     "output_type": "stream",
     "text": [
      "n_estimators: 70\n",
      "f1: 0.6036519871106337\n",
      "\n"
     ]
    },
    {
     "name": "stderr",
     "output_type": "stream",
     "text": [
      "C:\\Users\\pleskaks\\AppData\\Local\\Temp\\ipykernel_30768\\183344835.py:18: FutureWarning: The frame.append method is deprecated and will be removed from pandas in a future version. Use pandas.concat instead.\n",
      "  n_estimators_f1 = n_estimators_f1.append(pd.DataFrame({\n"
     ]
    },
    {
     "name": "stdout",
     "output_type": "stream",
     "text": [
      "n_estimators: 80\n",
      "f1: 0.5991379310344828\n",
      "\n"
     ]
    },
    {
     "name": "stderr",
     "output_type": "stream",
     "text": [
      "C:\\Users\\pleskaks\\AppData\\Local\\Temp\\ipykernel_30768\\183344835.py:18: FutureWarning: The frame.append method is deprecated and will be removed from pandas in a future version. Use pandas.concat instead.\n",
      "  n_estimators_f1 = n_estimators_f1.append(pd.DataFrame({\n"
     ]
    },
    {
     "name": "stdout",
     "output_type": "stream",
     "text": [
      "n_estimators: 90\n",
      "f1: 0.6017505470459518\n",
      "\n"
     ]
    },
    {
     "name": "stderr",
     "output_type": "stream",
     "text": [
      "C:\\Users\\pleskaks\\AppData\\Local\\Temp\\ipykernel_30768\\183344835.py:18: FutureWarning: The frame.append method is deprecated and will be removed from pandas in a future version. Use pandas.concat instead.\n",
      "  n_estimators_f1 = n_estimators_f1.append(pd.DataFrame({\n"
     ]
    },
    {
     "name": "stdout",
     "output_type": "stream",
     "text": [
      "n_estimators: 100\n",
      "f1: 0.5989304812834225\n",
      "\n"
     ]
    },
    {
     "name": "stderr",
     "output_type": "stream",
     "text": [
      "C:\\Users\\pleskaks\\AppData\\Local\\Temp\\ipykernel_30768\\183344835.py:18: FutureWarning: The frame.append method is deprecated and will be removed from pandas in a future version. Use pandas.concat instead.\n",
      "  n_estimators_f1 = n_estimators_f1.append(pd.DataFrame({\n"
     ]
    },
    {
     "name": "stdout",
     "output_type": "stream",
     "text": [
      "n_estimators: 110\n",
      "f1: 0.5916398713826366\n",
      "\n"
     ]
    },
    {
     "name": "stderr",
     "output_type": "stream",
     "text": [
      "C:\\Users\\pleskaks\\AppData\\Local\\Temp\\ipykernel_30768\\183344835.py:18: FutureWarning: The frame.append method is deprecated and will be removed from pandas in a future version. Use pandas.concat instead.\n",
      "  n_estimators_f1 = n_estimators_f1.append(pd.DataFrame({\n"
     ]
    },
    {
     "name": "stdout",
     "output_type": "stream",
     "text": [
      "n_estimators: 120\n",
      "f1: 0.5916398713826366\n",
      "\n"
     ]
    },
    {
     "name": "stderr",
     "output_type": "stream",
     "text": [
      "C:\\Users\\pleskaks\\AppData\\Local\\Temp\\ipykernel_30768\\183344835.py:18: FutureWarning: The frame.append method is deprecated and will be removed from pandas in a future version. Use pandas.concat instead.\n",
      "  n_estimators_f1 = n_estimators_f1.append(pd.DataFrame({\n"
     ]
    },
    {
     "name": "stdout",
     "output_type": "stream",
     "text": [
      "n_estimators: 130\n",
      "f1: 0.596340150699677\n",
      "\n"
     ]
    },
    {
     "name": "stderr",
     "output_type": "stream",
     "text": [
      "C:\\Users\\pleskaks\\AppData\\Local\\Temp\\ipykernel_30768\\183344835.py:18: FutureWarning: The frame.append method is deprecated and will be removed from pandas in a future version. Use pandas.concat instead.\n",
      "  n_estimators_f1 = n_estimators_f1.append(pd.DataFrame({\n"
     ]
    },
    {
     "name": "stdout",
     "output_type": "stream",
     "text": [
      "n_estimators: 140\n",
      "f1: 0.5978494623655914\n",
      "\n"
     ]
    },
    {
     "name": "stderr",
     "output_type": "stream",
     "text": [
      "C:\\Users\\pleskaks\\AppData\\Local\\Temp\\ipykernel_30768\\183344835.py:18: FutureWarning: The frame.append method is deprecated and will be removed from pandas in a future version. Use pandas.concat instead.\n",
      "  n_estimators_f1 = n_estimators_f1.append(pd.DataFrame({\n"
     ]
    },
    {
     "name": "stdout",
     "output_type": "stream",
     "text": [
      "n_estimators: 150\n",
      "f1: 0.5982905982905982\n",
      "\n"
     ]
    },
    {
     "name": "stderr",
     "output_type": "stream",
     "text": [
      "C:\\Users\\pleskaks\\AppData\\Local\\Temp\\ipykernel_30768\\183344835.py:18: FutureWarning: The frame.append method is deprecated and will be removed from pandas in a future version. Use pandas.concat instead.\n",
      "  n_estimators_f1 = n_estimators_f1.append(pd.DataFrame({\n"
     ]
    },
    {
     "name": "stdout",
     "output_type": "stream",
     "text": [
      "n_estimators: 160\n",
      "f1: 0.5991471215351812\n",
      "\n"
     ]
    },
    {
     "name": "stderr",
     "output_type": "stream",
     "text": [
      "C:\\Users\\pleskaks\\AppData\\Local\\Temp\\ipykernel_30768\\183344835.py:18: FutureWarning: The frame.append method is deprecated and will be removed from pandas in a future version. Use pandas.concat instead.\n",
      "  n_estimators_f1 = n_estimators_f1.append(pd.DataFrame({\n"
     ]
    },
    {
     "name": "stdout",
     "output_type": "stream",
     "text": [
      "n_estimators: 170\n",
      "f1: 0.5959271168274384\n",
      "\n"
     ]
    },
    {
     "name": "stderr",
     "output_type": "stream",
     "text": [
      "C:\\Users\\pleskaks\\AppData\\Local\\Temp\\ipykernel_30768\\183344835.py:18: FutureWarning: The frame.append method is deprecated and will be removed from pandas in a future version. Use pandas.concat instead.\n",
      "  n_estimators_f1 = n_estimators_f1.append(pd.DataFrame({\n"
     ]
    },
    {
     "name": "stdout",
     "output_type": "stream",
     "text": [
      "n_estimators: 180\n",
      "f1: 0.5937161430119178\n",
      "\n"
     ]
    },
    {
     "name": "stderr",
     "output_type": "stream",
     "text": [
      "C:\\Users\\pleskaks\\AppData\\Local\\Temp\\ipykernel_30768\\183344835.py:18: FutureWarning: The frame.append method is deprecated and will be removed from pandas in a future version. Use pandas.concat instead.\n",
      "  n_estimators_f1 = n_estimators_f1.append(pd.DataFrame({\n"
     ]
    },
    {
     "name": "stdout",
     "output_type": "stream",
     "text": [
      "n_estimators: 190\n",
      "f1: 0.596529284164859\n",
      "\n"
     ]
    },
    {
     "name": "stderr",
     "output_type": "stream",
     "text": [
      "C:\\Users\\pleskaks\\AppData\\Local\\Temp\\ipykernel_30768\\183344835.py:18: FutureWarning: The frame.append method is deprecated and will be removed from pandas in a future version. Use pandas.concat instead.\n",
      "  n_estimators_f1 = n_estimators_f1.append(pd.DataFrame({\n"
     ]
    },
    {
     "name": "stdout",
     "output_type": "stream",
     "text": [
      "n_estimators: 200\n",
      "f1: 0.596529284164859\n",
      "\n"
     ]
    },
    {
     "name": "stderr",
     "output_type": "stream",
     "text": [
      "C:\\Users\\pleskaks\\AppData\\Local\\Temp\\ipykernel_30768\\183344835.py:18: FutureWarning: The frame.append method is deprecated and will be removed from pandas in a future version. Use pandas.concat instead.\n",
      "  n_estimators_f1 = n_estimators_f1.append(pd.DataFrame({\n"
     ]
    },
    {
     "name": "stdout",
     "output_type": "stream",
     "text": [
      "n_estimators: 210\n",
      "f1: 0.5986984815618221\n",
      "\n"
     ]
    },
    {
     "name": "stderr",
     "output_type": "stream",
     "text": [
      "C:\\Users\\pleskaks\\AppData\\Local\\Temp\\ipykernel_30768\\183344835.py:18: FutureWarning: The frame.append method is deprecated and will be removed from pandas in a future version. Use pandas.concat instead.\n",
      "  n_estimators_f1 = n_estimators_f1.append(pd.DataFrame({\n"
     ]
    },
    {
     "name": "stdout",
     "output_type": "stream",
     "text": [
      "n_estimators: 220\n",
      "f1: 0.5978260869565218\n",
      "\n"
     ]
    },
    {
     "name": "stderr",
     "output_type": "stream",
     "text": [
      "C:\\Users\\pleskaks\\AppData\\Local\\Temp\\ipykernel_30768\\183344835.py:18: FutureWarning: The frame.append method is deprecated and will be removed from pandas in a future version. Use pandas.concat instead.\n",
      "  n_estimators_f1 = n_estimators_f1.append(pd.DataFrame({\n"
     ]
    },
    {
     "name": "stdout",
     "output_type": "stream",
     "text": [
      "n_estimators: 230\n",
      "f1: 0.5980498374864571\n",
      "\n"
     ]
    },
    {
     "name": "stderr",
     "output_type": "stream",
     "text": [
      "C:\\Users\\pleskaks\\AppData\\Local\\Temp\\ipykernel_30768\\183344835.py:18: FutureWarning: The frame.append method is deprecated and will be removed from pandas in a future version. Use pandas.concat instead.\n",
      "  n_estimators_f1 = n_estimators_f1.append(pd.DataFrame({\n"
     ]
    },
    {
     "name": "stdout",
     "output_type": "stream",
     "text": [
      "n_estimators: 240\n",
      "f1: 0.5991379310344828\n",
      "\n"
     ]
    },
    {
     "name": "stderr",
     "output_type": "stream",
     "text": [
      "C:\\Users\\pleskaks\\AppData\\Local\\Temp\\ipykernel_30768\\183344835.py:18: FutureWarning: The frame.append method is deprecated and will be removed from pandas in a future version. Use pandas.concat instead.\n",
      "  n_estimators_f1 = n_estimators_f1.append(pd.DataFrame({\n"
     ]
    },
    {
     "name": "stdout",
     "output_type": "stream",
     "text": [
      "n_estimators: 250\n",
      "f1: 0.5976267529665588\n",
      "\n"
     ]
    },
    {
     "data": {
      "image/png": "[encoded data removed]",
      "text/plain": [
       "<Figure size 640x480 with 1 Axes>"
      ]
     },
     "metadata": {},
     "output_type": "display_data"
    },
    {
     "name": "stdout",
     "output_type": "stream",
     "text": [
      "AUC-ROC: 0.8452505941492726\n",
      "Accuracy: 0.8517034068136272\n",
      "F1: 0.5432098765432098\n",
      "\n",
      "TP: 176\n",
      "TN: 1524\n",
      "FP: 65\n",
      "FN: 231\n",
      "\n",
      "max_depth: 6\n",
      "n_estimators: 70\n"
     ]
    },
    {
     "name": "stderr",
     "output_type": "stream",
     "text": [
      "C:\\Users\\pleskaks\\AppData\\Local\\Temp\\ipykernel_30768\\3826688679.py:53: FutureWarning: The frame.append method is deprecated and will be removed from pandas in a future version. Use pandas.concat instead.\n",
      "  quality_metrics = quality_metrics.append({\n"
     ]
    }
   ],
   "source": [
    "quality_metrics = RandomForestClassifier_SelectionOfParametrs(\n",
    "    features_train_wooden, target_train,\n",
    "    features_valid_wooden, target_valid, \n",
    "    'balanced', 'balance', quality_metrics\n",
    ")"
   ]
  },
  {
   "cell_type": "markdown",
   "metadata": {},
   "source": [
    "Модель логистической регрессии с балансировкой весов классов внутри модели"
   ]
  },
  {
   "cell_type": "code",
   "execution_count": 59,
   "metadata": {},
   "outputs": [
    {
     "data": {
      "image/png": "[encoded data removed]",
      "text/plain": [
       "<Figure size 640x480 with 1 Axes>"
      ]
     },
     "metadata": {},
     "output_type": "display_data"
    },
    {
     "name": "stdout",
     "output_type": "stream",
     "text": [
      "AUC-ROC: 0.7407931989429787\n",
      "Accuracy: 0.658817635270541\n",
      "F1: 0.4633569739952719\n",
      "\n",
      "TP: 294\n",
      "TN: 1021\n",
      "FP: 568\n",
      "FN: 113\n"
     ]
    },
    {
     "name": "stderr",
     "output_type": "stream",
     "text": [
      "C:\\Users\\pleskaks\\AppData\\Local\\Temp\\ipykernel_30768\\3826688679.py:53: FutureWarning: The frame.append method is deprecated and will be removed from pandas in a future version. Use pandas.concat instead.\n",
      "  quality_metrics = quality_metrics.append({\n"
     ]
    }
   ],
   "source": [
    "quality_metrics = LogisticRegression_SelectionOfParametrs(\n",
    "    features_train_logistic, target_train, \n",
    "    features_valid_logistic, target_valid, \n",
    "    'balanced', 'balance', quality_metrics\n",
    ")"
   ]
  },
  {
   "cell_type": "markdown",
   "metadata": {},
   "source": [
    "Таблица изменения значений показателей качества протестированных моделей"
   ]
  },
  {
   "cell_type": "code",
   "execution_count": 60,
   "metadata": {},
   "outputs": [
    {
     "data": {
      "text/html": [
       "<div>\n",
       "<style scoped>\n",
       "    .dataframe tbody tr th:only-of-type {\n",
       "        vertical-align: middle;\n",
       "    }\n",
       "\n",
       "    .dataframe tbody tr th {\n",
       "        vertical-align: top;\n",
       "    }\n",
       "\n",
       "    .dataframe thead th {\n",
       "        text-align: right;\n",
       "    }\n",
       "</style>\n",
       "<table border=\"1\" class=\"dataframe\">\n",
       "  <thead>\n",
       "    <tr style=\"text-align: right;\">\n",
       "      <th></th>\n",
       "      <th>model</th>\n",
       "      <th>sample</th>\n",
       "      <th>auc_roc</th>\n",
       "      <th>accuracy</th>\n",
       "      <th>f1</th>\n",
       "      <th>class_weight</th>\n",
       "      <th>max_depth</th>\n",
       "      <th>n_estimators</th>\n",
       "    </tr>\n",
       "  </thead>\n",
       "  <tbody>\n",
       "    <tr>\n",
       "      <th>1</th>\n",
       "      <td>RandomForestClassifier</td>\n",
       "      <td>none</td>\n",
       "      <td>0.837078</td>\n",
       "      <td>0.856212</td>\n",
       "      <td>0.573551</td>\n",
       "      <td>None</td>\n",
       "      <td>8</td>\n",
       "      <td>90</td>\n",
       "    </tr>\n",
       "    <tr>\n",
       "      <th>0</th>\n",
       "      <td>DecisionTreeClassifier</td>\n",
       "      <td>none</td>\n",
       "      <td>0.821379</td>\n",
       "      <td>0.853206</td>\n",
       "      <td>0.552672</td>\n",
       "      <td>None</td>\n",
       "      <td>5</td>\n",
       "      <td>None</td>\n",
       "    </tr>\n",
       "    <tr>\n",
       "      <th>3</th>\n",
       "      <td>DecisionTreeClassifier</td>\n",
       "      <td>balance</td>\n",
       "      <td>0.821379</td>\n",
       "      <td>0.853206</td>\n",
       "      <td>0.552672</td>\n",
       "      <td>balanced</td>\n",
       "      <td>5</td>\n",
       "      <td>None</td>\n",
       "    </tr>\n",
       "    <tr>\n",
       "      <th>4</th>\n",
       "      <td>RandomForestClassifier</td>\n",
       "      <td>balance</td>\n",
       "      <td>0.845251</td>\n",
       "      <td>0.851703</td>\n",
       "      <td>0.543210</td>\n",
       "      <td>balanced</td>\n",
       "      <td>6</td>\n",
       "      <td>70</td>\n",
       "    </tr>\n",
       "    <tr>\n",
       "      <th>5</th>\n",
       "      <td>LogisticRegression</td>\n",
       "      <td>balance</td>\n",
       "      <td>0.740793</td>\n",
       "      <td>0.658818</td>\n",
       "      <td>0.463357</td>\n",
       "      <td>balanced</td>\n",
       "      <td>None</td>\n",
       "      <td>None</td>\n",
       "    </tr>\n",
       "    <tr>\n",
       "      <th>2</th>\n",
       "      <td>LogisticRegression</td>\n",
       "      <td>none</td>\n",
       "      <td>0.737495</td>\n",
       "      <td>0.814128</td>\n",
       "      <td>0.311688</td>\n",
       "      <td>None</td>\n",
       "      <td>None</td>\n",
       "      <td>None</td>\n",
       "    </tr>\n",
       "  </tbody>\n",
       "</table>\n",
       "</div>"
      ],
      "text/plain": [
       "                    model   sample   auc_roc  accuracy        f1 class_weight  \\\n",
       "1  RandomForestClassifier     none  0.837078  0.856212  0.573551         None   \n",
       "0  DecisionTreeClassifier     none  0.821379  0.853206  0.552672         None   \n",
       "3  DecisionTreeClassifier  balance  0.821379  0.853206  0.552672     balanced   \n",
       "4  RandomForestClassifier  balance  0.845251  0.851703  0.543210     balanced   \n",
       "5      LogisticRegression  balance  0.740793  0.658818  0.463357     balanced   \n",
       "2      LogisticRegression     none  0.737495  0.814128  0.311688         None   \n",
       "\n",
       "  max_depth n_estimators  \n",
       "1         8           90  \n",
       "0         5         None  \n",
       "3         5         None  \n",
       "4         6           70  \n",
       "5      None         None  \n",
       "2      None         None  "
      ]
     },
     "execution_count": 60,
     "metadata": {},
     "output_type": "execute_result"
    }
   ],
   "source": [
    "quality_metrics.sort_values('f1', ascending=False)"
   ]
  },
  {
   "cell_type": "markdown",
   "metadata": {},
   "source": [
    "Использование параметра `class_weight='balanced'`, балансирующей веса классов, в модели логистической регрессии привело к следющим изменениям показателей качества модели:\n",
    "1. Две из трех моделей без балансировки весов классов имеют лучшее значение показателя `F1`. Лидер `DecisionTreeClassifier` со значением `F1` равным 0.552672.\n",
    "1. Максимальное значение параметра `AUC-ROC` равное 0.845251 у сбалансированной модели `RandomForestClassifier`. \n",
    "1. Максимальное значение показателя `Accuracy` равное 0.856212 у несбалансированной модели `RandomForestClassifier`.\n",
    "\n",
    "Разные модели в сбалансированном и несбалансированном состоянии показали разные значения настолько, что требуется долнительная проверка эффективности сбалансированных моделей."
   ]
  },
  {
   "cell_type": "code",
   "execution_count": 61,
   "metadata": {},
   "outputs": [],
   "source": [
    "# Универсальная функция изменения размера выборки\n",
    "def changesizasample(features, target, class_change, change_type, class_ratio):\n",
    "    # fetures - аттрибуты\n",
    "    # target - целевой признак\n",
    "    # class_change - класс (0, 1), размер которого требуется изменить\n",
    "    # change_type - тип изменения выборки True (увеличение), False (уменьшение)\n",
    "    # fraction - множитель для изменения\n",
    "    \n",
    "    features_zeros = features[target == 0]\n",
    "    features_ones = features[target == 1]\n",
    "    target_zeros = target[target == 0]\n",
    "    target_ones = target[target == 1]\n",
    "    \n",
    "    if change_type == True:\n",
    "        if class_change == 0:\n",
    "            features_downloadsample = pd.concat([features_zeros] * int(class_ratio) + [features_ones])\n",
    "            target_downloadsample = pd.concat([target_zeros] * int(class_ratio) + [target_ones])\n",
    "        if class_change == 1:\n",
    "            features_downloadsample = pd.concat([features_zeros] + [features_ones] * int(class_ratio))\n",
    "            target_downloadsample = pd.concat([target_zeros] + [target_ones] * int(class_ratio))\n",
    "    if change_type == False:\n",
    "        if class_change == 0:\n",
    "            features_zeros = features_zeros.sample(frac=class_ratio, random_state=12345)\n",
    "            target_zeros = target_zeros.sample(frac=class_ratio, random_state=12345)\n",
    "        if class_change == 1:\n",
    "            features_ones = features_ones.sample(frac=class_ratio, random_state=12345)\n",
    "            target_ones = target_ones.sample(frac=class_ratio, random_state=12345)\n",
    "        features_downloadsample = pd.concat([features_zeros] + [features_ones])\n",
    "        target_downloadsample = pd.concat([target_zeros] + [target_ones])\n",
    "    \n",
    "    features_downloadsample, target_downloadsample = shuffle(\n",
    "        features_downloadsample, target_downloadsample, random_state=12345\n",
    "    )\n",
    "    \n",
    "    return features_downloadsample, target_downloadsample"
   ]
  },
  {
   "cell_type": "code",
   "execution_count": 62,
   "metadata": {},
   "outputs": [
    {
     "name": "stdout",
     "output_type": "stream",
     "text": [
      "Изменение размера выборок:\n",
      "(5988, 9) -> (8430, 9)\n",
      "(5988,) -> (8430,)\n"
     ]
    }
   ],
   "source": [
    "# Увеличение обучающей выборки за счет объектов класса \"1\" для \"деревянных\" моделей\n",
    "features_train_changesizasample, target_train_changesizasample = changesizasample(\n",
    "    features_train_wooden, \n",
    "    target_train, \n",
    "    1,              # класс целевой обучающей выборки\n",
    "    True,           # увеличение выборки\n",
    "    class_ratio     # кратность изменения (множитель/делитель)\n",
    ")\n",
    "\n",
    "print('Изменение размера выборок:')\n",
    "print(features_train_wooden.shape, '->', features_train_changesizasample.shape)\n",
    "print(target_train.shape, '->', target_train_changesizasample.shape)"
   ]
  },
  {
   "cell_type": "code",
   "execution_count": 63,
   "metadata": {},
   "outputs": [
    {
     "name": "stderr",
     "output_type": "stream",
     "text": [
      "C:\\Users\\pleskaks\\AppData\\Local\\Temp\\ipykernel_30768\\127661089.py:20: FutureWarning: The frame.append method is deprecated and will be removed from pandas in a future version. Use pandas.concat instead.\n",
      "  depth_f1 = depth_f1.append(pd.DataFrame({\n",
      "C:\\Users\\pleskaks\\AppData\\Local\\Temp\\ipykernel_30768\\127661089.py:20: FutureWarning: The frame.append method is deprecated and will be removed from pandas in a future version. Use pandas.concat instead.\n",
      "  depth_f1 = depth_f1.append(pd.DataFrame({\n",
      "C:\\Users\\pleskaks\\AppData\\Local\\Temp\\ipykernel_30768\\127661089.py:20: FutureWarning: The frame.append method is deprecated and will be removed from pandas in a future version. Use pandas.concat instead.\n",
      "  depth_f1 = depth_f1.append(pd.DataFrame({\n",
      "C:\\Users\\pleskaks\\AppData\\Local\\Temp\\ipykernel_30768\\127661089.py:20: FutureWarning: The frame.append method is deprecated and will be removed from pandas in a future version. Use pandas.concat instead.\n",
      "  depth_f1 = depth_f1.append(pd.DataFrame({\n",
      "C:\\Users\\pleskaks\\AppData\\Local\\Temp\\ipykernel_30768\\127661089.py:20: FutureWarning: The frame.append method is deprecated and will be removed from pandas in a future version. Use pandas.concat instead.\n",
      "  depth_f1 = depth_f1.append(pd.DataFrame({\n",
      "C:\\Users\\pleskaks\\AppData\\Local\\Temp\\ipykernel_30768\\127661089.py:20: FutureWarning: The frame.append method is deprecated and will be removed from pandas in a future version. Use pandas.concat instead.\n",
      "  depth_f1 = depth_f1.append(pd.DataFrame({\n",
      "C:\\Users\\pleskaks\\AppData\\Local\\Temp\\ipykernel_30768\\127661089.py:20: FutureWarning: The frame.append method is deprecated and will be removed from pandas in a future version. Use pandas.concat instead.\n",
      "  depth_f1 = depth_f1.append(pd.DataFrame({\n",
      "C:\\Users\\pleskaks\\AppData\\Local\\Temp\\ipykernel_30768\\127661089.py:20: FutureWarning: The frame.append method is deprecated and will be removed from pandas in a future version. Use pandas.concat instead.\n",
      "  depth_f1 = depth_f1.append(pd.DataFrame({\n"
     ]
    },
    {
     "name": "stdout",
     "output_type": "stream",
     "text": [
      "max_depth: 1\n",
      "f1: 0.4854186265286924\n",
      "\n",
      "max_depth: 2\n",
      "f1: 0.5177757520510483\n",
      "\n",
      "max_depth: 3\n",
      "f1: 0.5006839945280438\n",
      "\n",
      "max_depth: 4\n",
      "f1: 0.5239085239085239\n",
      "\n",
      "max_depth: 5\n",
      "f1: 0.5434782608695652\n",
      "\n",
      "max_depth: 6\n",
      "f1: 0.5051194539249146\n",
      "\n",
      "max_depth: 7\n",
      "f1: 0.5199543899657925\n",
      "\n",
      "max_depth: 8\n",
      "f1: 0.3789704271631983\n",
      "\n"
     ]
    },
    {
     "name": "stderr",
     "output_type": "stream",
     "text": [
      "C:\\Users\\pleskaks\\AppData\\Local\\Temp\\ipykernel_30768\\127661089.py:20: FutureWarning: The frame.append method is deprecated and will be removed from pandas in a future version. Use pandas.concat instead.\n",
      "  depth_f1 = depth_f1.append(pd.DataFrame({\n",
      "C:\\Users\\pleskaks\\AppData\\Local\\Temp\\ipykernel_30768\\127661089.py:20: FutureWarning: The frame.append method is deprecated and will be removed from pandas in a future version. Use pandas.concat instead.\n",
      "  depth_f1 = depth_f1.append(pd.DataFrame({\n",
      "C:\\Users\\pleskaks\\AppData\\Local\\Temp\\ipykernel_30768\\127661089.py:20: FutureWarning: The frame.append method is deprecated and will be removed from pandas in a future version. Use pandas.concat instead.\n",
      "  depth_f1 = depth_f1.append(pd.DataFrame({\n"
     ]
    },
    {
     "name": "stdout",
     "output_type": "stream",
     "text": [
      "max_depth: 9\n",
      "f1: 0.383756345177665\n",
      "\n",
      "max_depth: 10\n",
      "f1: 0.3517169614984391\n",
      "\n",
      "max_depth: 11\n",
      "f1: 0.3507692307692308\n",
      "\n"
     ]
    },
    {
     "name": "stderr",
     "output_type": "stream",
     "text": [
      "C:\\Users\\pleskaks\\AppData\\Local\\Temp\\ipykernel_30768\\127661089.py:20: FutureWarning: The frame.append method is deprecated and will be removed from pandas in a future version. Use pandas.concat instead.\n",
      "  depth_f1 = depth_f1.append(pd.DataFrame({\n",
      "C:\\Users\\pleskaks\\AppData\\Local\\Temp\\ipykernel_30768\\127661089.py:20: FutureWarning: The frame.append method is deprecated and will be removed from pandas in a future version. Use pandas.concat instead.\n",
      "  depth_f1 = depth_f1.append(pd.DataFrame({\n",
      "C:\\Users\\pleskaks\\AppData\\Local\\Temp\\ipykernel_30768\\127661089.py:20: FutureWarning: The frame.append method is deprecated and will be removed from pandas in a future version. Use pandas.concat instead.\n",
      "  depth_f1 = depth_f1.append(pd.DataFrame({\n"
     ]
    },
    {
     "name": "stdout",
     "output_type": "stream",
     "text": [
      "max_depth: 12\n",
      "f1: 0.30787037037037035\n",
      "\n",
      "max_depth: 13\n",
      "f1: 0.3250270855904659\n",
      "\n",
      "max_depth: 14\n",
      "f1: 0.32630410654827974\n",
      "\n"
     ]
    },
    {
     "name": "stderr",
     "output_type": "stream",
     "text": [
      "C:\\Users\\pleskaks\\AppData\\Local\\Temp\\ipykernel_30768\\127661089.py:20: FutureWarning: The frame.append method is deprecated and will be removed from pandas in a future version. Use pandas.concat instead.\n",
      "  depth_f1 = depth_f1.append(pd.DataFrame({\n",
      "C:\\Users\\pleskaks\\AppData\\Local\\Temp\\ipykernel_30768\\127661089.py:20: FutureWarning: The frame.append method is deprecated and will be removed from pandas in a future version. Use pandas.concat instead.\n",
      "  depth_f1 = depth_f1.append(pd.DataFrame({\n",
      "C:\\Users\\pleskaks\\AppData\\Local\\Temp\\ipykernel_30768\\127661089.py:20: FutureWarning: The frame.append method is deprecated and will be removed from pandas in a future version. Use pandas.concat instead.\n",
      "  depth_f1 = depth_f1.append(pd.DataFrame({\n",
      "C:\\Users\\pleskaks\\AppData\\Local\\Temp\\ipykernel_30768\\127661089.py:20: FutureWarning: The frame.append method is deprecated and will be removed from pandas in a future version. Use pandas.concat instead.\n",
      "  depth_f1 = depth_f1.append(pd.DataFrame({\n",
      "C:\\Users\\pleskaks\\AppData\\Local\\Temp\\ipykernel_30768\\127661089.py:20: FutureWarning: The frame.append method is deprecated and will be removed from pandas in a future version. Use pandas.concat instead.\n",
      "  depth_f1 = depth_f1.append(pd.DataFrame({\n"
     ]
    },
    {
     "name": "stdout",
     "output_type": "stream",
     "text": [
      "max_depth: 15\n",
      "f1: 0.32612966601178783\n",
      "\n",
      "max_depth: 16\n",
      "f1: 0.3078602620087336\n",
      "\n",
      "max_depth: 17\n",
      "f1: 0.3194888178913738\n",
      "\n",
      "max_depth: 18\n",
      "f1: 0.3147410358565737\n",
      "\n",
      "max_depth: 19\n",
      "f1: 0.32905982905982906\n",
      "\n"
     ]
    },
    {
     "name": "stderr",
     "output_type": "stream",
     "text": [
      "C:\\Users\\pleskaks\\AppData\\Local\\Temp\\ipykernel_30768\\127661089.py:20: FutureWarning: The frame.append method is deprecated and will be removed from pandas in a future version. Use pandas.concat instead.\n",
      "  depth_f1 = depth_f1.append(pd.DataFrame({\n",
      "C:\\Users\\pleskaks\\AppData\\Local\\Temp\\ipykernel_30768\\127661089.py:20: FutureWarning: The frame.append method is deprecated and will be removed from pandas in a future version. Use pandas.concat instead.\n",
      "  depth_f1 = depth_f1.append(pd.DataFrame({\n",
      "C:\\Users\\pleskaks\\AppData\\Local\\Temp\\ipykernel_30768\\127661089.py:20: FutureWarning: The frame.append method is deprecated and will be removed from pandas in a future version. Use pandas.concat instead.\n",
      "  depth_f1 = depth_f1.append(pd.DataFrame({\n",
      "C:\\Users\\pleskaks\\AppData\\Local\\Temp\\ipykernel_30768\\127661089.py:20: FutureWarning: The frame.append method is deprecated and will be removed from pandas in a future version. Use pandas.concat instead.\n",
      "  depth_f1 = depth_f1.append(pd.DataFrame({\n",
      "C:\\Users\\pleskaks\\AppData\\Local\\Temp\\ipykernel_30768\\127661089.py:20: FutureWarning: The frame.append method is deprecated and will be removed from pandas in a future version. Use pandas.concat instead.\n",
      "  depth_f1 = depth_f1.append(pd.DataFrame({\n"
     ]
    },
    {
     "name": "stdout",
     "output_type": "stream",
     "text": [
      "max_depth: 20\n",
      "f1: 0.31063829787234043\n",
      "\n",
      "max_depth: 21\n",
      "f1: 0.31106471816283926\n",
      "\n",
      "max_depth: 22\n",
      "f1: 0.3227848101265823\n",
      "\n",
      "max_depth: 23\n",
      "f1: 0.3068432671081677\n",
      "\n",
      "max_depth: 24\n",
      "f1: 0.3227132579650565\n",
      "\n"
     ]
    },
    {
     "name": "stderr",
     "output_type": "stream",
     "text": [
      "C:\\Users\\pleskaks\\AppData\\Local\\Temp\\ipykernel_30768\\127661089.py:20: FutureWarning: The frame.append method is deprecated and will be removed from pandas in a future version. Use pandas.concat instead.\n",
      "  depth_f1 = depth_f1.append(pd.DataFrame({\n",
      "C:\\Users\\pleskaks\\AppData\\Local\\Temp\\ipykernel_30768\\127661089.py:20: FutureWarning: The frame.append method is deprecated and will be removed from pandas in a future version. Use pandas.concat instead.\n",
      "  depth_f1 = depth_f1.append(pd.DataFrame({\n",
      "C:\\Users\\pleskaks\\AppData\\Local\\Temp\\ipykernel_30768\\127661089.py:20: FutureWarning: The frame.append method is deprecated and will be removed from pandas in a future version. Use pandas.concat instead.\n",
      "  depth_f1 = depth_f1.append(pd.DataFrame({\n",
      "C:\\Users\\pleskaks\\AppData\\Local\\Temp\\ipykernel_30768\\127661089.py:20: FutureWarning: The frame.append method is deprecated and will be removed from pandas in a future version. Use pandas.concat instead.\n",
      "  depth_f1 = depth_f1.append(pd.DataFrame({\n",
      "C:\\Users\\pleskaks\\AppData\\Local\\Temp\\ipykernel_30768\\127661089.py:20: FutureWarning: The frame.append method is deprecated and will be removed from pandas in a future version. Use pandas.concat instead.\n",
      "  depth_f1 = depth_f1.append(pd.DataFrame({\n"
     ]
    },
    {
     "name": "stdout",
     "output_type": "stream",
     "text": [
      "max_depth: 25\n",
      "f1: 0.32210526315789473\n",
      "\n",
      "max_depth: 26\n",
      "f1: 0.3270189431704886\n",
      "\n",
      "max_depth: 27\n",
      "f1: 0.3264462809917355\n",
      "\n",
      "max_depth: 28\n",
      "f1: 0.3238095238095238\n",
      "\n",
      "max_depth: 29\n",
      "f1: 0.32916666666666666\n",
      "\n"
     ]
    },
    {
     "data": {
      "image/png": "[encoded data removed]",
      "text/plain": [
       "<Figure size 640x480 with 1 Axes>"
      ]
     },
     "metadata": {},
     "output_type": "display_data"
    },
    {
     "name": "stdout",
     "output_type": "stream",
     "text": [
      "AUC-ROC: 0.7755638812907536\n",
      "Accuracy: 0.7895791583166333\n",
      "F1: 0.5434782608695652\n",
      "\n",
      "TP: 250\n",
      "TN: 1326\n",
      "FP: 263\n",
      "FN: 157\n",
      "\n",
      "max_depth: 5\n"
     ]
    },
    {
     "name": "stderr",
     "output_type": "stream",
     "text": [
      "C:\\Users\\pleskaks\\AppData\\Local\\Temp\\ipykernel_30768\\3826688679.py:53: FutureWarning: The frame.append method is deprecated and will be removed from pandas in a future version. Use pandas.concat instead.\n",
      "  quality_metrics = quality_metrics.append({\n"
     ]
    }
   ],
   "source": [
    "# Модель решающего дерева со сблансированной обучающей выборкой, \n",
    "# полученной путем увеличения количества объектов класса \"1\"\n",
    "quality_metrics = DecisionTreeClassifier_SelectionOfParametrs(\n",
    "    features_train_changesizasample, target_train_changesizasample, \n",
    "    features_valid_wooden, target_valid, \n",
    "    None, 'up_sample', quality_metrics\n",
    ")"
   ]
  },
  {
   "cell_type": "code",
   "execution_count": 64,
   "metadata": {},
   "outputs": [
    {
     "name": "stderr",
     "output_type": "stream",
     "text": [
      "C:\\Users\\pleskaks\\AppData\\Local\\Temp\\ipykernel_30768\\24899568.py:19: FutureWarning: The frame.append method is deprecated and will be removed from pandas in a future version. Use pandas.concat instead.\n",
      "  depth_f1 = depth_f1.append(pd.DataFrame({\n",
      "C:\\Users\\pleskaks\\AppData\\Local\\Temp\\ipykernel_30768\\24899568.py:19: FutureWarning: The frame.append method is deprecated and will be removed from pandas in a future version. Use pandas.concat instead.\n",
      "  depth_f1 = depth_f1.append(pd.DataFrame({\n"
     ]
    },
    {
     "name": "stdout",
     "output_type": "stream",
     "text": [
      "max_depth: 1\n",
      "f1: 0.5194029850746268\n",
      "\n",
      "max_depth: 2\n",
      "f1: 0.5414585414585414\n",
      "\n"
     ]
    },
    {
     "name": "stderr",
     "output_type": "stream",
     "text": [
      "C:\\Users\\pleskaks\\AppData\\Local\\Temp\\ipykernel_30768\\24899568.py:19: FutureWarning: The frame.append method is deprecated and will be removed from pandas in a future version. Use pandas.concat instead.\n",
      "  depth_f1 = depth_f1.append(pd.DataFrame({\n"
     ]
    },
    {
     "name": "stdout",
     "output_type": "stream",
     "text": [
      "max_depth: 3\n",
      "f1: 0.5646328852119958\n",
      "\n"
     ]
    },
    {
     "name": "stderr",
     "output_type": "stream",
     "text": [
      "C:\\Users\\pleskaks\\AppData\\Local\\Temp\\ipykernel_30768\\24899568.py:19: FutureWarning: The frame.append method is deprecated and will be removed from pandas in a future version. Use pandas.concat instead.\n",
      "  depth_f1 = depth_f1.append(pd.DataFrame({\n"
     ]
    },
    {
     "name": "stdout",
     "output_type": "stream",
     "text": [
      "max_depth: 4\n",
      "f1: 0.5937500000000001\n",
      "\n"
     ]
    },
    {
     "name": "stderr",
     "output_type": "stream",
     "text": [
      "C:\\Users\\pleskaks\\AppData\\Local\\Temp\\ipykernel_30768\\24899568.py:19: FutureWarning: The frame.append method is deprecated and will be removed from pandas in a future version. Use pandas.concat instead.\n",
      "  depth_f1 = depth_f1.append(pd.DataFrame({\n"
     ]
    },
    {
     "name": "stdout",
     "output_type": "stream",
     "text": [
      "max_depth: 5\n",
      "f1: 0.6016073478760047\n",
      "\n"
     ]
    },
    {
     "name": "stderr",
     "output_type": "stream",
     "text": [
      "C:\\Users\\pleskaks\\AppData\\Local\\Temp\\ipykernel_30768\\24899568.py:19: FutureWarning: The frame.append method is deprecated and will be removed from pandas in a future version. Use pandas.concat instead.\n",
      "  depth_f1 = depth_f1.append(pd.DataFrame({\n"
     ]
    },
    {
     "name": "stdout",
     "output_type": "stream",
     "text": [
      "max_depth: 6\n",
      "f1: 0.5864332603938731\n",
      "\n"
     ]
    },
    {
     "name": "stderr",
     "output_type": "stream",
     "text": [
      "C:\\Users\\pleskaks\\AppData\\Local\\Temp\\ipykernel_30768\\24899568.py:19: FutureWarning: The frame.append method is deprecated and will be removed from pandas in a future version. Use pandas.concat instead.\n",
      "  depth_f1 = depth_f1.append(pd.DataFrame({\n"
     ]
    },
    {
     "name": "stdout",
     "output_type": "stream",
     "text": [
      "max_depth: 7\n",
      "f1: 0.5948372615039281\n",
      "\n"
     ]
    },
    {
     "name": "stderr",
     "output_type": "stream",
     "text": [
      "C:\\Users\\pleskaks\\AppData\\Local\\Temp\\ipykernel_30768\\24899568.py:19: FutureWarning: The frame.append method is deprecated and will be removed from pandas in a future version. Use pandas.concat instead.\n",
      "  depth_f1 = depth_f1.append(pd.DataFrame({\n"
     ]
    },
    {
     "name": "stdout",
     "output_type": "stream",
     "text": [
      "max_depth: 8\n",
      "f1: 0.5585774058577407\n",
      "\n"
     ]
    },
    {
     "name": "stderr",
     "output_type": "stream",
     "text": [
      "C:\\Users\\pleskaks\\AppData\\Local\\Temp\\ipykernel_30768\\24899568.py:19: FutureWarning: The frame.append method is deprecated and will be removed from pandas in a future version. Use pandas.concat instead.\n",
      "  depth_f1 = depth_f1.append(pd.DataFrame({\n"
     ]
    },
    {
     "name": "stdout",
     "output_type": "stream",
     "text": [
      "max_depth: 9\n",
      "f1: 0.5692137320044296\n",
      "\n"
     ]
    },
    {
     "name": "stderr",
     "output_type": "stream",
     "text": [
      "C:\\Users\\pleskaks\\AppData\\Local\\Temp\\ipykernel_30768\\24899568.py:19: FutureWarning: The frame.append method is deprecated and will be removed from pandas in a future version. Use pandas.concat instead.\n",
      "  depth_f1 = depth_f1.append(pd.DataFrame({\n"
     ]
    },
    {
     "name": "stdout",
     "output_type": "stream",
     "text": [
      "max_depth: 10\n",
      "f1: 0.5642317380352645\n",
      "\n"
     ]
    },
    {
     "name": "stderr",
     "output_type": "stream",
     "text": [
      "C:\\Users\\pleskaks\\AppData\\Local\\Temp\\ipykernel_30768\\24899568.py:19: FutureWarning: The frame.append method is deprecated and will be removed from pandas in a future version. Use pandas.concat instead.\n",
      "  depth_f1 = depth_f1.append(pd.DataFrame({\n"
     ]
    },
    {
     "name": "stdout",
     "output_type": "stream",
     "text": [
      "max_depth: 11\n",
      "f1: 0.47509578544061304\n",
      "\n"
     ]
    },
    {
     "name": "stderr",
     "output_type": "stream",
     "text": [
      "C:\\Users\\pleskaks\\AppData\\Local\\Temp\\ipykernel_30768\\24899568.py:19: FutureWarning: The frame.append method is deprecated and will be removed from pandas in a future version. Use pandas.concat instead.\n",
      "  depth_f1 = depth_f1.append(pd.DataFrame({\n"
     ]
    },
    {
     "name": "stdout",
     "output_type": "stream",
     "text": [
      "max_depth: 12\n",
      "f1: 0.5031605562579012\n",
      "\n"
     ]
    },
    {
     "name": "stderr",
     "output_type": "stream",
     "text": [
      "C:\\Users\\pleskaks\\AppData\\Local\\Temp\\ipykernel_30768\\24899568.py:19: FutureWarning: The frame.append method is deprecated and will be removed from pandas in a future version. Use pandas.concat instead.\n",
      "  depth_f1 = depth_f1.append(pd.DataFrame({\n"
     ]
    },
    {
     "name": "stdout",
     "output_type": "stream",
     "text": [
      "max_depth: 13\n",
      "f1: 0.5049019607843137\n",
      "\n"
     ]
    },
    {
     "name": "stderr",
     "output_type": "stream",
     "text": [
      "C:\\Users\\pleskaks\\AppData\\Local\\Temp\\ipykernel_30768\\24899568.py:19: FutureWarning: The frame.append method is deprecated and will be removed from pandas in a future version. Use pandas.concat instead.\n",
      "  depth_f1 = depth_f1.append(pd.DataFrame({\n"
     ]
    },
    {
     "name": "stdout",
     "output_type": "stream",
     "text": [
      "max_depth: 14\n",
      "f1: 0.47375160051216386\n",
      "\n"
     ]
    },
    {
     "name": "stderr",
     "output_type": "stream",
     "text": [
      "C:\\Users\\pleskaks\\AppData\\Local\\Temp\\ipykernel_30768\\24899568.py:19: FutureWarning: The frame.append method is deprecated and will be removed from pandas in a future version. Use pandas.concat instead.\n",
      "  depth_f1 = depth_f1.append(pd.DataFrame({\n"
     ]
    },
    {
     "name": "stdout",
     "output_type": "stream",
     "text": [
      "max_depth: 15\n",
      "f1: 0.49814126394052044\n",
      "\n"
     ]
    },
    {
     "name": "stderr",
     "output_type": "stream",
     "text": [
      "C:\\Users\\pleskaks\\AppData\\Local\\Temp\\ipykernel_30768\\24899568.py:19: FutureWarning: The frame.append method is deprecated and will be removed from pandas in a future version. Use pandas.concat instead.\n",
      "  depth_f1 = depth_f1.append(pd.DataFrame({\n"
     ]
    },
    {
     "name": "stdout",
     "output_type": "stream",
     "text": [
      "max_depth: 16\n",
      "f1: 0.47346938775510206\n",
      "\n"
     ]
    },
    {
     "name": "stderr",
     "output_type": "stream",
     "text": [
      "C:\\Users\\pleskaks\\AppData\\Local\\Temp\\ipykernel_30768\\24899568.py:19: FutureWarning: The frame.append method is deprecated and will be removed from pandas in a future version. Use pandas.concat instead.\n",
      "  depth_f1 = depth_f1.append(pd.DataFrame({\n"
     ]
    },
    {
     "name": "stdout",
     "output_type": "stream",
     "text": [
      "max_depth: 17\n",
      "f1: 0.5110246433203632\n",
      "\n"
     ]
    },
    {
     "name": "stderr",
     "output_type": "stream",
     "text": [
      "C:\\Users\\pleskaks\\AppData\\Local\\Temp\\ipykernel_30768\\24899568.py:19: FutureWarning: The frame.append method is deprecated and will be removed from pandas in a future version. Use pandas.concat instead.\n",
      "  depth_f1 = depth_f1.append(pd.DataFrame({\n"
     ]
    },
    {
     "name": "stdout",
     "output_type": "stream",
     "text": [
      "max_depth: 18\n",
      "f1: 0.45526315789473687\n",
      "\n"
     ]
    },
    {
     "name": "stderr",
     "output_type": "stream",
     "text": [
      "C:\\Users\\pleskaks\\AppData\\Local\\Temp\\ipykernel_30768\\24899568.py:19: FutureWarning: The frame.append method is deprecated and will be removed from pandas in a future version. Use pandas.concat instead.\n",
      "  depth_f1 = depth_f1.append(pd.DataFrame({\n"
     ]
    },
    {
     "name": "stdout",
     "output_type": "stream",
     "text": [
      "max_depth: 19\n",
      "f1: 0.5013192612137204\n",
      "\n"
     ]
    },
    {
     "name": "stderr",
     "output_type": "stream",
     "text": [
      "C:\\Users\\pleskaks\\AppData\\Local\\Temp\\ipykernel_30768\\24899568.py:19: FutureWarning: The frame.append method is deprecated and will be removed from pandas in a future version. Use pandas.concat instead.\n",
      "  depth_f1 = depth_f1.append(pd.DataFrame({\n"
     ]
    },
    {
     "name": "stdout",
     "output_type": "stream",
     "text": [
      "max_depth: 20\n",
      "f1: 0.46461949265687585\n",
      "\n"
     ]
    },
    {
     "name": "stderr",
     "output_type": "stream",
     "text": [
      "C:\\Users\\pleskaks\\AppData\\Local\\Temp\\ipykernel_30768\\24899568.py:19: FutureWarning: The frame.append method is deprecated and will be removed from pandas in a future version. Use pandas.concat instead.\n",
      "  depth_f1 = depth_f1.append(pd.DataFrame({\n"
     ]
    },
    {
     "name": "stdout",
     "output_type": "stream",
     "text": [
      "max_depth: 21\n",
      "f1: 0.480106100795756\n",
      "\n"
     ]
    },
    {
     "name": "stderr",
     "output_type": "stream",
     "text": [
      "C:\\Users\\pleskaks\\AppData\\Local\\Temp\\ipykernel_30768\\24899568.py:19: FutureWarning: The frame.append method is deprecated and will be removed from pandas in a future version. Use pandas.concat instead.\n",
      "  depth_f1 = depth_f1.append(pd.DataFrame({\n"
     ]
    },
    {
     "name": "stdout",
     "output_type": "stream",
     "text": [
      "max_depth: 22\n",
      "f1: 0.49740932642487046\n",
      "\n"
     ]
    },
    {
     "name": "stderr",
     "output_type": "stream",
     "text": [
      "C:\\Users\\pleskaks\\AppData\\Local\\Temp\\ipykernel_30768\\24899568.py:19: FutureWarning: The frame.append method is deprecated and will be removed from pandas in a future version. Use pandas.concat instead.\n",
      "  depth_f1 = depth_f1.append(pd.DataFrame({\n"
     ]
    },
    {
     "name": "stdout",
     "output_type": "stream",
     "text": [
      "max_depth: 23\n",
      "f1: 0.4999999999999999\n",
      "\n"
     ]
    },
    {
     "name": "stderr",
     "output_type": "stream",
     "text": [
      "C:\\Users\\pleskaks\\AppData\\Local\\Temp\\ipykernel_30768\\24899568.py:19: FutureWarning: The frame.append method is deprecated and will be removed from pandas in a future version. Use pandas.concat instead.\n",
      "  depth_f1 = depth_f1.append(pd.DataFrame({\n"
     ]
    },
    {
     "name": "stdout",
     "output_type": "stream",
     "text": [
      "max_depth: 24\n",
      "f1: 0.5111989459815547\n",
      "\n"
     ]
    },
    {
     "name": "stderr",
     "output_type": "stream",
     "text": [
      "C:\\Users\\pleskaks\\AppData\\Local\\Temp\\ipykernel_30768\\24899568.py:19: FutureWarning: The frame.append method is deprecated and will be removed from pandas in a future version. Use pandas.concat instead.\n",
      "  depth_f1 = depth_f1.append(pd.DataFrame({\n"
     ]
    },
    {
     "name": "stdout",
     "output_type": "stream",
     "text": [
      "max_depth: 25\n",
      "f1: 0.5178335535006605\n",
      "\n"
     ]
    },
    {
     "name": "stderr",
     "output_type": "stream",
     "text": [
      "C:\\Users\\pleskaks\\AppData\\Local\\Temp\\ipykernel_30768\\24899568.py:19: FutureWarning: The frame.append method is deprecated and will be removed from pandas in a future version. Use pandas.concat instead.\n",
      "  depth_f1 = depth_f1.append(pd.DataFrame({\n"
     ]
    },
    {
     "name": "stdout",
     "output_type": "stream",
     "text": [
      "max_depth: 26\n",
      "f1: 0.5170603674540682\n",
      "\n"
     ]
    },
    {
     "name": "stderr",
     "output_type": "stream",
     "text": [
      "C:\\Users\\pleskaks\\AppData\\Local\\Temp\\ipykernel_30768\\24899568.py:19: FutureWarning: The frame.append method is deprecated and will be removed from pandas in a future version. Use pandas.concat instead.\n",
      "  depth_f1 = depth_f1.append(pd.DataFrame({\n"
     ]
    },
    {
     "name": "stdout",
     "output_type": "stream",
     "text": [
      "max_depth: 27\n",
      "f1: 0.5113788487282462\n",
      "\n"
     ]
    },
    {
     "name": "stderr",
     "output_type": "stream",
     "text": [
      "C:\\Users\\pleskaks\\AppData\\Local\\Temp\\ipykernel_30768\\24899568.py:19: FutureWarning: The frame.append method is deprecated and will be removed from pandas in a future version. Use pandas.concat instead.\n",
      "  depth_f1 = depth_f1.append(pd.DataFrame({\n"
     ]
    },
    {
     "name": "stdout",
     "output_type": "stream",
     "text": [
      "max_depth: 28\n",
      "f1: 0.5113788487282462\n",
      "\n"
     ]
    },
    {
     "name": "stderr",
     "output_type": "stream",
     "text": [
      "C:\\Users\\pleskaks\\AppData\\Local\\Temp\\ipykernel_30768\\24899568.py:19: FutureWarning: The frame.append method is deprecated and will be removed from pandas in a future version. Use pandas.concat instead.\n",
      "  depth_f1 = depth_f1.append(pd.DataFrame({\n"
     ]
    },
    {
     "name": "stdout",
     "output_type": "stream",
     "text": [
      "max_depth: 29\n",
      "f1: 0.5113788487282462\n",
      "\n"
     ]
    },
    {
     "name": "stderr",
     "output_type": "stream",
     "text": [
      "C:\\Users\\pleskaks\\AppData\\Local\\Temp\\ipykernel_30768\\183344835.py:18: FutureWarning: The frame.append method is deprecated and will be removed from pandas in a future version. Use pandas.concat instead.\n",
      "  n_estimators_f1 = n_estimators_f1.append(pd.DataFrame({\n"
     ]
    },
    {
     "name": "stdout",
     "output_type": "stream",
     "text": [
      "n_estimators: 50\n",
      "f1: 0.5883668903803131\n",
      "\n"
     ]
    },
    {
     "name": "stderr",
     "output_type": "stream",
     "text": [
      "C:\\Users\\pleskaks\\AppData\\Local\\Temp\\ipykernel_30768\\183344835.py:18: FutureWarning: The frame.append method is deprecated and will be removed from pandas in a future version. Use pandas.concat instead.\n",
      "  n_estimators_f1 = n_estimators_f1.append(pd.DataFrame({\n"
     ]
    },
    {
     "name": "stdout",
     "output_type": "stream",
     "text": [
      "n_estimators: 60\n",
      "f1: 0.591676040494938\n",
      "\n"
     ]
    },
    {
     "name": "stderr",
     "output_type": "stream",
     "text": [
      "C:\\Users\\pleskaks\\AppData\\Local\\Temp\\ipykernel_30768\\183344835.py:18: FutureWarning: The frame.append method is deprecated and will be removed from pandas in a future version. Use pandas.concat instead.\n",
      "  n_estimators_f1 = n_estimators_f1.append(pd.DataFrame({\n"
     ]
    },
    {
     "name": "stdout",
     "output_type": "stream",
     "text": [
      "n_estimators: 70\n",
      "f1: 0.6022727272727273\n",
      "\n"
     ]
    },
    {
     "name": "stderr",
     "output_type": "stream",
     "text": [
      "C:\\Users\\pleskaks\\AppData\\Local\\Temp\\ipykernel_30768\\183344835.py:18: FutureWarning: The frame.append method is deprecated and will be removed from pandas in a future version. Use pandas.concat instead.\n",
      "  n_estimators_f1 = n_estimators_f1.append(pd.DataFrame({\n"
     ]
    },
    {
     "name": "stdout",
     "output_type": "stream",
     "text": [
      "n_estimators: 80\n",
      "f1: 0.6022727272727273\n",
      "\n"
     ]
    },
    {
     "name": "stderr",
     "output_type": "stream",
     "text": [
      "C:\\Users\\pleskaks\\AppData\\Local\\Temp\\ipykernel_30768\\183344835.py:18: FutureWarning: The frame.append method is deprecated and will be removed from pandas in a future version. Use pandas.concat instead.\n",
      "  n_estimators_f1 = n_estimators_f1.append(pd.DataFrame({\n"
     ]
    },
    {
     "name": "stdout",
     "output_type": "stream",
     "text": [
      "n_estimators: 90\n",
      "f1: 0.6047565118912798\n",
      "\n"
     ]
    },
    {
     "name": "stderr",
     "output_type": "stream",
     "text": [
      "C:\\Users\\pleskaks\\AppData\\Local\\Temp\\ipykernel_30768\\183344835.py:18: FutureWarning: The frame.append method is deprecated and will be removed from pandas in a future version. Use pandas.concat instead.\n",
      "  n_estimators_f1 = n_estimators_f1.append(pd.DataFrame({\n"
     ]
    },
    {
     "name": "stdout",
     "output_type": "stream",
     "text": [
      "n_estimators: 100\n",
      "f1: 0.6002239641657335\n",
      "\n"
     ]
    },
    {
     "name": "stderr",
     "output_type": "stream",
     "text": [
      "C:\\Users\\pleskaks\\AppData\\Local\\Temp\\ipykernel_30768\\183344835.py:18: FutureWarning: The frame.append method is deprecated and will be removed from pandas in a future version. Use pandas.concat instead.\n",
      "  n_estimators_f1 = n_estimators_f1.append(pd.DataFrame({\n"
     ]
    },
    {
     "name": "stdout",
     "output_type": "stream",
     "text": [
      "n_estimators: 110\n",
      "f1: 0.6085972850678733\n",
      "\n"
     ]
    },
    {
     "name": "stderr",
     "output_type": "stream",
     "text": [
      "C:\\Users\\pleskaks\\AppData\\Local\\Temp\\ipykernel_30768\\183344835.py:18: FutureWarning: The frame.append method is deprecated and will be removed from pandas in a future version. Use pandas.concat instead.\n",
      "  n_estimators_f1 = n_estimators_f1.append(pd.DataFrame({\n"
     ]
    },
    {
     "name": "stdout",
     "output_type": "stream",
     "text": [
      "n_estimators: 120\n",
      "f1: 0.6049661399548533\n",
      "\n"
     ]
    },
    {
     "name": "stderr",
     "output_type": "stream",
     "text": [
      "C:\\Users\\pleskaks\\AppData\\Local\\Temp\\ipykernel_30768\\183344835.py:18: FutureWarning: The frame.append method is deprecated and will be removed from pandas in a future version. Use pandas.concat instead.\n",
      "  n_estimators_f1 = n_estimators_f1.append(pd.DataFrame({\n"
     ]
    },
    {
     "name": "stdout",
     "output_type": "stream",
     "text": [
      "n_estimators: 130\n",
      "f1: 0.6058558558558558\n",
      "\n"
     ]
    },
    {
     "name": "stderr",
     "output_type": "stream",
     "text": [
      "C:\\Users\\pleskaks\\AppData\\Local\\Temp\\ipykernel_30768\\183344835.py:18: FutureWarning: The frame.append method is deprecated and will be removed from pandas in a future version. Use pandas.concat instead.\n",
      "  n_estimators_f1 = n_estimators_f1.append(pd.DataFrame({\n"
     ]
    },
    {
     "name": "stdout",
     "output_type": "stream",
     "text": [
      "n_estimators: 140\n",
      "f1: 0.6056497175141242\n",
      "\n"
     ]
    },
    {
     "name": "stderr",
     "output_type": "stream",
     "text": [
      "C:\\Users\\pleskaks\\AppData\\Local\\Temp\\ipykernel_30768\\183344835.py:18: FutureWarning: The frame.append method is deprecated and will be removed from pandas in a future version. Use pandas.concat instead.\n",
      "  n_estimators_f1 = n_estimators_f1.append(pd.DataFrame({\n"
     ]
    },
    {
     "name": "stdout",
     "output_type": "stream",
     "text": [
      "n_estimators: 150\n",
      "f1: 0.6118721461187214\n",
      "\n"
     ]
    },
    {
     "name": "stderr",
     "output_type": "stream",
     "text": [
      "C:\\Users\\pleskaks\\AppData\\Local\\Temp\\ipykernel_30768\\183344835.py:18: FutureWarning: The frame.append method is deprecated and will be removed from pandas in a future version. Use pandas.concat instead.\n",
      "  n_estimators_f1 = n_estimators_f1.append(pd.DataFrame({\n"
     ]
    },
    {
     "name": "stdout",
     "output_type": "stream",
     "text": [
      "n_estimators: 160\n",
      "f1: 0.6077097505668934\n",
      "\n"
     ]
    },
    {
     "name": "stderr",
     "output_type": "stream",
     "text": [
      "C:\\Users\\pleskaks\\AppData\\Local\\Temp\\ipykernel_30768\\183344835.py:18: FutureWarning: The frame.append method is deprecated and will be removed from pandas in a future version. Use pandas.concat instead.\n",
      "  n_estimators_f1 = n_estimators_f1.append(pd.DataFrame({\n"
     ]
    },
    {
     "name": "stdout",
     "output_type": "stream",
     "text": [
      "n_estimators: 170\n",
      "f1: 0.6077097505668934\n",
      "\n"
     ]
    },
    {
     "name": "stderr",
     "output_type": "stream",
     "text": [
      "C:\\Users\\pleskaks\\AppData\\Local\\Temp\\ipykernel_30768\\183344835.py:18: FutureWarning: The frame.append method is deprecated and will be removed from pandas in a future version. Use pandas.concat instead.\n",
      "  n_estimators_f1 = n_estimators_f1.append(pd.DataFrame({\n"
     ]
    },
    {
     "name": "stdout",
     "output_type": "stream",
     "text": [
      "n_estimators: 180\n",
      "f1: 0.6029246344206973\n",
      "\n"
     ]
    },
    {
     "name": "stderr",
     "output_type": "stream",
     "text": [
      "C:\\Users\\pleskaks\\AppData\\Local\\Temp\\ipykernel_30768\\183344835.py:18: FutureWarning: The frame.append method is deprecated and will be removed from pandas in a future version. Use pandas.concat instead.\n",
      "  n_estimators_f1 = n_estimators_f1.append(pd.DataFrame({\n"
     ]
    },
    {
     "name": "stdout",
     "output_type": "stream",
     "text": [
      "n_estimators: 190\n",
      "f1: 0.598194130925508\n",
      "\n"
     ]
    },
    {
     "name": "stderr",
     "output_type": "stream",
     "text": [
      "C:\\Users\\pleskaks\\AppData\\Local\\Temp\\ipykernel_30768\\183344835.py:18: FutureWarning: The frame.append method is deprecated and will be removed from pandas in a future version. Use pandas.concat instead.\n",
      "  n_estimators_f1 = n_estimators_f1.append(pd.DataFrame({\n"
     ]
    },
    {
     "name": "stdout",
     "output_type": "stream",
     "text": [
      "n_estimators: 200\n",
      "f1: 0.6011299435028248\n",
      "\n"
     ]
    },
    {
     "name": "stderr",
     "output_type": "stream",
     "text": [
      "C:\\Users\\pleskaks\\AppData\\Local\\Temp\\ipykernel_30768\\183344835.py:18: FutureWarning: The frame.append method is deprecated and will be removed from pandas in a future version. Use pandas.concat instead.\n",
      "  n_estimators_f1 = n_estimators_f1.append(pd.DataFrame({\n"
     ]
    },
    {
     "name": "stdout",
     "output_type": "stream",
     "text": [
      "n_estimators: 210\n",
      "f1: 0.6022727272727273\n",
      "\n"
     ]
    },
    {
     "name": "stderr",
     "output_type": "stream",
     "text": [
      "C:\\Users\\pleskaks\\AppData\\Local\\Temp\\ipykernel_30768\\183344835.py:18: FutureWarning: The frame.append method is deprecated and will be removed from pandas in a future version. Use pandas.concat instead.\n",
      "  n_estimators_f1 = n_estimators_f1.append(pd.DataFrame({\n"
     ]
    },
    {
     "name": "stdout",
     "output_type": "stream",
     "text": [
      "n_estimators: 220\n",
      "f1: 0.5993189557321227\n",
      "\n"
     ]
    },
    {
     "name": "stderr",
     "output_type": "stream",
     "text": [
      "C:\\Users\\pleskaks\\AppData\\Local\\Temp\\ipykernel_30768\\183344835.py:18: FutureWarning: The frame.append method is deprecated and will be removed from pandas in a future version. Use pandas.concat instead.\n",
      "  n_estimators_f1 = n_estimators_f1.append(pd.DataFrame({\n"
     ]
    },
    {
     "name": "stdout",
     "output_type": "stream",
     "text": [
      "n_estimators: 230\n",
      "f1: 0.6009070294784581\n",
      "\n"
     ]
    },
    {
     "name": "stderr",
     "output_type": "stream",
     "text": [
      "C:\\Users\\pleskaks\\AppData\\Local\\Temp\\ipykernel_30768\\183344835.py:18: FutureWarning: The frame.append method is deprecated and will be removed from pandas in a future version. Use pandas.concat instead.\n",
      "  n_estimators_f1 = n_estimators_f1.append(pd.DataFrame({\n"
     ]
    },
    {
     "name": "stdout",
     "output_type": "stream",
     "text": [
      "n_estimators: 240\n",
      "f1: 0.6015891032917138\n",
      "\n"
     ]
    },
    {
     "name": "stderr",
     "output_type": "stream",
     "text": [
      "C:\\Users\\pleskaks\\AppData\\Local\\Temp\\ipykernel_30768\\183344835.py:18: FutureWarning: The frame.append method is deprecated and will be removed from pandas in a future version. Use pandas.concat instead.\n",
      "  n_estimators_f1 = n_estimators_f1.append(pd.DataFrame({\n"
     ]
    },
    {
     "name": "stdout",
     "output_type": "stream",
     "text": [
      "n_estimators: 250\n",
      "f1: 0.6027088036117381\n",
      "\n"
     ]
    },
    {
     "data": {
      "image/png": "[encoded data removed]",
      "text/plain": [
       "<Figure size 640x480 with 1 Axes>"
      ]
     },
     "metadata": {},
     "output_type": "display_data"
    },
    {
     "name": "stdout",
     "output_type": "stream",
     "text": [
      "AUC-ROC: 0.8484273792643837\n",
      "Accuracy: 0.8296593186372746\n",
      "F1: 0.6118721461187214\n",
      "\n",
      "TP: 268\n",
      "TN: 1388\n",
      "FP: 201\n",
      "FN: 139\n",
      "\n",
      "max_depth: 5\n",
      "n_estimators: 150\n"
     ]
    },
    {
     "name": "stderr",
     "output_type": "stream",
     "text": [
      "C:\\Users\\pleskaks\\AppData\\Local\\Temp\\ipykernel_30768\\3826688679.py:53: FutureWarning: The frame.append method is deprecated and will be removed from pandas in a future version. Use pandas.concat instead.\n",
      "  quality_metrics = quality_metrics.append({\n"
     ]
    }
   ],
   "source": [
    "# Модель случайного леса со сблансированной обучающей выборкой, \n",
    "# полученной путем увеличения количества объектов класса \"1\"\n",
    "quality_metrics = RandomForestClassifier_SelectionOfParametrs(\n",
    "    features_train_changesizasample, target_train_changesizasample,\n",
    "    features_valid_wooden, target_valid, \n",
    "    None, 'up_sample', quality_metrics\n",
    ")"
   ]
  },
  {
   "cell_type": "code",
   "execution_count": 65,
   "metadata": {},
   "outputs": [
    {
     "name": "stdout",
     "output_type": "stream",
     "text": [
      "Изменение размера выборок:\n",
      "(5988, 12) -> (8430, 12)\n",
      "(5988,) -> (8430,)\n"
     ]
    }
   ],
   "source": [
    "# Увеличение обучающей выборки за счет объектов класса \"1\" для логистических\" моделей\n",
    "features_train_changesizasample, target_train_changesizasample = changesizasample(\n",
    "    features_train_logistic, \n",
    "    target_train, \n",
    "    1,              # класс целевой обучающей выборки\n",
    "    True,           # увеличение выборки\n",
    "    class_ratio     # кратность изменения (множитель/делитель)\n",
    ")\n",
    "\n",
    "print('Изменение размера выборок:')\n",
    "print(features_train_logistic.shape, '->', features_train_changesizasample.shape)\n",
    "print(target_train.shape, '->', target_train_changesizasample.shape)"
   ]
  },
  {
   "cell_type": "code",
   "execution_count": 66,
   "metadata": {},
   "outputs": [
    {
     "data": {
      "image/png": "[encoded data removed]",
      "text/plain": [
       "<Figure size 640x480 with 1 Axes>"
      ]
     },
     "metadata": {},
     "output_type": "display_data"
    },
    {
     "name": "stdout",
     "output_type": "stream",
     "text": [
      "AUC-ROC: 0.740468484961877\n",
      "Accuracy: 0.7219438877755511\n",
      "F1: 0.4699140401146132\n",
      "\n",
      "TP: 246\n",
      "TN: 1195\n",
      "FP: 394\n",
      "FN: 161\n"
     ]
    },
    {
     "name": "stderr",
     "output_type": "stream",
     "text": [
      "C:\\Users\\pleskaks\\AppData\\Local\\Temp\\ipykernel_30768\\3826688679.py:53: FutureWarning: The frame.append method is deprecated and will be removed from pandas in a future version. Use pandas.concat instead.\n",
      "  quality_metrics = quality_metrics.append({\n"
     ]
    }
   ],
   "source": [
    "# Модель логистической регрессии со сблансированной обучающей выборкой, \n",
    "# полученной путем увеличения количества объектов класса \"1\"\n",
    "quality_metrics = LogisticRegression_SelectionOfParametrs(\n",
    "    features_train_changesizasample, target_train_changesizasample, \n",
    "    features_valid_logistic, target_valid, \n",
    "    None, 'up_sample', quality_metrics\n",
    ")\n"
   ]
  },
  {
   "cell_type": "code",
   "execution_count": 67,
   "metadata": {},
   "outputs": [
    {
     "data": {
      "text/html": [
       "<div>\n",
       "<style scoped>\n",
       "    .dataframe tbody tr th:only-of-type {\n",
       "        vertical-align: middle;\n",
       "    }\n",
       "\n",
       "    .dataframe tbody tr th {\n",
       "        vertical-align: top;\n",
       "    }\n",
       "\n",
       "    .dataframe thead th {\n",
       "        text-align: right;\n",
       "    }\n",
       "</style>\n",
       "<table border=\"1\" class=\"dataframe\">\n",
       "  <thead>\n",
       "    <tr style=\"text-align: right;\">\n",
       "      <th></th>\n",
       "      <th>model</th>\n",
       "      <th>sample</th>\n",
       "      <th>auc_roc</th>\n",
       "      <th>accuracy</th>\n",
       "      <th>f1</th>\n",
       "      <th>class_weight</th>\n",
       "      <th>max_depth</th>\n",
       "      <th>n_estimators</th>\n",
       "    </tr>\n",
       "  </thead>\n",
       "  <tbody>\n",
       "    <tr>\n",
       "      <th>7</th>\n",
       "      <td>RandomForestClassifier</td>\n",
       "      <td>up_sample</td>\n",
       "      <td>0.848427</td>\n",
       "      <td>0.829659</td>\n",
       "      <td>0.611872</td>\n",
       "      <td>None</td>\n",
       "      <td>5</td>\n",
       "      <td>150</td>\n",
       "    </tr>\n",
       "    <tr>\n",
       "      <th>1</th>\n",
       "      <td>RandomForestClassifier</td>\n",
       "      <td>none</td>\n",
       "      <td>0.837078</td>\n",
       "      <td>0.856212</td>\n",
       "      <td>0.573551</td>\n",
       "      <td>None</td>\n",
       "      <td>8</td>\n",
       "      <td>90</td>\n",
       "    </tr>\n",
       "    <tr>\n",
       "      <th>0</th>\n",
       "      <td>DecisionTreeClassifier</td>\n",
       "      <td>none</td>\n",
       "      <td>0.821379</td>\n",
       "      <td>0.853206</td>\n",
       "      <td>0.552672</td>\n",
       "      <td>None</td>\n",
       "      <td>5</td>\n",
       "      <td>None</td>\n",
       "    </tr>\n",
       "    <tr>\n",
       "      <th>3</th>\n",
       "      <td>DecisionTreeClassifier</td>\n",
       "      <td>balance</td>\n",
       "      <td>0.821379</td>\n",
       "      <td>0.853206</td>\n",
       "      <td>0.552672</td>\n",
       "      <td>balanced</td>\n",
       "      <td>5</td>\n",
       "      <td>None</td>\n",
       "    </tr>\n",
       "    <tr>\n",
       "      <th>6</th>\n",
       "      <td>DecisionTreeClassifier</td>\n",
       "      <td>up_sample</td>\n",
       "      <td>0.775564</td>\n",
       "      <td>0.789579</td>\n",
       "      <td>0.543478</td>\n",
       "      <td>None</td>\n",
       "      <td>5</td>\n",
       "      <td>None</td>\n",
       "    </tr>\n",
       "    <tr>\n",
       "      <th>4</th>\n",
       "      <td>RandomForestClassifier</td>\n",
       "      <td>balance</td>\n",
       "      <td>0.845251</td>\n",
       "      <td>0.851703</td>\n",
       "      <td>0.543210</td>\n",
       "      <td>balanced</td>\n",
       "      <td>6</td>\n",
       "      <td>70</td>\n",
       "    </tr>\n",
       "    <tr>\n",
       "      <th>8</th>\n",
       "      <td>LogisticRegression</td>\n",
       "      <td>up_sample</td>\n",
       "      <td>0.740468</td>\n",
       "      <td>0.721944</td>\n",
       "      <td>0.469914</td>\n",
       "      <td>None</td>\n",
       "      <td>None</td>\n",
       "      <td>None</td>\n",
       "    </tr>\n",
       "    <tr>\n",
       "      <th>5</th>\n",
       "      <td>LogisticRegression</td>\n",
       "      <td>balance</td>\n",
       "      <td>0.740793</td>\n",
       "      <td>0.658818</td>\n",
       "      <td>0.463357</td>\n",
       "      <td>balanced</td>\n",
       "      <td>None</td>\n",
       "      <td>None</td>\n",
       "    </tr>\n",
       "    <tr>\n",
       "      <th>2</th>\n",
       "      <td>LogisticRegression</td>\n",
       "      <td>none</td>\n",
       "      <td>0.737495</td>\n",
       "      <td>0.814128</td>\n",
       "      <td>0.311688</td>\n",
       "      <td>None</td>\n",
       "      <td>None</td>\n",
       "      <td>None</td>\n",
       "    </tr>\n",
       "  </tbody>\n",
       "</table>\n",
       "</div>"
      ],
      "text/plain": [
       "                    model     sample   auc_roc  accuracy        f1  \\\n",
       "7  RandomForestClassifier  up_sample  0.848427  0.829659  0.611872   \n",
       "1  RandomForestClassifier       none  0.837078  0.856212  0.573551   \n",
       "0  DecisionTreeClassifier       none  0.821379  0.853206  0.552672   \n",
       "3  DecisionTreeClassifier    balance  0.821379  0.853206  0.552672   \n",
       "6  DecisionTreeClassifier  up_sample  0.775564  0.789579  0.543478   \n",
       "4  RandomForestClassifier    balance  0.845251  0.851703  0.543210   \n",
       "8      LogisticRegression  up_sample  0.740468  0.721944  0.469914   \n",
       "5      LogisticRegression    balance  0.740793  0.658818  0.463357   \n",
       "2      LogisticRegression       none  0.737495  0.814128  0.311688   \n",
       "\n",
       "  class_weight max_depth n_estimators  \n",
       "7         None         5          150  \n",
       "1         None         8           90  \n",
       "0         None         5         None  \n",
       "3     balanced         5         None  \n",
       "6         None         5         None  \n",
       "4     balanced         6           70  \n",
       "8         None      None         None  \n",
       "5     balanced      None         None  \n",
       "2         None      None         None  "
      ]
     },
     "execution_count": 67,
     "metadata": {},
     "output_type": "execute_result"
    }
   ],
   "source": [
    "# Результаты использования моделей со сблансированной обучающей выборкой, \n",
    "# полученной путем увеличения количества объектов класса \"1\"\n",
    "\n",
    "quality_metrics.sort_values('f1', ascending=False)"
   ]
  },
  {
   "cell_type": "code",
   "execution_count": 68,
   "metadata": {},
   "outputs": [
    {
     "name": "stdout",
     "output_type": "stream",
     "text": [
      "Изменение размера выборок:\n",
      "(5988, 9) -> (1407, 9)\n",
      "(5988,) -> (1407,)\n"
     ]
    }
   ],
   "source": [
    "# Балансировка классов за счет уменьшения обучающей выборки класса \"0\"\n",
    "features_train_changesizasample, target_train_changesizasample = changesizasample(\n",
    "    features_train_wooden, \n",
    "    target_train, \n",
    "    0,              # класс целевой обучающей выборки\n",
    "    False,          # уменьшение выборки\n",
    "    class_ratio/100 # кратность изменения (множитель/делитель)\n",
    ")\n",
    "\n",
    "print('Изменение размера выборок:')\n",
    "print(features_train_wooden.shape, '->', features_train_changesizasample.shape)\n",
    "print(target_train.shape, '->', target_train_changesizasample.shape)\n"
   ]
  },
  {
   "cell_type": "code",
   "execution_count": 69,
   "metadata": {},
   "outputs": [
    {
     "name": "stderr",
     "output_type": "stream",
     "text": [
      "C:\\Users\\pleskaks\\AppData\\Local\\Temp\\ipykernel_30768\\127661089.py:20: FutureWarning: The frame.append method is deprecated and will be removed from pandas in a future version. Use pandas.concat instead.\n",
      "  depth_f1 = depth_f1.append(pd.DataFrame({\n",
      "C:\\Users\\pleskaks\\AppData\\Local\\Temp\\ipykernel_30768\\127661089.py:20: FutureWarning: The frame.append method is deprecated and will be removed from pandas in a future version. Use pandas.concat instead.\n",
      "  depth_f1 = depth_f1.append(pd.DataFrame({\n",
      "C:\\Users\\pleskaks\\AppData\\Local\\Temp\\ipykernel_30768\\127661089.py:20: FutureWarning: The frame.append method is deprecated and will be removed from pandas in a future version. Use pandas.concat instead.\n",
      "  depth_f1 = depth_f1.append(pd.DataFrame({\n",
      "C:\\Users\\pleskaks\\AppData\\Local\\Temp\\ipykernel_30768\\127661089.py:20: FutureWarning: The frame.append method is deprecated and will be removed from pandas in a future version. Use pandas.concat instead.\n",
      "  depth_f1 = depth_f1.append(pd.DataFrame({\n",
      "C:\\Users\\pleskaks\\AppData\\Local\\Temp\\ipykernel_30768\\127661089.py:20: FutureWarning: The frame.append method is deprecated and will be removed from pandas in a future version. Use pandas.concat instead.\n",
      "  depth_f1 = depth_f1.append(pd.DataFrame({\n"
     ]
    },
    {
     "name": "stdout",
     "output_type": "stream",
     "text": [
      "max_depth: 1\n",
      "f1: 0.3387432376196421\n",
      "\n",
      "max_depth: 2\n",
      "f1: 0.3387432376196421\n",
      "\n",
      "max_depth: 3\n",
      "f1: 0.3387432376196421\n",
      "\n",
      "max_depth: 4\n",
      "f1: 0.35707925200356183\n",
      "\n",
      "max_depth: 5\n",
      "f1: 0.3531499556344277\n",
      "\n"
     ]
    },
    {
     "name": "stderr",
     "output_type": "stream",
     "text": [
      "C:\\Users\\pleskaks\\AppData\\Local\\Temp\\ipykernel_30768\\127661089.py:20: FutureWarning: The frame.append method is deprecated and will be removed from pandas in a future version. Use pandas.concat instead.\n",
      "  depth_f1 = depth_f1.append(pd.DataFrame({\n",
      "C:\\Users\\pleskaks\\AppData\\Local\\Temp\\ipykernel_30768\\127661089.py:20: FutureWarning: The frame.append method is deprecated and will be removed from pandas in a future version. Use pandas.concat instead.\n",
      "  depth_f1 = depth_f1.append(pd.DataFrame({\n",
      "C:\\Users\\pleskaks\\AppData\\Local\\Temp\\ipykernel_30768\\127661089.py:20: FutureWarning: The frame.append method is deprecated and will be removed from pandas in a future version. Use pandas.concat instead.\n",
      "  depth_f1 = depth_f1.append(pd.DataFrame({\n",
      "C:\\Users\\pleskaks\\AppData\\Local\\Temp\\ipykernel_30768\\127661089.py:20: FutureWarning: The frame.append method is deprecated and will be removed from pandas in a future version. Use pandas.concat instead.\n",
      "  depth_f1 = depth_f1.append(pd.DataFrame({\n",
      "C:\\Users\\pleskaks\\AppData\\Local\\Temp\\ipykernel_30768\\127661089.py:20: FutureWarning: The frame.append method is deprecated and will be removed from pandas in a future version. Use pandas.concat instead.\n",
      "  depth_f1 = depth_f1.append(pd.DataFrame({\n",
      "C:\\Users\\pleskaks\\AppData\\Local\\Temp\\ipykernel_30768\\127661089.py:20: FutureWarning: The frame.append method is deprecated and will be removed from pandas in a future version. Use pandas.concat instead.\n",
      "  depth_f1 = depth_f1.append(pd.DataFrame({\n",
      "C:\\Users\\pleskaks\\AppData\\Local\\Temp\\ipykernel_30768\\127661089.py:20: FutureWarning: The frame.append method is deprecated and will be removed from pandas in a future version. Use pandas.concat instead.\n",
      "  depth_f1 = depth_f1.append(pd.DataFrame({\n",
      "C:\\Users\\pleskaks\\AppData\\Local\\Temp\\ipykernel_30768\\127661089.py:20: FutureWarning: The frame.append method is deprecated and will be removed from pandas in a future version. Use pandas.concat instead.\n",
      "  depth_f1 = depth_f1.append(pd.DataFrame({\n"
     ]
    },
    {
     "name": "stdout",
     "output_type": "stream",
     "text": [
      "max_depth: 6\n",
      "f1: 0.3558118899733807\n",
      "\n",
      "max_depth: 7\n",
      "f1: 0.37476280834914616\n",
      "\n",
      "max_depth: 8\n",
      "f1: 0.3770651117589893\n",
      "\n",
      "max_depth: 9\n",
      "f1: 0.3834661354581673\n",
      "\n",
      "max_depth: 10\n",
      "f1: 0.4057142857142857\n",
      "\n",
      "max_depth: 11\n",
      "f1: 0.40458452722063043\n",
      "\n",
      "max_depth: 12\n",
      "f1: 0.4066437571592211\n",
      "\n",
      "max_depth: 13\n",
      "f1: 0.4077892325315006\n",
      "\n"
     ]
    },
    {
     "name": "stderr",
     "output_type": "stream",
     "text": [
      "C:\\Users\\pleskaks\\AppData\\Local\\Temp\\ipykernel_30768\\127661089.py:20: FutureWarning: The frame.append method is deprecated and will be removed from pandas in a future version. Use pandas.concat instead.\n",
      "  depth_f1 = depth_f1.append(pd.DataFrame({\n",
      "C:\\Users\\pleskaks\\AppData\\Local\\Temp\\ipykernel_30768\\127661089.py:20: FutureWarning: The frame.append method is deprecated and will be removed from pandas in a future version. Use pandas.concat instead.\n",
      "  depth_f1 = depth_f1.append(pd.DataFrame({\n",
      "C:\\Users\\pleskaks\\AppData\\Local\\Temp\\ipykernel_30768\\127661089.py:20: FutureWarning: The frame.append method is deprecated and will be removed from pandas in a future version. Use pandas.concat instead.\n",
      "  depth_f1 = depth_f1.append(pd.DataFrame({\n",
      "C:\\Users\\pleskaks\\AppData\\Local\\Temp\\ipykernel_30768\\127661089.py:20: FutureWarning: The frame.append method is deprecated and will be removed from pandas in a future version. Use pandas.concat instead.\n",
      "  depth_f1 = depth_f1.append(pd.DataFrame({\n",
      "C:\\Users\\pleskaks\\AppData\\Local\\Temp\\ipykernel_30768\\127661089.py:20: FutureWarning: The frame.append method is deprecated and will be removed from pandas in a future version. Use pandas.concat instead.\n",
      "  depth_f1 = depth_f1.append(pd.DataFrame({\n",
      "C:\\Users\\pleskaks\\AppData\\Local\\Temp\\ipykernel_30768\\127661089.py:20: FutureWarning: The frame.append method is deprecated and will be removed from pandas in a future version. Use pandas.concat instead.\n",
      "  depth_f1 = depth_f1.append(pd.DataFrame({\n",
      "C:\\Users\\pleskaks\\AppData\\Local\\Temp\\ipykernel_30768\\127661089.py:20: FutureWarning: The frame.append method is deprecated and will be removed from pandas in a future version. Use pandas.concat instead.\n",
      "  depth_f1 = depth_f1.append(pd.DataFrame({\n",
      "C:\\Users\\pleskaks\\AppData\\Local\\Temp\\ipykernel_30768\\127661089.py:20: FutureWarning: The frame.append method is deprecated and will be removed from pandas in a future version. Use pandas.concat instead.\n",
      "  depth_f1 = depth_f1.append(pd.DataFrame({\n"
     ]
    },
    {
     "name": "stdout",
     "output_type": "stream",
     "text": [
      "max_depth: 14\n",
      "f1: 0.40542066629023155\n",
      "\n",
      "max_depth: 15\n",
      "f1: 0.408092485549133\n",
      "\n",
      "max_depth: 16\n",
      "f1: 0.4029595902105863\n",
      "\n",
      "max_depth: 17\n",
      "f1: 0.3991006183249016\n",
      "\n",
      "max_depth: 18\n",
      "f1: 0.3991006183249016\n",
      "\n",
      "max_depth: 19\n",
      "f1: 0.3991006183249016\n",
      "\n",
      "max_depth: 20\n",
      "f1: 0.3991006183249016\n",
      "\n",
      "max_depth: 21\n",
      "f1: 0.3991006183249016\n",
      "\n",
      "max_depth: 22\n",
      "f1: 0.3991006183249016\n",
      "\n",
      "max_depth: 23\n",
      "f1: 0.3991006183249016\n",
      "\n",
      "max_depth: 24\n",
      "f1: 0.3991006183249016\n",
      "\n",
      "max_depth: 25\n",
      "f1: 0.3991006183249016\n",
      "\n",
      "max_depth: 26\n",
      "f1: 0.3991006183249016\n",
      "\n",
      "max_depth: 27\n",
      "f1: 0.3991006183249016\n",
      "\n",
      "max_depth: 28\n",
      "f1: 0.3991006183249016\n",
      "\n",
      "max_depth: 29\n",
      "f1: 0.3991006183249016\n",
      "\n"
     ]
    },
    {
     "name": "stderr",
     "output_type": "stream",
     "text": [
      "C:\\Users\\pleskaks\\AppData\\Local\\Temp\\ipykernel_30768\\127661089.py:20: FutureWarning: The frame.append method is deprecated and will be removed from pandas in a future version. Use pandas.concat instead.\n",
      "  depth_f1 = depth_f1.append(pd.DataFrame({\n",
      "C:\\Users\\pleskaks\\AppData\\Local\\Temp\\ipykernel_30768\\127661089.py:20: FutureWarning: The frame.append method is deprecated and will be removed from pandas in a future version. Use pandas.concat instead.\n",
      "  depth_f1 = depth_f1.append(pd.DataFrame({\n",
      "C:\\Users\\pleskaks\\AppData\\Local\\Temp\\ipykernel_30768\\127661089.py:20: FutureWarning: The frame.append method is deprecated and will be removed from pandas in a future version. Use pandas.concat instead.\n",
      "  depth_f1 = depth_f1.append(pd.DataFrame({\n",
      "C:\\Users\\pleskaks\\AppData\\Local\\Temp\\ipykernel_30768\\127661089.py:20: FutureWarning: The frame.append method is deprecated and will be removed from pandas in a future version. Use pandas.concat instead.\n",
      "  depth_f1 = depth_f1.append(pd.DataFrame({\n",
      "C:\\Users\\pleskaks\\AppData\\Local\\Temp\\ipykernel_30768\\127661089.py:20: FutureWarning: The frame.append method is deprecated and will be removed from pandas in a future version. Use pandas.concat instead.\n",
      "  depth_f1 = depth_f1.append(pd.DataFrame({\n",
      "C:\\Users\\pleskaks\\AppData\\Local\\Temp\\ipykernel_30768\\127661089.py:20: FutureWarning: The frame.append method is deprecated and will be removed from pandas in a future version. Use pandas.concat instead.\n",
      "  depth_f1 = depth_f1.append(pd.DataFrame({\n",
      "C:\\Users\\pleskaks\\AppData\\Local\\Temp\\ipykernel_30768\\127661089.py:20: FutureWarning: The frame.append method is deprecated and will be removed from pandas in a future version. Use pandas.concat instead.\n",
      "  depth_f1 = depth_f1.append(pd.DataFrame({\n",
      "C:\\Users\\pleskaks\\AppData\\Local\\Temp\\ipykernel_30768\\127661089.py:20: FutureWarning: The frame.append method is deprecated and will be removed from pandas in a future version. Use pandas.concat instead.\n",
      "  depth_f1 = depth_f1.append(pd.DataFrame({\n"
     ]
    },
    {
     "data": {
      "image/png": "[encoded data removed]",
      "text/plain": [
       "<Figure size 640x480 with 1 Axes>"
      ]
     },
     "metadata": {},
     "output_type": "display_data"
    },
    {
     "name": "stdout",
     "output_type": "stream",
     "text": [
      "AUC-ROC: 0.6284375227106505\n",
      "Accuracy: 0.48697394789579157\n",
      "F1: 0.408092485549133\n",
      "\n",
      "TP: 353\n",
      "TN: 619\n",
      "FP: 970\n",
      "FN: 54\n",
      "\n",
      "max_depth: 15\n"
     ]
    },
    {
     "name": "stderr",
     "output_type": "stream",
     "text": [
      "C:\\Users\\pleskaks\\AppData\\Local\\Temp\\ipykernel_30768\\3826688679.py:53: FutureWarning: The frame.append method is deprecated and will be removed from pandas in a future version. Use pandas.concat instead.\n",
      "  quality_metrics = quality_metrics.append({\n"
     ]
    }
   ],
   "source": [
    "# Модель решающего дерева со сблансированной обучающей выборкой, \n",
    "# полученной путем уменьшения количества объектов класса \"0\"\n",
    "quality_metrics = DecisionTreeClassifier_SelectionOfParametrs(\n",
    "    features_train_changesizasample, target_train_changesizasample, \n",
    "    features_valid_wooden, target_valid, \n",
    "    None, 'down_sample', quality_metrics\n",
    ")"
   ]
  },
  {
   "cell_type": "code",
   "execution_count": 70,
   "metadata": {},
   "outputs": [
    {
     "name": "stderr",
     "output_type": "stream",
     "text": [
      "C:\\Users\\pleskaks\\AppData\\Local\\Temp\\ipykernel_30768\\24899568.py:19: FutureWarning: The frame.append method is deprecated and will be removed from pandas in a future version. Use pandas.concat instead.\n",
      "  depth_f1 = depth_f1.append(pd.DataFrame({\n",
      "C:\\Users\\pleskaks\\AppData\\Local\\Temp\\ipykernel_30768\\24899568.py:19: FutureWarning: The frame.append method is deprecated and will be removed from pandas in a future version. Use pandas.concat instead.\n",
      "  depth_f1 = depth_f1.append(pd.DataFrame({\n",
      "C:\\Users\\pleskaks\\AppData\\Local\\Temp\\ipykernel_30768\\24899568.py:19: FutureWarning: The frame.append method is deprecated and will be removed from pandas in a future version. Use pandas.concat instead.\n",
      "  depth_f1 = depth_f1.append(pd.DataFrame({\n"
     ]
    },
    {
     "name": "stdout",
     "output_type": "stream",
     "text": [
      "max_depth: 1\n",
      "f1: 0.3387432376196421\n",
      "\n",
      "max_depth: 2\n",
      "f1: 0.3387432376196421\n",
      "\n",
      "max_depth: 3\n",
      "f1: 0.3387432376196421\n",
      "\n"
     ]
    },
    {
     "name": "stderr",
     "output_type": "stream",
     "text": [
      "C:\\Users\\pleskaks\\AppData\\Local\\Temp\\ipykernel_30768\\24899568.py:19: FutureWarning: The frame.append method is deprecated and will be removed from pandas in a future version. Use pandas.concat instead.\n",
      "  depth_f1 = depth_f1.append(pd.DataFrame({\n",
      "C:\\Users\\pleskaks\\AppData\\Local\\Temp\\ipykernel_30768\\24899568.py:19: FutureWarning: The frame.append method is deprecated and will be removed from pandas in a future version. Use pandas.concat instead.\n",
      "  depth_f1 = depth_f1.append(pd.DataFrame({\n"
     ]
    },
    {
     "name": "stdout",
     "output_type": "stream",
     "text": [
      "max_depth: 4\n",
      "f1: 0.3387432376196421\n",
      "\n",
      "max_depth: 5\n",
      "f1: 0.33959115561118064\n",
      "\n"
     ]
    },
    {
     "name": "stderr",
     "output_type": "stream",
     "text": [
      "C:\\Users\\pleskaks\\AppData\\Local\\Temp\\ipykernel_30768\\24899568.py:19: FutureWarning: The frame.append method is deprecated and will be removed from pandas in a future version. Use pandas.concat instead.\n",
      "  depth_f1 = depth_f1.append(pd.DataFrame({\n"
     ]
    },
    {
     "name": "stdout",
     "output_type": "stream",
     "text": [
      "max_depth: 6\n",
      "f1: 0.35899731423455683\n",
      "\n"
     ]
    },
    {
     "name": "stderr",
     "output_type": "stream",
     "text": [
      "C:\\Users\\pleskaks\\AppData\\Local\\Temp\\ipykernel_30768\\24899568.py:19: FutureWarning: The frame.append method is deprecated and will be removed from pandas in a future version. Use pandas.concat instead.\n",
      "  depth_f1 = depth_f1.append(pd.DataFrame({\n",
      "C:\\Users\\pleskaks\\AppData\\Local\\Temp\\ipykernel_30768\\24899568.py:19: FutureWarning: The frame.append method is deprecated and will be removed from pandas in a future version. Use pandas.concat instead.\n",
      "  depth_f1 = depth_f1.append(pd.DataFrame({\n"
     ]
    },
    {
     "name": "stdout",
     "output_type": "stream",
     "text": [
      "max_depth: 7\n",
      "f1: 0.35704816615112683\n",
      "\n",
      "max_depth: 8\n",
      "f1: 0.3603765127745405\n",
      "\n"
     ]
    },
    {
     "name": "stderr",
     "output_type": "stream",
     "text": [
      "C:\\Users\\pleskaks\\AppData\\Local\\Temp\\ipykernel_30768\\24899568.py:19: FutureWarning: The frame.append method is deprecated and will be removed from pandas in a future version. Use pandas.concat instead.\n",
      "  depth_f1 = depth_f1.append(pd.DataFrame({\n",
      "C:\\Users\\pleskaks\\AppData\\Local\\Temp\\ipykernel_30768\\24899568.py:19: FutureWarning: The frame.append method is deprecated and will be removed from pandas in a future version. Use pandas.concat instead.\n",
      "  depth_f1 = depth_f1.append(pd.DataFrame({\n",
      "C:\\Users\\pleskaks\\AppData\\Local\\Temp\\ipykernel_30768\\24899568.py:19: FutureWarning: The frame.append method is deprecated and will be removed from pandas in a future version. Use pandas.concat instead.\n",
      "  depth_f1 = depth_f1.append(pd.DataFrame({\n"
     ]
    },
    {
     "name": "stdout",
     "output_type": "stream",
     "text": [
      "max_depth: 9\n",
      "f1: 0.382295719844358\n",
      "\n",
      "max_depth: 10\n",
      "f1: 0.39150699119627136\n",
      "\n",
      "max_depth: 11\n",
      "f1: 0.3702664796633941\n",
      "\n"
     ]
    },
    {
     "name": "stderr",
     "output_type": "stream",
     "text": [
      "C:\\Users\\pleskaks\\AppData\\Local\\Temp\\ipykernel_30768\\24899568.py:19: FutureWarning: The frame.append method is deprecated and will be removed from pandas in a future version. Use pandas.concat instead.\n",
      "  depth_f1 = depth_f1.append(pd.DataFrame({\n"
     ]
    },
    {
     "name": "stdout",
     "output_type": "stream",
     "text": [
      "max_depth: 12\n",
      "f1: 0.3644605621033545\n",
      "\n"
     ]
    },
    {
     "name": "stderr",
     "output_type": "stream",
     "text": [
      "C:\\Users\\pleskaks\\AppData\\Local\\Temp\\ipykernel_30768\\24899568.py:19: FutureWarning: The frame.append method is deprecated and will be removed from pandas in a future version. Use pandas.concat instead.\n",
      "  depth_f1 = depth_f1.append(pd.DataFrame({\n",
      "C:\\Users\\pleskaks\\AppData\\Local\\Temp\\ipykernel_30768\\24899568.py:19: FutureWarning: The frame.append method is deprecated and will be removed from pandas in a future version. Use pandas.concat instead.\n",
      "  depth_f1 = depth_f1.append(pd.DataFrame({\n"
     ]
    },
    {
     "name": "stdout",
     "output_type": "stream",
     "text": [
      "max_depth: 13\n",
      "f1: 0.3673659673659673\n",
      "\n",
      "max_depth: 14\n",
      "f1: 0.37775647171620325\n",
      "\n"
     ]
    },
    {
     "name": "stderr",
     "output_type": "stream",
     "text": [
      "C:\\Users\\pleskaks\\AppData\\Local\\Temp\\ipykernel_30768\\24899568.py:19: FutureWarning: The frame.append method is deprecated and will be removed from pandas in a future version. Use pandas.concat instead.\n",
      "  depth_f1 = depth_f1.append(pd.DataFrame({\n",
      "C:\\Users\\pleskaks\\AppData\\Local\\Temp\\ipykernel_30768\\24899568.py:19: FutureWarning: The frame.append method is deprecated and will be removed from pandas in a future version. Use pandas.concat instead.\n",
      "  depth_f1 = depth_f1.append(pd.DataFrame({\n"
     ]
    },
    {
     "name": "stdout",
     "output_type": "stream",
     "text": [
      "max_depth: 15\n",
      "f1: 0.39039039039039036\n",
      "\n",
      "max_depth: 16\n",
      "f1: 0.3934098851722416\n",
      "\n"
     ]
    },
    {
     "name": "stderr",
     "output_type": "stream",
     "text": [
      "C:\\Users\\pleskaks\\AppData\\Local\\Temp\\ipykernel_30768\\24899568.py:19: FutureWarning: The frame.append method is deprecated and will be removed from pandas in a future version. Use pandas.concat instead.\n",
      "  depth_f1 = depth_f1.append(pd.DataFrame({\n",
      "C:\\Users\\pleskaks\\AppData\\Local\\Temp\\ipykernel_30768\\24899568.py:19: FutureWarning: The frame.append method is deprecated and will be removed from pandas in a future version. Use pandas.concat instead.\n",
      "  depth_f1 = depth_f1.append(pd.DataFrame({\n"
     ]
    },
    {
     "name": "stdout",
     "output_type": "stream",
     "text": [
      "max_depth: 17\n",
      "f1: 0.3790786948176583\n",
      "\n",
      "max_depth: 18\n",
      "f1: 0.38577691183633706\n",
      "\n"
     ]
    },
    {
     "name": "stderr",
     "output_type": "stream",
     "text": [
      "C:\\Users\\pleskaks\\AppData\\Local\\Temp\\ipykernel_30768\\24899568.py:19: FutureWarning: The frame.append method is deprecated and will be removed from pandas in a future version. Use pandas.concat instead.\n",
      "  depth_f1 = depth_f1.append(pd.DataFrame({\n",
      "C:\\Users\\pleskaks\\AppData\\Local\\Temp\\ipykernel_30768\\24899568.py:19: FutureWarning: The frame.append method is deprecated and will be removed from pandas in a future version. Use pandas.concat instead.\n",
      "  depth_f1 = depth_f1.append(pd.DataFrame({\n"
     ]
    },
    {
     "name": "stdout",
     "output_type": "stream",
     "text": [
      "max_depth: 19\n",
      "f1: 0.38577691183633706\n",
      "\n",
      "max_depth: 20\n",
      "f1: 0.38577691183633706\n",
      "\n"
     ]
    },
    {
     "name": "stderr",
     "output_type": "stream",
     "text": [
      "C:\\Users\\pleskaks\\AppData\\Local\\Temp\\ipykernel_30768\\24899568.py:19: FutureWarning: The frame.append method is deprecated and will be removed from pandas in a future version. Use pandas.concat instead.\n",
      "  depth_f1 = depth_f1.append(pd.DataFrame({\n",
      "C:\\Users\\pleskaks\\AppData\\Local\\Temp\\ipykernel_30768\\24899568.py:19: FutureWarning: The frame.append method is deprecated and will be removed from pandas in a future version. Use pandas.concat instead.\n",
      "  depth_f1 = depth_f1.append(pd.DataFrame({\n",
      "C:\\Users\\pleskaks\\AppData\\Local\\Temp\\ipykernel_30768\\24899568.py:19: FutureWarning: The frame.append method is deprecated and will be removed from pandas in a future version. Use pandas.concat instead.\n",
      "  depth_f1 = depth_f1.append(pd.DataFrame({\n"
     ]
    },
    {
     "name": "stdout",
     "output_type": "stream",
     "text": [
      "max_depth: 21\n",
      "f1: 0.38577691183633706\n",
      "\n",
      "max_depth: 22\n",
      "f1: 0.38577691183633706\n",
      "\n",
      "max_depth: 23\n",
      "f1: 0.38577691183633706\n",
      "\n"
     ]
    },
    {
     "name": "stderr",
     "output_type": "stream",
     "text": [
      "C:\\Users\\pleskaks\\AppData\\Local\\Temp\\ipykernel_30768\\24899568.py:19: FutureWarning: The frame.append method is deprecated and will be removed from pandas in a future version. Use pandas.concat instead.\n",
      "  depth_f1 = depth_f1.append(pd.DataFrame({\n",
      "C:\\Users\\pleskaks\\AppData\\Local\\Temp\\ipykernel_30768\\24899568.py:19: FutureWarning: The frame.append method is deprecated and will be removed from pandas in a future version. Use pandas.concat instead.\n",
      "  depth_f1 = depth_f1.append(pd.DataFrame({\n"
     ]
    },
    {
     "name": "stdout",
     "output_type": "stream",
     "text": [
      "max_depth: 24\n",
      "f1: 0.38577691183633706\n",
      "\n",
      "max_depth: 25\n",
      "f1: 0.38577691183633706\n",
      "\n"
     ]
    },
    {
     "name": "stderr",
     "output_type": "stream",
     "text": [
      "C:\\Users\\pleskaks\\AppData\\Local\\Temp\\ipykernel_30768\\24899568.py:19: FutureWarning: The frame.append method is deprecated and will be removed from pandas in a future version. Use pandas.concat instead.\n",
      "  depth_f1 = depth_f1.append(pd.DataFrame({\n",
      "C:\\Users\\pleskaks\\AppData\\Local\\Temp\\ipykernel_30768\\24899568.py:19: FutureWarning: The frame.append method is deprecated and will be removed from pandas in a future version. Use pandas.concat instead.\n",
      "  depth_f1 = depth_f1.append(pd.DataFrame({\n",
      "C:\\Users\\pleskaks\\AppData\\Local\\Temp\\ipykernel_30768\\24899568.py:19: FutureWarning: The frame.append method is deprecated and will be removed from pandas in a future version. Use pandas.concat instead.\n",
      "  depth_f1 = depth_f1.append(pd.DataFrame({\n"
     ]
    },
    {
     "name": "stdout",
     "output_type": "stream",
     "text": [
      "max_depth: 26\n",
      "f1: 0.38577691183633706\n",
      "\n",
      "max_depth: 27\n",
      "f1: 0.38577691183633706\n",
      "\n",
      "max_depth: 28\n",
      "f1: 0.38577691183633706\n",
      "\n"
     ]
    },
    {
     "name": "stderr",
     "output_type": "stream",
     "text": [
      "C:\\Users\\pleskaks\\AppData\\Local\\Temp\\ipykernel_30768\\24899568.py:19: FutureWarning: The frame.append method is deprecated and will be removed from pandas in a future version. Use pandas.concat instead.\n",
      "  depth_f1 = depth_f1.append(pd.DataFrame({\n",
      "C:\\Users\\pleskaks\\AppData\\Local\\Temp\\ipykernel_30768\\183344835.py:18: FutureWarning: The frame.append method is deprecated and will be removed from pandas in a future version. Use pandas.concat instead.\n",
      "  n_estimators_f1 = n_estimators_f1.append(pd.DataFrame({\n"
     ]
    },
    {
     "name": "stdout",
     "output_type": "stream",
     "text": [
      "max_depth: 29\n",
      "f1: 0.38577691183633706\n",
      "\n",
      "n_estimators: 50\n",
      "f1: 0.37054191755442334\n",
      "\n"
     ]
    },
    {
     "name": "stderr",
     "output_type": "stream",
     "text": [
      "C:\\Users\\pleskaks\\AppData\\Local\\Temp\\ipykernel_30768\\183344835.py:18: FutureWarning: The frame.append method is deprecated and will be removed from pandas in a future version. Use pandas.concat instead.\n",
      "  n_estimators_f1 = n_estimators_f1.append(pd.DataFrame({\n"
     ]
    },
    {
     "name": "stdout",
     "output_type": "stream",
     "text": [
      "n_estimators: 60\n",
      "f1: 0.3683241252302026\n",
      "\n"
     ]
    },
    {
     "name": "stderr",
     "output_type": "stream",
     "text": [
      "C:\\Users\\pleskaks\\AppData\\Local\\Temp\\ipykernel_30768\\183344835.py:18: FutureWarning: The frame.append method is deprecated and will be removed from pandas in a future version. Use pandas.concat instead.\n",
      "  n_estimators_f1 = n_estimators_f1.append(pd.DataFrame({\n"
     ]
    },
    {
     "name": "stdout",
     "output_type": "stream",
     "text": [
      "n_estimators: 70\n",
      "f1: 0.3677007299270073\n",
      "\n"
     ]
    },
    {
     "name": "stderr",
     "output_type": "stream",
     "text": [
      "C:\\Users\\pleskaks\\AppData\\Local\\Temp\\ipykernel_30768\\183344835.py:18: FutureWarning: The frame.append method is deprecated and will be removed from pandas in a future version. Use pandas.concat instead.\n",
      "  n_estimators_f1 = n_estimators_f1.append(pd.DataFrame({\n"
     ]
    },
    {
     "name": "stdout",
     "output_type": "stream",
     "text": [
      "n_estimators: 80\n",
      "f1: 0.36863823933975237\n",
      "\n"
     ]
    },
    {
     "name": "stderr",
     "output_type": "stream",
     "text": [
      "C:\\Users\\pleskaks\\AppData\\Local\\Temp\\ipykernel_30768\\183344835.py:18: FutureWarning: The frame.append method is deprecated and will be removed from pandas in a future version. Use pandas.concat instead.\n",
      "  n_estimators_f1 = n_estimators_f1.append(pd.DataFrame({\n"
     ]
    },
    {
     "name": "stdout",
     "output_type": "stream",
     "text": [
      "n_estimators: 90\n",
      "f1: 0.36536718041704447\n",
      "\n"
     ]
    },
    {
     "name": "stderr",
     "output_type": "stream",
     "text": [
      "C:\\Users\\pleskaks\\AppData\\Local\\Temp\\ipykernel_30768\\183344835.py:18: FutureWarning: The frame.append method is deprecated and will be removed from pandas in a future version. Use pandas.concat instead.\n",
      "  n_estimators_f1 = n_estimators_f1.append(pd.DataFrame({\n"
     ]
    },
    {
     "name": "stdout",
     "output_type": "stream",
     "text": [
      "n_estimators: 100\n",
      "f1: 0.36298292902066487\n",
      "\n"
     ]
    },
    {
     "name": "stderr",
     "output_type": "stream",
     "text": [
      "C:\\Users\\pleskaks\\AppData\\Local\\Temp\\ipykernel_30768\\183344835.py:18: FutureWarning: The frame.append method is deprecated and will be removed from pandas in a future version. Use pandas.concat instead.\n",
      "  n_estimators_f1 = n_estimators_f1.append(pd.DataFrame({\n"
     ]
    },
    {
     "name": "stdout",
     "output_type": "stream",
     "text": [
      "n_estimators: 110\n",
      "f1: 0.36437613019891496\n",
      "\n"
     ]
    },
    {
     "name": "stderr",
     "output_type": "stream",
     "text": [
      "C:\\Users\\pleskaks\\AppData\\Local\\Temp\\ipykernel_30768\\183344835.py:18: FutureWarning: The frame.append method is deprecated and will be removed from pandas in a future version. Use pandas.concat instead.\n",
      "  n_estimators_f1 = n_estimators_f1.append(pd.DataFrame({\n"
     ]
    },
    {
     "name": "stdout",
     "output_type": "stream",
     "text": [
      "n_estimators: 120\n",
      "f1: 0.3616734143049932\n",
      "\n"
     ]
    },
    {
     "name": "stderr",
     "output_type": "stream",
     "text": [
      "C:\\Users\\pleskaks\\AppData\\Local\\Temp\\ipykernel_30768\\183344835.py:18: FutureWarning: The frame.append method is deprecated and will be removed from pandas in a future version. Use pandas.concat instead.\n",
      "  n_estimators_f1 = n_estimators_f1.append(pd.DataFrame({\n"
     ]
    },
    {
     "name": "stdout",
     "output_type": "stream",
     "text": [
      "n_estimators: 130\n",
      "f1: 0.3621621621621622\n",
      "\n"
     ]
    },
    {
     "name": "stderr",
     "output_type": "stream",
     "text": [
      "C:\\Users\\pleskaks\\AppData\\Local\\Temp\\ipykernel_30768\\183344835.py:18: FutureWarning: The frame.append method is deprecated and will be removed from pandas in a future version. Use pandas.concat instead.\n",
      "  n_estimators_f1 = n_estimators_f1.append(pd.DataFrame({\n"
     ]
    },
    {
     "name": "stdout",
     "output_type": "stream",
     "text": [
      "n_estimators: 140\n",
      "f1: 0.36208445642407905\n",
      "\n"
     ]
    },
    {
     "name": "stderr",
     "output_type": "stream",
     "text": [
      "C:\\Users\\pleskaks\\AppData\\Local\\Temp\\ipykernel_30768\\183344835.py:18: FutureWarning: The frame.append method is deprecated and will be removed from pandas in a future version. Use pandas.concat instead.\n",
      "  n_estimators_f1 = n_estimators_f1.append(pd.DataFrame({\n"
     ]
    },
    {
     "name": "stdout",
     "output_type": "stream",
     "text": [
      "n_estimators: 150\n",
      "f1: 0.3621621621621622\n",
      "\n"
     ]
    },
    {
     "name": "stderr",
     "output_type": "stream",
     "text": [
      "C:\\Users\\pleskaks\\AppData\\Local\\Temp\\ipykernel_30768\\183344835.py:18: FutureWarning: The frame.append method is deprecated and will be removed from pandas in a future version. Use pandas.concat instead.\n",
      "  n_estimators_f1 = n_estimators_f1.append(pd.DataFrame({\n"
     ]
    },
    {
     "name": "stdout",
     "output_type": "stream",
     "text": [
      "n_estimators: 160\n",
      "f1: 0.362410071942446\n",
      "\n"
     ]
    },
    {
     "name": "stderr",
     "output_type": "stream",
     "text": [
      "C:\\Users\\pleskaks\\AppData\\Local\\Temp\\ipykernel_30768\\183344835.py:18: FutureWarning: The frame.append method is deprecated and will be removed from pandas in a future version. Use pandas.concat instead.\n",
      "  n_estimators_f1 = n_estimators_f1.append(pd.DataFrame({\n"
     ]
    },
    {
     "name": "stdout",
     "output_type": "stream",
     "text": [
      "n_estimators: 170\n",
      "f1: 0.3624943921040826\n",
      "\n"
     ]
    },
    {
     "name": "stderr",
     "output_type": "stream",
     "text": [
      "C:\\Users\\pleskaks\\AppData\\Local\\Temp\\ipykernel_30768\\183344835.py:18: FutureWarning: The frame.append method is deprecated and will be removed from pandas in a future version. Use pandas.concat instead.\n",
      "  n_estimators_f1 = n_estimators_f1.append(pd.DataFrame({\n"
     ]
    },
    {
     "name": "stdout",
     "output_type": "stream",
     "text": [
      "n_estimators: 180\n",
      "f1: 0.36298292902066487\n",
      "\n"
     ]
    },
    {
     "name": "stderr",
     "output_type": "stream",
     "text": [
      "C:\\Users\\pleskaks\\AppData\\Local\\Temp\\ipykernel_30768\\183344835.py:18: FutureWarning: The frame.append method is deprecated and will be removed from pandas in a future version. Use pandas.concat instead.\n",
      "  n_estimators_f1 = n_estimators_f1.append(pd.DataFrame({\n"
     ]
    },
    {
     "name": "stdout",
     "output_type": "stream",
     "text": [
      "n_estimators: 190\n",
      "f1: 0.36371800628648404\n",
      "\n"
     ]
    },
    {
     "name": "stderr",
     "output_type": "stream",
     "text": [
      "C:\\Users\\pleskaks\\AppData\\Local\\Temp\\ipykernel_30768\\183344835.py:18: FutureWarning: The frame.append method is deprecated and will be removed from pandas in a future version. Use pandas.concat instead.\n",
      "  n_estimators_f1 = n_estimators_f1.append(pd.DataFrame({\n"
     ]
    },
    {
     "name": "stdout",
     "output_type": "stream",
     "text": [
      "n_estimators: 200\n",
      "f1: 0.36257833482542523\n",
      "\n"
     ]
    },
    {
     "name": "stderr",
     "output_type": "stream",
     "text": [
      "C:\\Users\\pleskaks\\AppData\\Local\\Temp\\ipykernel_30768\\183344835.py:18: FutureWarning: The frame.append method is deprecated and will be removed from pandas in a future version. Use pandas.concat instead.\n",
      "  n_estimators_f1 = n_estimators_f1.append(pd.DataFrame({\n"
     ]
    },
    {
     "name": "stdout",
     "output_type": "stream",
     "text": [
      "n_estimators: 210\n",
      "f1: 0.3606411398040962\n",
      "\n"
     ]
    },
    {
     "name": "stderr",
     "output_type": "stream",
     "text": [
      "C:\\Users\\pleskaks\\AppData\\Local\\Temp\\ipykernel_30768\\183344835.py:18: FutureWarning: The frame.append method is deprecated and will be removed from pandas in a future version. Use pandas.concat instead.\n",
      "  n_estimators_f1 = n_estimators_f1.append(pd.DataFrame({\n"
     ]
    },
    {
     "name": "stdout",
     "output_type": "stream",
     "text": [
      "n_estimators: 220\n",
      "f1: 0.36128456735057984\n",
      "\n"
     ]
    },
    {
     "name": "stderr",
     "output_type": "stream",
     "text": [
      "C:\\Users\\pleskaks\\AppData\\Local\\Temp\\ipykernel_30768\\183344835.py:18: FutureWarning: The frame.append method is deprecated and will be removed from pandas in a future version. Use pandas.concat instead.\n",
      "  n_estimators_f1 = n_estimators_f1.append(pd.DataFrame({\n"
     ]
    },
    {
     "name": "stdout",
     "output_type": "stream",
     "text": [
      "n_estimators: 230\n",
      "f1: 0.3608017817371938\n",
      "\n"
     ]
    },
    {
     "name": "stderr",
     "output_type": "stream",
     "text": [
      "C:\\Users\\pleskaks\\AppData\\Local\\Temp\\ipykernel_30768\\183344835.py:18: FutureWarning: The frame.append method is deprecated and will be removed from pandas in a future version. Use pandas.concat instead.\n",
      "  n_estimators_f1 = n_estimators_f1.append(pd.DataFrame({\n"
     ]
    },
    {
     "name": "stdout",
     "output_type": "stream",
     "text": [
      "n_estimators: 240\n",
      "f1: 0.36112349531876947\n",
      "\n"
     ]
    },
    {
     "name": "stderr",
     "output_type": "stream",
     "text": [
      "C:\\Users\\pleskaks\\AppData\\Local\\Temp\\ipykernel_30768\\183344835.py:18: FutureWarning: The frame.append method is deprecated and will be removed from pandas in a future version. Use pandas.concat instead.\n",
      "  n_estimators_f1 = n_estimators_f1.append(pd.DataFrame({\n"
     ]
    },
    {
     "name": "stdout",
     "output_type": "stream",
     "text": [
      "n_estimators: 250\n",
      "f1: 0.3598400710795202\n",
      "\n"
     ]
    },
    {
     "data": {
      "image/png": "[encoded data removed]",
      "text/plain": [
       "<Figure size 640x480 with 1 Axes>"
      ]
     },
     "metadata": {},
     "output_type": "display_data"
    },
    {
     "name": "stdout",
     "output_type": "stream",
     "text": [
      "AUC-ROC: 0.7918683887846883\n",
      "Accuracy: 0.3191382765531062\n",
      "F1: 0.37054191755442334\n",
      "\n",
      "TP: 400\n",
      "TN: 237\n",
      "FP: 1352\n",
      "FN: 7\n",
      "\n",
      "max_depth: 16\n",
      "n_estimators: 50\n"
     ]
    },
    {
     "name": "stderr",
     "output_type": "stream",
     "text": [
      "C:\\Users\\pleskaks\\AppData\\Local\\Temp\\ipykernel_30768\\3826688679.py:53: FutureWarning: The frame.append method is deprecated and will be removed from pandas in a future version. Use pandas.concat instead.\n",
      "  quality_metrics = quality_metrics.append({\n"
     ]
    }
   ],
   "source": [
    "# Модель случайного леса со сблансированной обучающей выборкой, \n",
    "# полученной путем уменьшения количества объектов класса \"0\"\n",
    "quality_metrics = RandomForestClassifier_SelectionOfParametrs(\n",
    "    features_train_changesizasample, target_train_changesizasample,\n",
    "    features_valid_wooden, target_valid, \n",
    "    None, 'down_sample', quality_metrics\n",
    ")"
   ]
  },
  {
   "cell_type": "code",
   "execution_count": 71,
   "metadata": {},
   "outputs": [
    {
     "name": "stdout",
     "output_type": "stream",
     "text": [
      "Изменение размера выборок:\n",
      "(5988, 9) -> (1407, 12)\n",
      "(5988,) -> (1407,)\n"
     ]
    }
   ],
   "source": [
    "# Уменьшение обучающей выборки за счет объектов класса \"0\" для логистических моделей\n",
    "features_train_changesizasample, target_train_changesizasample = changesizasample(\n",
    "    features_train_logistic, \n",
    "    target_train, \n",
    "    0,              # класс целевой обучающей выборки\n",
    "    False,          # уменьшение выборки\n",
    "    class_ratio/100 # кратность изменения (множитель/делитель)\n",
    ")\n",
    "\n",
    "print('Изменение размера выборок:')\n",
    "print(features_train_wooden.shape, '->', features_train_changesizasample.shape)\n",
    "print(target_train.shape, '->', target_train_changesizasample.shape)\n"
   ]
  },
  {
   "cell_type": "code",
   "execution_count": 72,
   "metadata": {},
   "outputs": [
    {
     "data": {
      "image/png": "[encoded data removed]",
      "text/plain": [
       "<Figure size 640x480 with 1 Axes>"
      ]
     },
     "metadata": {},
     "output_type": "display_data"
    },
    {
     "name": "stdout",
     "output_type": "stream",
     "text": [
      "AUC-ROC: 0.7319114984313222\n",
      "Accuracy: 0.22545090180360722\n",
      "F1: 0.342687074829932\n",
      "\n",
      "TP: 403\n",
      "TN: 47\n",
      "FP: 1542\n",
      "FN: 4\n"
     ]
    },
    {
     "name": "stderr",
     "output_type": "stream",
     "text": [
      "C:\\Users\\pleskaks\\AppData\\Local\\Temp\\ipykernel_30768\\3826688679.py:53: FutureWarning: The frame.append method is deprecated and will be removed from pandas in a future version. Use pandas.concat instead.\n",
      "  quality_metrics = quality_metrics.append({\n"
     ]
    }
   ],
   "source": [
    "# Модель логистической регрессии со сблансированной обучающей выборкой, \n",
    "# полученной путем уменьшения количества объектов класса \"0\"\n",
    "quality_metrics = LogisticRegression_SelectionOfParametrs(\n",
    "    features_train_changesizasample, target_train_changesizasample, \n",
    "    features_valid_logistic, target_valid, \n",
    "    None, 'down_sample', quality_metrics\n",
    ")"
   ]
  },
  {
   "cell_type": "code",
   "execution_count": 73,
   "metadata": {},
   "outputs": [
    {
     "data": {
      "text/html": [
       "<div>\n",
       "<style scoped>\n",
       "    .dataframe tbody tr th:only-of-type {\n",
       "        vertical-align: middle;\n",
       "    }\n",
       "\n",
       "    .dataframe tbody tr th {\n",
       "        vertical-align: top;\n",
       "    }\n",
       "\n",
       "    .dataframe thead th {\n",
       "        text-align: right;\n",
       "    }\n",
       "</style>\n",
       "<table border=\"1\" class=\"dataframe\">\n",
       "  <thead>\n",
       "    <tr style=\"text-align: right;\">\n",
       "      <th></th>\n",
       "      <th>model</th>\n",
       "      <th>sample</th>\n",
       "      <th>auc_roc</th>\n",
       "      <th>accuracy</th>\n",
       "      <th>f1</th>\n",
       "      <th>class_weight</th>\n",
       "      <th>max_depth</th>\n",
       "      <th>n_estimators</th>\n",
       "    </tr>\n",
       "  </thead>\n",
       "  <tbody>\n",
       "    <tr>\n",
       "      <th>7</th>\n",
       "      <td>RandomForestClassifier</td>\n",
       "      <td>up_sample</td>\n",
       "      <td>0.848427</td>\n",
       "      <td>0.829659</td>\n",
       "      <td>0.611872</td>\n",
       "      <td>None</td>\n",
       "      <td>5</td>\n",
       "      <td>150</td>\n",
       "    </tr>\n",
       "    <tr>\n",
       "      <th>1</th>\n",
       "      <td>RandomForestClassifier</td>\n",
       "      <td>none</td>\n",
       "      <td>0.837078</td>\n",
       "      <td>0.856212</td>\n",
       "      <td>0.573551</td>\n",
       "      <td>None</td>\n",
       "      <td>8</td>\n",
       "      <td>90</td>\n",
       "    </tr>\n",
       "    <tr>\n",
       "      <th>0</th>\n",
       "      <td>DecisionTreeClassifier</td>\n",
       "      <td>none</td>\n",
       "      <td>0.821379</td>\n",
       "      <td>0.853206</td>\n",
       "      <td>0.552672</td>\n",
       "      <td>None</td>\n",
       "      <td>5</td>\n",
       "      <td>None</td>\n",
       "    </tr>\n",
       "    <tr>\n",
       "      <th>3</th>\n",
       "      <td>DecisionTreeClassifier</td>\n",
       "      <td>balance</td>\n",
       "      <td>0.821379</td>\n",
       "      <td>0.853206</td>\n",
       "      <td>0.552672</td>\n",
       "      <td>balanced</td>\n",
       "      <td>5</td>\n",
       "      <td>None</td>\n",
       "    </tr>\n",
       "    <tr>\n",
       "      <th>6</th>\n",
       "      <td>DecisionTreeClassifier</td>\n",
       "      <td>up_sample</td>\n",
       "      <td>0.775564</td>\n",
       "      <td>0.789579</td>\n",
       "      <td>0.543478</td>\n",
       "      <td>None</td>\n",
       "      <td>5</td>\n",
       "      <td>None</td>\n",
       "    </tr>\n",
       "    <tr>\n",
       "      <th>4</th>\n",
       "      <td>RandomForestClassifier</td>\n",
       "      <td>balance</td>\n",
       "      <td>0.845251</td>\n",
       "      <td>0.851703</td>\n",
       "      <td>0.543210</td>\n",
       "      <td>balanced</td>\n",
       "      <td>6</td>\n",
       "      <td>70</td>\n",
       "    </tr>\n",
       "    <tr>\n",
       "      <th>8</th>\n",
       "      <td>LogisticRegression</td>\n",
       "      <td>up_sample</td>\n",
       "      <td>0.740468</td>\n",
       "      <td>0.721944</td>\n",
       "      <td>0.469914</td>\n",
       "      <td>None</td>\n",
       "      <td>None</td>\n",
       "      <td>None</td>\n",
       "    </tr>\n",
       "    <tr>\n",
       "      <th>5</th>\n",
       "      <td>LogisticRegression</td>\n",
       "      <td>balance</td>\n",
       "      <td>0.740793</td>\n",
       "      <td>0.658818</td>\n",
       "      <td>0.463357</td>\n",
       "      <td>balanced</td>\n",
       "      <td>None</td>\n",
       "      <td>None</td>\n",
       "    </tr>\n",
       "    <tr>\n",
       "      <th>9</th>\n",
       "      <td>DecisionTreeClassifier</td>\n",
       "      <td>down_sample</td>\n",
       "      <td>0.628438</td>\n",
       "      <td>0.486974</td>\n",
       "      <td>0.408092</td>\n",
       "      <td>None</td>\n",
       "      <td>15</td>\n",
       "      <td>None</td>\n",
       "    </tr>\n",
       "    <tr>\n",
       "      <th>10</th>\n",
       "      <td>RandomForestClassifier</td>\n",
       "      <td>down_sample</td>\n",
       "      <td>0.791868</td>\n",
       "      <td>0.319138</td>\n",
       "      <td>0.370542</td>\n",
       "      <td>None</td>\n",
       "      <td>16</td>\n",
       "      <td>50</td>\n",
       "    </tr>\n",
       "    <tr>\n",
       "      <th>11</th>\n",
       "      <td>LogisticRegression</td>\n",
       "      <td>down_sample</td>\n",
       "      <td>0.731911</td>\n",
       "      <td>0.225451</td>\n",
       "      <td>0.342687</td>\n",
       "      <td>None</td>\n",
       "      <td>None</td>\n",
       "      <td>None</td>\n",
       "    </tr>\n",
       "    <tr>\n",
       "      <th>2</th>\n",
       "      <td>LogisticRegression</td>\n",
       "      <td>none</td>\n",
       "      <td>0.737495</td>\n",
       "      <td>0.814128</td>\n",
       "      <td>0.311688</td>\n",
       "      <td>None</td>\n",
       "      <td>None</td>\n",
       "      <td>None</td>\n",
       "    </tr>\n",
       "  </tbody>\n",
       "</table>\n",
       "</div>"
      ],
      "text/plain": [
       "                     model       sample   auc_roc  accuracy        f1  \\\n",
       "7   RandomForestClassifier    up_sample  0.848427  0.829659  0.611872   \n",
       "1   RandomForestClassifier         none  0.837078  0.856212  0.573551   \n",
       "0   DecisionTreeClassifier         none  0.821379  0.853206  0.552672   \n",
       "3   DecisionTreeClassifier      balance  0.821379  0.853206  0.552672   \n",
       "6   DecisionTreeClassifier    up_sample  0.775564  0.789579  0.543478   \n",
       "4   RandomForestClassifier      balance  0.845251  0.851703  0.543210   \n",
       "8       LogisticRegression    up_sample  0.740468  0.721944  0.469914   \n",
       "5       LogisticRegression      balance  0.740793  0.658818  0.463357   \n",
       "9   DecisionTreeClassifier  down_sample  0.628438  0.486974  0.408092   \n",
       "10  RandomForestClassifier  down_sample  0.791868  0.319138  0.370542   \n",
       "11      LogisticRegression  down_sample  0.731911  0.225451  0.342687   \n",
       "2       LogisticRegression         none  0.737495  0.814128  0.311688   \n",
       "\n",
       "   class_weight max_depth n_estimators  \n",
       "7          None         5          150  \n",
       "1          None         8           90  \n",
       "0          None         5         None  \n",
       "3      balanced         5         None  \n",
       "6          None         5         None  \n",
       "4      balanced         6           70  \n",
       "8          None      None         None  \n",
       "5      balanced      None         None  \n",
       "9          None        15         None  \n",
       "10         None        16           50  \n",
       "11         None      None         None  \n",
       "2          None      None         None  "
      ]
     },
     "execution_count": 73,
     "metadata": {},
     "output_type": "execute_result"
    }
   ],
   "source": [
    "# Показатели качества моделей с разными способами балансировки \n",
    "# обучающих \"деревянными\" и логистических выборок и без нее\n",
    "quality_metrics.sort_values('f1', ascending=False)"
   ]
  },
  {
   "cell_type": "code",
   "execution_count": 74,
   "metadata": {},
   "outputs": [
    {
     "name": "stdout",
     "output_type": "stream",
     "text": [
      "Лучшее значение показателей \"F1\", \"Accuracy\", \"AUC-ROC\":\n"
     ]
    },
    {
     "data": {
      "text/html": [
       "<div>\n",
       "<style scoped>\n",
       "    .dataframe tbody tr th:only-of-type {\n",
       "        vertical-align: middle;\n",
       "    }\n",
       "\n",
       "    .dataframe tbody tr th {\n",
       "        vertical-align: top;\n",
       "    }\n",
       "\n",
       "    .dataframe thead th {\n",
       "        text-align: right;\n",
       "    }\n",
       "</style>\n",
       "<table border=\"1\" class=\"dataframe\">\n",
       "  <thead>\n",
       "    <tr style=\"text-align: right;\">\n",
       "      <th></th>\n",
       "      <th>model</th>\n",
       "      <th>sample</th>\n",
       "      <th>auc_roc</th>\n",
       "      <th>accuracy</th>\n",
       "      <th>f1</th>\n",
       "      <th>class_weight</th>\n",
       "      <th>max_depth</th>\n",
       "      <th>n_estimators</th>\n",
       "    </tr>\n",
       "  </thead>\n",
       "  <tbody>\n",
       "    <tr>\n",
       "      <th>1</th>\n",
       "      <td>RandomForestClassifier</td>\n",
       "      <td>none</td>\n",
       "      <td>0.837078</td>\n",
       "      <td>0.856212</td>\n",
       "      <td>0.573551</td>\n",
       "      <td>None</td>\n",
       "      <td>8</td>\n",
       "      <td>90</td>\n",
       "    </tr>\n",
       "    <tr>\n",
       "      <th>7</th>\n",
       "      <td>RandomForestClassifier</td>\n",
       "      <td>up_sample</td>\n",
       "      <td>0.848427</td>\n",
       "      <td>0.829659</td>\n",
       "      <td>0.611872</td>\n",
       "      <td>None</td>\n",
       "      <td>5</td>\n",
       "      <td>150</td>\n",
       "    </tr>\n",
       "  </tbody>\n",
       "</table>\n",
       "</div>"
      ],
      "text/plain": [
       "                    model     sample   auc_roc  accuracy        f1  \\\n",
       "1  RandomForestClassifier       none  0.837078  0.856212  0.573551   \n",
       "7  RandomForestClassifier  up_sample  0.848427  0.829659  0.611872   \n",
       "\n",
       "  class_weight max_depth n_estimators  \n",
       "1         None         8           90  \n",
       "7         None         5          150  "
      ]
     },
     "execution_count": 74,
     "metadata": {},
     "output_type": "execute_result"
    }
   ],
   "source": [
    "print('Лучшее значение показателей \"F1\", \"Accuracy\", \"AUC-ROC\":')\n",
    "quality_metrics.loc[\n",
    "    (quality_metrics['f1'] == quality_metrics['f1'].max()) |\n",
    "    (quality_metrics['accuracy'] == quality_metrics['accuracy'].max()) |\n",
    "    (quality_metrics['auc_roc'] == quality_metrics['auc_roc'].max())\n",
    "]"
   ]
  },
  {
   "cell_type": "markdown",
   "metadata": {},
   "source": [
    "Анализ показателей качества выявил наилучшую комбинацию модели и выборки. Это модель `RandomForestClassifier` с параметрами `n_estimators=8`, `max_depth=6`, `random_state=12345` с использованием сбалансированной обучающей выборки с увеличенным в 3 раза количеством объектов класса `1`. У этой комбинации самое лучшее значение показателя `F1`, равного 0.585434, и `AUC-ROC`, равного 0.832030. Только значение показателя `Accuracy` незначительно уступает этой же модели, но без балансировки."
   ]
  },
  {
   "cell_type": "code",
   "execution_count": 76,
   "metadata": {},
   "outputs": [
    {
     "data": {
      "text/html": [
       "<div>\n",
       "<style scoped>\n",
       "    .dataframe tbody tr th:only-of-type {\n",
       "        vertical-align: middle;\n",
       "    }\n",
       "\n",
       "    .dataframe tbody tr th {\n",
       "        vertical-align: top;\n",
       "    }\n",
       "\n",
       "    .dataframe thead th {\n",
       "        text-align: right;\n",
       "    }\n",
       "</style>\n",
       "<table border=\"1\" class=\"dataframe\">\n",
       "  <thead>\n",
       "    <tr style=\"text-align: right;\">\n",
       "      <th></th>\n",
       "      <th>model</th>\n",
       "      <th>sample</th>\n",
       "      <th>auc_roc</th>\n",
       "      <th>accuracy</th>\n",
       "      <th>f1</th>\n",
       "      <th>class_weight</th>\n",
       "      <th>max_depth</th>\n",
       "      <th>n_estimators</th>\n",
       "    </tr>\n",
       "  </thead>\n",
       "  <tbody>\n",
       "    <tr>\n",
       "      <th>0</th>\n",
       "      <td>DecisionTreeClassifier</td>\n",
       "      <td>none</td>\n",
       "      <td>0.821379</td>\n",
       "      <td>0.853206</td>\n",
       "      <td>0.552672</td>\n",
       "      <td>None</td>\n",
       "      <td>5</td>\n",
       "      <td>None</td>\n",
       "    </tr>\n",
       "    <tr>\n",
       "      <th>1</th>\n",
       "      <td>RandomForestClassifier</td>\n",
       "      <td>none</td>\n",
       "      <td>0.837078</td>\n",
       "      <td>0.856212</td>\n",
       "      <td>0.573551</td>\n",
       "      <td>None</td>\n",
       "      <td>8</td>\n",
       "      <td>90</td>\n",
       "    </tr>\n",
       "    <tr>\n",
       "      <th>2</th>\n",
       "      <td>LogisticRegression</td>\n",
       "      <td>none</td>\n",
       "      <td>0.737495</td>\n",
       "      <td>0.814128</td>\n",
       "      <td>0.311688</td>\n",
       "      <td>None</td>\n",
       "      <td>None</td>\n",
       "      <td>None</td>\n",
       "    </tr>\n",
       "    <tr>\n",
       "      <th>3</th>\n",
       "      <td>DecisionTreeClassifier</td>\n",
       "      <td>balance</td>\n",
       "      <td>0.821379</td>\n",
       "      <td>0.853206</td>\n",
       "      <td>0.552672</td>\n",
       "      <td>balanced</td>\n",
       "      <td>5</td>\n",
       "      <td>None</td>\n",
       "    </tr>\n",
       "    <tr>\n",
       "      <th>4</th>\n",
       "      <td>RandomForestClassifier</td>\n",
       "      <td>balance</td>\n",
       "      <td>0.845251</td>\n",
       "      <td>0.851703</td>\n",
       "      <td>0.543210</td>\n",
       "      <td>balanced</td>\n",
       "      <td>6</td>\n",
       "      <td>70</td>\n",
       "    </tr>\n",
       "    <tr>\n",
       "      <th>5</th>\n",
       "      <td>LogisticRegression</td>\n",
       "      <td>balance</td>\n",
       "      <td>0.740793</td>\n",
       "      <td>0.658818</td>\n",
       "      <td>0.463357</td>\n",
       "      <td>balanced</td>\n",
       "      <td>None</td>\n",
       "      <td>None</td>\n",
       "    </tr>\n",
       "    <tr>\n",
       "      <th>6</th>\n",
       "      <td>DecisionTreeClassifier</td>\n",
       "      <td>up_sample</td>\n",
       "      <td>0.775564</td>\n",
       "      <td>0.789579</td>\n",
       "      <td>0.543478</td>\n",
       "      <td>None</td>\n",
       "      <td>5</td>\n",
       "      <td>None</td>\n",
       "    </tr>\n",
       "    <tr>\n",
       "      <th>7</th>\n",
       "      <td>RandomForestClassifier</td>\n",
       "      <td>up_sample</td>\n",
       "      <td>0.848427</td>\n",
       "      <td>0.829659</td>\n",
       "      <td>0.611872</td>\n",
       "      <td>None</td>\n",
       "      <td>5</td>\n",
       "      <td>150</td>\n",
       "    </tr>\n",
       "    <tr>\n",
       "      <th>8</th>\n",
       "      <td>LogisticRegression</td>\n",
       "      <td>up_sample</td>\n",
       "      <td>0.740468</td>\n",
       "      <td>0.721944</td>\n",
       "      <td>0.469914</td>\n",
       "      <td>None</td>\n",
       "      <td>None</td>\n",
       "      <td>None</td>\n",
       "    </tr>\n",
       "    <tr>\n",
       "      <th>9</th>\n",
       "      <td>DecisionTreeClassifier</td>\n",
       "      <td>down_sample</td>\n",
       "      <td>0.628438</td>\n",
       "      <td>0.486974</td>\n",
       "      <td>0.408092</td>\n",
       "      <td>None</td>\n",
       "      <td>15</td>\n",
       "      <td>None</td>\n",
       "    </tr>\n",
       "    <tr>\n",
       "      <th>10</th>\n",
       "      <td>RandomForestClassifier</td>\n",
       "      <td>down_sample</td>\n",
       "      <td>0.791868</td>\n",
       "      <td>0.319138</td>\n",
       "      <td>0.370542</td>\n",
       "      <td>None</td>\n",
       "      <td>16</td>\n",
       "      <td>50</td>\n",
       "    </tr>\n",
       "    <tr>\n",
       "      <th>11</th>\n",
       "      <td>LogisticRegression</td>\n",
       "      <td>down_sample</td>\n",
       "      <td>0.731911</td>\n",
       "      <td>0.225451</td>\n",
       "      <td>0.342687</td>\n",
       "      <td>None</td>\n",
       "      <td>None</td>\n",
       "      <td>None</td>\n",
       "    </tr>\n",
       "  </tbody>\n",
       "</table>\n",
       "</div>"
      ],
      "text/plain": [
       "                     model       sample   auc_roc  accuracy        f1  \\\n",
       "0   DecisionTreeClassifier         none  0.821379  0.853206  0.552672   \n",
       "1   RandomForestClassifier         none  0.837078  0.856212  0.573551   \n",
       "2       LogisticRegression         none  0.737495  0.814128  0.311688   \n",
       "3   DecisionTreeClassifier      balance  0.821379  0.853206  0.552672   \n",
       "4   RandomForestClassifier      balance  0.845251  0.851703  0.543210   \n",
       "5       LogisticRegression      balance  0.740793  0.658818  0.463357   \n",
       "6   DecisionTreeClassifier    up_sample  0.775564  0.789579  0.543478   \n",
       "7   RandomForestClassifier    up_sample  0.848427  0.829659  0.611872   \n",
       "8       LogisticRegression    up_sample  0.740468  0.721944  0.469914   \n",
       "9   DecisionTreeClassifier  down_sample  0.628438  0.486974  0.408092   \n",
       "10  RandomForestClassifier  down_sample  0.791868  0.319138  0.370542   \n",
       "11      LogisticRegression  down_sample  0.731911  0.225451  0.342687   \n",
       "\n",
       "   class_weight max_depth n_estimators  \n",
       "0          None         5         None  \n",
       "1          None         8           90  \n",
       "2          None      None         None  \n",
       "3      balanced         5         None  \n",
       "4      balanced         6           70  \n",
       "5      balanced      None         None  \n",
       "6          None         5         None  \n",
       "7          None         5          150  \n",
       "8          None      None         None  \n",
       "9          None        15         None  \n",
       "10         None        16           50  \n",
       "11         None      None         None  "
      ]
     },
     "execution_count": 76,
     "metadata": {},
     "output_type": "execute_result"
    }
   ],
   "source": [
    "# Рзультаты анализа метрик качества всех моделей с разными выборками\n",
    "quality_metrics"
   ]
  }
 ],
 "metadata": {
  "kernelspec": {
   "display_name": "Python 3",
   "language": "python",
   "name": "python3"
  },
  "language_info": {
   "codemirror_mode": {
    "name": "ipython",
    "version": 3
   },
   "file_extension": ".py",
   "mimetype": "text/x-python",
   "name": "python",
   "nbconvert_exporter": "python",
   "pygments_lexer": "ipython3",
   "version": "3.10.5"
  }
 },
 "nbformat": 4,
 "nbformat_minor": 2
}
